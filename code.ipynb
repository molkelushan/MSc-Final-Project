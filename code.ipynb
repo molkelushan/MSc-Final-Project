{
 "cells": [
  {
   "cell_type": "markdown",
   "metadata": {},
   "source": [
    "## OBL Dataset"
   ]
  },
  {
   "cell_type": "code",
   "execution_count": 3,
   "metadata": {},
   "outputs": [
    {
     "name": "stdout",
     "output_type": "stream",
     "text": [
      "time: 356 µs (started: 2021-12-08 18:09:41 +00:00)\n"
     ]
    }
   ],
   "source": [
    "try:\n",
    "    %load_ext autotime\n",
    "except:\n",
    "    !pip install ipython-autotime\n",
    "    %load_ext autotime"
   ]
  },
  {
   "cell_type": "code",
   "execution_count": 65,
   "metadata": {
    "ExecuteTime": {
     "end_time": "2021-10-11T13:03:16.631246Z",
     "start_time": "2021-10-11T13:03:10.084340Z"
    }
   },
   "outputs": [
    {
     "name": "stdout",
     "output_type": "stream",
     "text": [
      "Dataset found in /Users/siqiwang/Documents/MSC/Project/Draft notebooks/obl2021, omitting download...\n",
      "time: 4.93 s (started: 2021-12-08 21:14:55 +00:00)\n"
     ]
    }
   ],
   "source": [
    "from openbiolink.obl2021 import OBL2021Dataset, OBL2021Evaluator\n",
    "import torch\n",
    "import pandas as pd\n",
    "import numpy as np\n",
    "\n",
    "dl = OBL2021Dataset()\n",
    "ev = OBL2021Evaluator()\n",
    "\n",
    "train = dl.training # torch.tensor of shape(num_train,3)\n",
    "valid = dl.validation # torch.tensor of shape(num_val,3)"
   ]
  },
  {
   "cell_type": "code",
   "execution_count": 171,
   "metadata": {
    "ExecuteTime": {
     "end_time": "2021-10-11T13:03:22.995413Z",
     "start_time": "2021-10-11T13:03:21.721181Z"
    }
   },
   "outputs": [
    {
     "name": "stdout",
     "output_type": "stream",
     "text": [
      "# Triples:     \n",
      "     Train 4192002\n",
      "     Valid 186301\n",
      "     Test  180964\n",
      "# Relations:   28\n",
      "# Entities:    180992\n",
      "\n",
      "time: 66.8 ms (started: 2021-12-09 15:15:45 +00:00)\n"
     ]
    }
   ],
   "source": [
    "# import pickle\n",
    "# with open('obl2021/_dict_of_heads.pkl', 'rb') as f:\n",
    "#     data = pickle.load(f)\n",
    "print(dl.stats)"
   ]
  },
  {
   "cell_type": "code",
   "execution_count": 172,
   "metadata": {
    "ExecuteTime": {
     "end_time": "2021-10-11T13:03:23.851526Z",
     "start_time": "2021-10-11T13:03:23.831995Z"
    },
    "scrolled": true,
    "tags": []
   },
   "outputs": [
    {
     "data": {
      "text/plain": [
       "15    1322942\n",
       "17     707539\n",
       "24     315154\n",
       "12     247380\n",
       "11     232345\n",
       "18     184184\n",
       "14     163200\n",
       "4      161453\n",
       "22     145354\n",
       "21     122434\n",
       "20     120463\n",
       "26     118235\n",
       "25     116616\n",
       "8       80406\n",
       "10      24952\n",
       "6       22844\n",
       "1       21394\n",
       "9       18227\n",
       "27      14909\n",
       "7       14859\n",
       "2       11748\n",
       "19       9134\n",
       "0        6399\n",
       "23       4142\n",
       "13       2658\n",
       "5        1842\n",
       "3        1118\n",
       "16         71\n",
       "Name: relation, dtype: int64"
      ]
     },
     "execution_count": 172,
     "metadata": {},
     "output_type": "execute_result"
    },
    {
     "name": "stdout",
     "output_type": "stream",
     "text": [
      "time: 277 ms (started: 2021-12-09 15:15:52 +00:00)\n"
     ]
    }
   ],
   "source": [
    "# data distribution\n",
    "\n",
    "train_df = pd.DataFrame(train.numpy())\n",
    "train_df.columns = ['head', 'relation', 'tail']\n",
    "train_df['relation'].value_counts()\n",
    "# train_df"
   ]
  },
  {
   "cell_type": "code",
   "execution_count": 173,
   "metadata": {
    "scrolled": true,
    "tags": []
   },
   "outputs": [
    {
     "data": {
      "text/plain": [
       "15    64957\n",
       "24    17566\n",
       "17    14005\n",
       "12    13725\n",
       "11    12936\n",
       "18     9695\n",
       "4      7908\n",
       "22     7538\n",
       "21     6578\n",
       "20     6343\n",
       "25     6136\n",
       "26     5261\n",
       "8      4233\n",
       "10     1323\n",
       "14     1323\n",
       "6      1180\n",
       "1      1131\n",
       "9       939\n",
       "7       774\n",
       "27      750\n",
       "2       612\n",
       "19      480\n",
       "0       367\n",
       "23      219\n",
       "13      150\n",
       "5       103\n",
       "3        67\n",
       "16        2\n",
       "Name: relation, dtype: int64"
      ]
     },
     "execution_count": 173,
     "metadata": {},
     "output_type": "execute_result"
    },
    {
     "name": "stdout",
     "output_type": "stream",
     "text": [
      "time: 41.3 ms (started: 2021-12-09 15:15:55 +00:00)\n"
     ]
    }
   ],
   "source": [
    "valid_df = pd.DataFrame(valid.numpy())\n",
    "valid_df.columns = ['head', 'relation', 'tail']\n",
    "valid_df['relation'].value_counts()"
   ]
  },
  {
   "cell_type": "code",
   "execution_count": 174,
   "metadata": {},
   "outputs": [
    {
     "data": {
      "text/plain": [
       "tensor([     0,      1,      2,  ..., 180989, 180990, 180991])"
      ]
     },
     "execution_count": 174,
     "metadata": {},
     "output_type": "execute_result"
    },
    {
     "name": "stdout",
     "output_type": "stream",
     "text": [
      "time: 59.6 ms (started: 2021-12-09 15:15:59 +00:00)\n"
     ]
    }
   ],
   "source": [
    "# Set of unfiltered candidates that can substitute for ? in (h,r,?) and (?,r,t).\n",
    "# just all the entities in the KG\n",
    "\n",
    "dl.candidates"
   ]
  },
  {
   "cell_type": "code",
   "execution_count": 175,
   "metadata": {
    "scrolled": true,
    "tags": []
   },
   "outputs": [
    {
     "data": {
      "text/plain": [
       "15    64846\n",
       "24    19543\n",
       "12    15082\n",
       "11    14245\n",
       "18    10217\n",
       "4      8391\n",
       "22     8098\n",
       "20     6903\n",
       "21     6782\n",
       "25     6485\n",
       "26     5414\n",
       "8      4456\n",
       "10     1398\n",
       "6      1262\n",
       "14     1200\n",
       "1      1161\n",
       "9       998\n",
       "27      814\n",
       "7       755\n",
       "17      706\n",
       "2       674\n",
       "19      561\n",
       "0       350\n",
       "23      275\n",
       "13      155\n",
       "5       115\n",
       "3        74\n",
       "16        4\n",
       "Name: relation, dtype: int64"
      ]
     },
     "execution_count": 175,
     "metadata": {},
     "output_type": "execute_result"
    },
    {
     "name": "stdout",
     "output_type": "stream",
     "text": [
      "time: 28.2 ms (started: 2021-12-09 15:16:02 +00:00)\n"
     ]
    }
   ],
   "source": [
    "test_df = pd.DataFrame(dl.testing.numpy())\n",
    "test_df.columns = ['head', 'relation', 'tail']\n",
    "test_df['relation'].value_counts()"
   ]
  },
  {
   "cell_type": "markdown",
   "metadata": {},
   "source": [
    "## Embedding models"
   ]
  },
  {
   "cell_type": "markdown",
   "metadata": {},
   "source": [
    "### Store embeddings"
   ]
  },
  {
   "cell_type": "code",
   "execution_count": 176,
   "metadata": {},
   "outputs": [
    {
     "name": "stdout",
     "output_type": "stream",
     "text": [
      "time: 199 ms (started: 2021-12-09 15:16:15 +00:00)\n"
     ]
    }
   ],
   "source": [
    "# TransE model\n",
    "# embeddings of entities and relations\n",
    "\n",
    "tse_entity_emb = torch.from_numpy(np.load(\"./ckpts/TransE_l2_OBL2021_3/OBL2021_TransE_l2_entity.npy\"))\n",
    "tse_relation_emb = torch.from_numpy(np.load(\"./ckpts/TransE_l2_OBL2021_3/OBL2021_TransE_l2_relation.npy\"))"
   ]
  },
  {
   "cell_type": "code",
   "execution_count": 177,
   "metadata": {},
   "outputs": [
    {
     "name": "stdout",
     "output_type": "stream",
     "text": [
      "time: 218 ms (started: 2021-12-09 15:16:16 +00:00)\n"
     ]
    }
   ],
   "source": [
    "# DistMult model\n",
    "\n",
    "dist_entity_emb = torch.from_numpy(np.load(\"./ckpts/DistMult_OBL2021_0/OBL2021_DistMult_entity.npy\"))\n",
    "dist_relation_emb = torch.from_numpy(np.load(\"./ckpts/DistMult_OBL2021_0/OBL2021_DistMult_relation.npy\"))"
   ]
  },
  {
   "cell_type": "code",
   "execution_count": 178,
   "metadata": {},
   "outputs": [
    {
     "name": "stdout",
     "output_type": "stream",
     "text": [
      "time: 200 ms (started: 2021-12-09 15:16:17 +00:00)\n"
     ]
    }
   ],
   "source": [
    "# ComplEx model\n",
    "\n",
    "cplx_entity_emb = torch.from_numpy(np.load(\"./ckpts/ComplEx_OBL2021_1/OBL2021_ComplEx_entity.npy\"))\n",
    "cplx_relation_emb = torch.from_numpy(np.load(\"./ckpts/ComplEx_OBL2021_1/OBL2021_ComplEx_relation.npy\"))"
   ]
  },
  {
   "cell_type": "markdown",
   "metadata": {},
   "source": [
    "### Define score functions for TransE, DistMult and ComplEx"
   ]
  },
  {
   "cell_type": "code",
   "execution_count": 179,
   "metadata": {},
   "outputs": [
    {
     "data": {
      "text/plain": [
       "0.3289828300476074"
      ]
     },
     "execution_count": 179,
     "metadata": {},
     "output_type": "execute_result"
    },
    {
     "name": "stdout",
     "output_type": "stream",
     "text": [
      "time: 45.8 ms (started: 2021-12-09 15:16:21 +00:00)\n"
     ]
    }
   ],
   "source": [
    "# calculate the transE score for a triple\n",
    "\n",
    "def transe_score(entity_emb, relation_emb, triple):\n",
    "    score = entity_emb[triple[0]] + relation_emb[triple[1]] - entity_emb[triple[2]]\n",
    "    return 8 - torch.norm(score, p=2, dim=-1).numpy()\n",
    "transe_score(tse_entity_emb, tse_relation_emb, valid[1])"
   ]
  },
  {
   "cell_type": "code",
   "execution_count": 180,
   "metadata": {},
   "outputs": [
    {
     "data": {
      "text/plain": [
       "array(0.2825771, dtype=float32)"
      ]
     },
     "execution_count": 180,
     "metadata": {},
     "output_type": "execute_result"
    },
    {
     "name": "stdout",
     "output_type": "stream",
     "text": [
      "time: 29.7 ms (started: 2021-12-09 15:16:22 +00:00)\n"
     ]
    }
   ],
   "source": [
    "# calculate the DistMult score for a triple\n",
    "\n",
    "def distmult_score(entity_emb, relation_emb, triple):\n",
    "    score = entity_emb[triple[0]] * relation_emb[triple[1]] * entity_emb[triple[2]]\n",
    "    return torch.sum(score, dim=-1).numpy()\n",
    "distmult_score(dist_entity_emb, dist_relation_emb, valid[1])"
   ]
  },
  {
   "cell_type": "code",
   "execution_count": 181,
   "metadata": {},
   "outputs": [
    {
     "data": {
      "text/plain": [
       "array(0.6582771, dtype=float32)"
      ]
     },
     "execution_count": 181,
     "metadata": {},
     "output_type": "execute_result"
    },
    {
     "name": "stdout",
     "output_type": "stream",
     "text": [
      "time: 12.2 ms (started: 2021-12-09 15:16:25 +00:00)\n"
     ]
    }
   ],
   "source": [
    "# calculate the ComplEx score for a triple\n",
    "\n",
    "def complex_score(entity_emb, relation_emb, triple):\n",
    "    real_head, img_head = torch.chunk(entity_emb[triple[0]], 2, dim=-1)\n",
    "    real_tail, img_tail = torch.chunk(entity_emb[triple[2]], 2, dim=-1)\n",
    "    real_rel, img_rel = torch.chunk(relation_emb[triple[1]], 2, dim=-1)\n",
    "\n",
    "    score = real_head * real_tail * real_rel \\\n",
    "            + img_head * img_tail * real_rel \\\n",
    "            + real_head * img_tail * img_rel \\\n",
    "            - img_head * real_tail * img_rel\n",
    "    return torch.sum(score, -1).numpy()\n",
    "complex_score(cplx_entity_emb, cplx_relation_emb, valid[1])"
   ]
  },
  {
   "cell_type": "markdown",
   "metadata": {},
   "source": [
    "### Generate and analyse predictions"
   ]
  },
  {
   "cell_type": "code",
   "execution_count": 193,
   "metadata": {},
   "outputs": [
    {
     "name": "stdout",
     "output_type": "stream",
     "text": [
      "./ckpts/ComplEx_OBL2021_1/config.json\n",
      "{'dataset': 'OBL2021', 'model': 'ComplEx', 'emb_size': 380, 'max_train_step': 800000, 'batch_size': 1024, 'neg_sample_size': 512, 'lr': 0.1, 'gamma': 12.0, 'double_ent': False, 'double_rel': False, 'neg_adversarial_sampling': True, 'adversarial_temperature': 1.0, 'regularization_coef': 2e-06, 'regularization_norm': 3, 'emap_file': 'entities.tsv', 'rmap_file': 'relations.tsv'}\n"
     ]
    },
    {
     "name": "stderr",
     "output_type": "stream",
     "text": [
      "100%|███████████████████████████████████████| 1810/1810 [16:31<00:00,  1.83it/s]\n"
     ]
    },
    {
     "name": "stdout",
     "output_type": "stream",
     "text": [
      "Submission file saved here: /Users/siqiwang/Documents/MSC/Project/Draft notebooks/pred_OBL2021.npz\n",
      "Please copy also the following line in the respective field of the submission form:\n",
      "{'h10': 0.5087254643440247}\n",
      "time: 16min 33s (started: 2021-12-08 10:45:22 +00:00)\n"
     ]
    }
   ],
   "source": [
    "# modified from https://github.com/nomisto/openbiolink-2021-embedding-baseline/blob/main/save_test_submission.py\n",
    "\n",
    "import os\n",
    "from dglke.train_pytorch import load_model_from_checkpoint\n",
    "from dglke.utils import load_model_config\n",
    "from tqdm import tqdm\n",
    "\n",
    "# ckpt_path = \"./ckpts/DistMult_OBL2021_0\"\n",
    "# ckpt_path = \"./ckpts/TransE_l2_OBL2021_3\"\n",
    "ckpt_path = \"./ckpts/ComplEx_OBL2021_1\"\n",
    "config = load_model_config(os.path.join(ckpt_path, 'config.json'))\n",
    "class Args:\n",
    "    model_path = ckpt_path\n",
    "    batch_size_eval = 100\n",
    "    gpu = [-1]\n",
    "args = Args()\n",
    "args.model_name = config[\"model\"]\n",
    "args.hidden_dim = config[\"emb_size\"]\n",
    "args.gamma = config[\"gamma\"]\n",
    "args.double_ent = config[\"double_ent\"]\n",
    "args.double_rel = config[\"double_rel\"]\n",
    "args.dataset = config[\"dataset\"]\n",
    "args.train = False\n",
    "args.valid = False\n",
    "args.test = True\n",
    "args.strict_rel_part = False\n",
    "args.soft_rel_part = False\n",
    "args.async_update = False\n",
    "args.has_edge_importance = False\n",
    "args.mix_cpu_gpu = False\n",
    "gpu_id = args.gpu[0]\n",
    "\n",
    "# ev = OBL2021Evaluator()\n",
    "# dl = OBL2021Dataset(\"./data/OBL2021\")\n",
    "n_entities = dl.num_entities\n",
    "n_relations = dl.num_relations\n",
    "\n",
    "model = load_model_from_checkpoint(args, n_entities, n_relations, ckpt_path)\n",
    "\n",
    "head_neg_score = model.score_func.create_neg(True)\n",
    "tail_neg_score = model.score_func.create_neg(False)\n",
    "head_neg_prepare = model.score_func.create_neg_prepare(True)\n",
    "tail_neg_prepare = model.score_func.create_neg_prepare(False)\n",
    "\n",
    "entity_emb = model.entity_emb(torch.arange(dl.num_entities).long(), gpu_id)\n",
    "relation_emb = model.relation_emb(torch.arange(dl.num_relations).long(), gpu_id)\n",
    "\n",
    "n_batches, batches = dl.get_test_batches(args.batch_size_eval)\n",
    "\n",
    "top10_tails = []\n",
    "top10_heads = []\n",
    "logs_h = []\n",
    "logs_t = []\n",
    "\n",
    "for batch in tqdm(batches, total=n_batches):\n",
    "    \n",
    "    pos_head_emb = entity_emb[batch[:, 0], :]\n",
    "    pos_tail_emb = entity_emb[batch[:, 2], :]\n",
    "    pos_rel = batch[:, 1].long()\n",
    "    pos_rel_emb = relation_emb[pos_rel, :]\n",
    "\n",
    "    neg_head, tail = head_neg_prepare(pos_rel, 1, entity_emb, pos_tail_emb, gpu_id, False)\n",
    "    scores_head = head_neg_score(neg_head, pos_rel_emb, tail,\n",
    "                                    1, len(batch), dl.num_entities).squeeze(0)\n",
    "    head, neg_tail = tail_neg_prepare(pos_rel, 1, pos_head_emb, entity_emb, gpu_id, False)\n",
    "    scores_tail = tail_neg_score(head, pos_rel_emb, neg_tail,\n",
    "                                    1, len(batch), dl.num_entities).squeeze(0)\n",
    "    \n",
    "    pos_score = torch.diagonal(tail_neg_score(pos_head_emb, pos_rel_emb, pos_tail_emb,\n",
    "                                    1, len(batch), len(batch)).squeeze(0), 0).reshape(len(batch),1)\n",
    "    \n",
    "    scores_head = dl.filter_scores(\n",
    "        batch,\n",
    "        scores_head,\n",
    "        0,\n",
    "        float('-Inf')\n",
    "    )\n",
    "    scores_tail = dl.filter_scores(\n",
    "        batch,\n",
    "        scores_tail,\n",
    "        2,\n",
    "        float('-Inf')\n",
    "    )\n",
    "\n",
    "    rankings_h = torch.sum(scores_head > pos_score, dim=1) + 1\n",
    "    rankings_h = rankings_h.numpy()\n",
    "    rankings_t = torch.sum(scores_tail > pos_score, dim=1) + 1\n",
    "    rankings_t = rankings_t.numpy()\n",
    "\n",
    "    for i in range(len(batch)):\n",
    "        ranking_h = rankings_h[i]\n",
    "        ranking_t = rankings_t[i]\n",
    "        logs_h.append({\n",
    "            'MRR': 1.0 / ranking_h,\n",
    "            'MR': float(ranking_h),\n",
    "            # 'HITS@1': 1.0 if ranking_h <= 1 else 0.0,\n",
    "            # 'HITS@3': 1.0 if ranking_h <= 3 else 0.0,\n",
    "            # 'HITS@10': 1.0 if ranking_h <= 10 else 0.0\n",
    "        })\n",
    "        logs_t.append({\n",
    "            'MRR': 1.0 / ranking_t,\n",
    "            'MR': float(ranking_t),\n",
    "            # 'HITS@1': 1.0 if ranking_t <= 1 else 0.0,\n",
    "            # 'HITS@3': 1.0 if ranking_t <= 3 else 0.0,\n",
    "            # 'HITS@10': 1.0 if ranking_t <= 10 else 0.0\n",
    "        })    \n",
    "\n",
    "    top10_heads.append(torch.topk(scores_head, 10)[1])\n",
    "    top10_tails.append(torch.topk(scores_tail, 10)[1])\n",
    "\n",
    "top10_heads = torch.cat(top10_heads, dim=0)\n",
    "top10_tails = torch.cat(top10_tails, dim=0)\n",
    "\n",
    "ev.eval(top10_heads, top10_tails, dl.testing)"
   ]
  },
  {
   "cell_type": "code",
   "execution_count": 197,
   "metadata": {},
   "outputs": [
    {
     "name": "stdout",
     "output_type": "stream",
     "text": [
      "-------------- Test result for head --------------\n",
      "Test average for head MRR: 0.13007238641250454\n",
      "Test average for head MR: 892.6067670917972\n",
      "Test average for head HITS@1: 0.041953095643332376\n",
      "Test average for head HITS@3: 0.14317212263212573\n",
      "Test average for head HITS@10: 0.32115779934130545\n",
      "-----------------------------------------\n",
      "-------------- Test result for tail --------------\n",
      "Test average for tail MRR: 0.3504361650766187\n",
      "Test average for tail MR: 572.3487268185937\n",
      "Test average for tail HITS@1: 0.20189650980305476\n",
      "Test average for tail HITS@3: 0.40570500209986515\n",
      "Test average for tail HITS@10: 0.6881092371963484\n",
      "-----------------------------------------\n",
      "-------------- Test result --------------\n",
      "Test average MRR: 0.2402542757445616\n",
      "Test average MR: 732.4777469551955\n",
      "Test average HITS@1: 0.12192480272319356\n",
      "Test average HITS@3: 0.27443856236599545\n",
      "Test average HITS@10: 0.504633518268827\n",
      "-----------------------------------------\n",
      "time: 301 ms (started: 2021-12-08 11:05:46 +00:00)\n"
     ]
    }
   ],
   "source": [
    "metrics_h = {}\n",
    "metrics_t = {}\n",
    "metrics = {}\n",
    "for metric in logs_h[0].keys():\n",
    "    metrics_h[metric] = sum([log[metric] for log in logs_h]) / len(logs_h)\n",
    "print(\"-------------- Test result for head --------------\")\n",
    "for k, v in metrics_h.items():\n",
    "    print('Test average for head {}: {}'.format(k, v))\n",
    "print(\"-----------------------------------------\")\n",
    "\n",
    "for metric in logs_t[0].keys():\n",
    "    metrics_t[metric] = sum([log[metric] for log in logs_t]) / len(logs_t)\n",
    "print(\"-------------- Test result for tail --------------\")\n",
    "for k, v in metrics_t.items():\n",
    "    print('Test average for tail {}: {}'.format(k, v))\n",
    "print(\"-----------------------------------------\")\n",
    "\n",
    "for metric in logs_h[0].keys():\n",
    "    metrics[metric] = (sum([log[metric] for log in logs_h]) + sum([log[metric] for log in logs_t])) / (2 * len(logs_h))\n",
    "print(\"-------------- Test result --------------\")\n",
    "for k, v in metrics.items():\n",
    "    print('Test average {}: {}'.format(k, v))\n",
    "print(\"-----------------------------------------\")"
   ]
  },
  {
   "cell_type": "code",
   "execution_count": 56,
   "metadata": {},
   "outputs": [
    {
     "data": {
      "text/plain": [
       "array([[167833, 168666, 171063, ..., 167793, 168680, 168420],\n",
       "       [168819, 169140, 171063, ..., 173717, 169235, 167935],\n",
       "       [ 77274,  75218,  82786, ...,  83390,  74060,  72368],\n",
       "       ...,\n",
       "       [  2592,   2418,   6982, ...,   8206,   2503,   5569],\n",
       "       [ 76393,  75273,  86351, ...,  85010,  85950,  81428],\n",
       "       [ 78513,  78815,  84972, ...,  88182,  89411,  77549]], dtype=int32)"
      ]
     },
     "execution_count": 56,
     "metadata": {},
     "output_type": "execute_result"
    },
    {
     "name": "stdout",
     "output_type": "stream",
     "text": [
      "time: 117 ms (started: 2021-12-08 21:09:51 +00:00)\n"
     ]
    }
   ],
   "source": [
    "# try to analyse the predictions made by TransE, DistMult, ComplEx and AnyBURL\n",
    "# assume: (h, r, ?) then (?, r, t)\n",
    "\n",
    "transe_pred = np.load(\"./pred/pred_OBL2021_transe.npz\")\n",
    "transe_pred = transe_pred[\"pred_top10\"]\n",
    "transe_pred"
   ]
  },
  {
   "cell_type": "code",
   "execution_count": 57,
   "metadata": {},
   "outputs": [
    {
     "data": {
      "text/plain": [
       "array([[168666, 167833, 167590, ..., 169156, 168813, 167759],\n",
       "       [168819, 168031, 167451, ..., 169140, 168896, 172605],\n",
       "       [ 77274,  73401,  86899, ...,  77585,  83239,  75218],\n",
       "       ...,\n",
       "       [  2595,   2592, 168888, ...,   4429,   8852,   2291],\n",
       "       [ 86351,  81145,  84825, ...,  77329,  85011,  85950],\n",
       "       [ 78513,  74539,  76125, ...,  83441,  70799,  88707]], dtype=int32)"
      ]
     },
     "execution_count": 57,
     "metadata": {},
     "output_type": "execute_result"
    },
    {
     "name": "stdout",
     "output_type": "stream",
     "text": [
      "time: 104 ms (started: 2021-12-08 21:09:57 +00:00)\n"
     ]
    }
   ],
   "source": [
    "dist_pred = np.load(\"./pred/pred_OBL2021_dist.npz\")\n",
    "dist_pred = dist_pred[\"pred_top10\"]\n",
    "dist_pred"
   ]
  },
  {
   "cell_type": "code",
   "execution_count": 58,
   "metadata": {},
   "outputs": [
    {
     "data": {
      "text/plain": [
       "array([[167833, 168666,     18, ..., 168269, 176376, 168426],\n",
       "       [168819,     18, 169235, ..., 167935, 168863, 169156],\n",
       "       [ 77274,  73439,  83390, ...,  77585,  89366,  75049],\n",
       "       ...,\n",
       "       [167833,   4087, 171597, ...,   2509,  24370,   4576],\n",
       "       [ 76393,  86351,  84825, ...,  85011,  81014,  85010],\n",
       "       [ 78513,  70231,  72804, ...,  85896,  77549,  86533]], dtype=int32)"
      ]
     },
     "execution_count": 58,
     "metadata": {},
     "output_type": "execute_result"
    },
    {
     "name": "stdout",
     "output_type": "stream",
     "text": [
      "time: 101 ms (started: 2021-12-08 21:09:59 +00:00)\n"
     ]
    }
   ],
   "source": [
    "cplx_pred = np.load(\"./pred/pred_OBL2021_cplx2.npz\")\n",
    "cplx_pred = cplx_pred[\"pred_top10\"]\n",
    "cplx_pred"
   ]
  },
  {
   "cell_type": "code",
   "execution_count": 59,
   "metadata": {},
   "outputs": [
    {
     "data": {
      "text/plain": [
       "array([[167833, 168666, 168677, ..., 169745, 172605, 172329],\n",
       "       [169140, 168819, 168889, ..., 167451, 168863, 168896],\n",
       "       [ 70480,  72013,  72133, ...,  75011,  84912,  74873],\n",
       "       ...,\n",
       "       [  4510,   4804,   3391, ...,   4833,   4840,   4825],\n",
       "       [ 81145,  81428,  87494, ...,  81014,  81978,  81987],\n",
       "       [ 86533,  71520,  78815, ...,  83566,  71915,  71988]], dtype=int32)"
      ]
     },
     "execution_count": 59,
     "metadata": {},
     "output_type": "execute_result"
    },
    {
     "name": "stdout",
     "output_type": "stream",
     "text": [
      "time: 104 ms (started: 2021-12-08 21:10:01 +00:00)\n"
     ]
    }
   ],
   "source": [
    "any_pred = np.load(\"./pred/pred_OBL2021_anyburl.npz\")\n",
    "any_pred = any_pred[\"pred_top10\"]\n",
    "any_pred"
   ]
  },
  {
   "cell_type": "code",
   "execution_count": 93,
   "metadata": {},
   "outputs": [
    {
     "data": {
      "text/plain": [
       "array([[168666, 167833, 167590, ..., 169156, 168813, 167759],\n",
       "       [168819, 168031, 167451, ..., 169140, 168896, 172605],\n",
       "       [ 77274,  73401,  86899, ...,  77585,  83239,  75218],\n",
       "       ...,\n",
       "       [  7926, 171459,   7925, ...,   7084, 167817, 167462],\n",
       "       [ 86559,  76393,  70602, ...,  75273,  74990,  85011],\n",
       "       [165936,  69822,  69859, ...,  69959,  69946, 165763]], dtype=int32)"
      ]
     },
     "execution_count": 93,
     "metadata": {},
     "output_type": "execute_result"
    }
   ],
   "source": [
    "# predictions for (h, r, ?)\n",
    "\n",
    "dist_pred[:dl.testing.shape[0], :]"
   ]
  },
  {
   "cell_type": "code",
   "execution_count": null,
   "metadata": {},
   "outputs": [],
   "source": [
    "# predictions for (?, r, t)\n",
    "\n",
    "dist_pred[dl.testing.shape[0]:, :]"
   ]
  },
  {
   "cell_type": "markdown",
   "metadata": {},
   "source": [
    "## Rule-based model: AnyBURL"
   ]
  },
  {
   "cell_type": "code",
   "execution_count": 2,
   "metadata": {},
   "outputs": [],
   "source": [
    "# rules generated by AnyBURL, in the format of:\n",
    "# {predicted: int}\\t{correctlyPredicted: int}\\t{confidence: double}\\t{rule}\n",
    "rule_file_path = \"./rules-1000\"\n",
    "\n",
    "with open(rule_file_path) as infile:\n",
    "    rules = infile.readlines()\n",
    "rules = [x.strip() for x in rules]\n",
    "rules = [x.split(\"\\t\") for x in rules]\n",
    "\n",
    "# transform rules (list) to a DataFrame\n",
    "rules_df = pd.DataFrame(rules)\n",
    "rules_df.columns = [\"predicted\", \"correct_pred\", \"conf\", \"tbc\"]\n",
    "rules_df[\"conf\"] = rules_df[\"conf\"].apply(lambda x: float(x))\n",
    "\n",
    "# separate head atom and body atoms of the rules\n",
    "rules_df[\"head_atom_relation\"] = rules_df[\"tbc\"].apply(lambda x: x.split(\"(\")[0])\n",
    "rules_df[\"head_atom_head\"] = rules_df[\"tbc\"].apply(lambda x: x.split(\"(\")[1].split(\",\")[0])\n",
    "rules_df[\"head_atom_tail\"] = rules_df[\"tbc\"].apply(lambda x: x.split(\")\")[0].split(\",\")[1])\n",
    "rules_df[\"body_atom\"] = rules_df[\"tbc\"].apply(lambda x: x.split(\"= \")[1])\n",
    "# record the length of body atoms\n",
    "rules_df[\"body_len\"] = rules_df[\"body_atom\"].apply(lambda x: len(x.split(\", \")))\n",
    "rules_df.drop(columns=\"tbc\",inplace=True)"
   ]
  },
  {
   "cell_type": "code",
   "execution_count": 16,
   "metadata": {
    "scrolled": true,
    "tags": []
   },
   "outputs": [
    {
     "data": {
      "text/plain": [
       "17    187288\n",
       "15    122399\n",
       "24    100768\n",
       "11     97784\n",
       "12     81205\n",
       "14     26320\n",
       "4      24870\n",
       "20     20131\n",
       "25     16449\n",
       "18     15945\n",
       "22     14196\n",
       "10     13456\n",
       "21     12600\n",
       "6       8066\n",
       "8       7702\n",
       "19      7046\n",
       "7       4894\n",
       "9       4700\n",
       "2       3703\n",
       "23      3359\n",
       "26      1712\n",
       "1       1325\n",
       "5        966\n",
       "3        617\n",
       "0        517\n",
       "13       144\n",
       "27        98\n",
       "16         9\n",
       "Name: head_atom_relation, dtype: int64"
      ]
     },
     "execution_count": 16,
     "metadata": {},
     "output_type": "execute_result"
    }
   ],
   "source": [
    "# rules_df[((rules_df[\"head_atom_head\"] != \"X\") | (rules_df[\"head_atom_tail\"] != \"Y\")) & (rules_df[\"contain_A\"] == True)]\n",
    "# rules_df\n",
    "# rules_df[\"contain_A\"] = rules_df[\"body_atom\"].apply(lambda x: \"A\" in x)\n",
    "rules_df[\"head_atom_relation\"].value_counts()"
   ]
  },
  {
   "cell_type": "code",
   "execution_count": 17,
   "metadata": {},
   "outputs": [],
   "source": [
    "# store training data in a list\n",
    "training_list = dl.training.tolist()\n",
    "\n",
    "# transform training list to the form of r(h, t) for later use\n",
    "# i.e. [86169, 22, 61677] -> \"22(86169,61677)\"\n",
    "trans_training_list = [str(t[1]) + \"(\" + str(t[0]) + \",\" + str(t[2]) + \")\" for t in training_list]"
   ]
  },
  {
   "cell_type": "markdown",
   "metadata": {},
   "source": [
    "### Define the score function for AnyBURL"
   ]
  },
  {
   "cell_type": "code",
   "execution_count": 18,
   "metadata": {},
   "outputs": [],
   "source": [
    "# calculate the anyBURL score for a triple\n",
    "# rules: transformed dataframe of the rules file, triple: tensor(h, r, t) that does not exist in training set\n",
    "def anyBURL_score(rules, triple):\n",
    "    # filter the rules with head atom == r(h, Y), r(X, t) and r(X, Y)\n",
    "    filtered = rules[rules[\"head_atom_relation\"] == str(triple[1].numpy())]\n",
    "    filtered = filtered[(filtered[\"head_atom_head\"] == str(triple[0].numpy())) | (filtered[\"head_atom_tail\"] == str(triple[2].numpy())) | ((filtered[\"head_atom_head\"] == \"X\") & (filtered[\"head_atom_tail\"] == \"Y\"))]\n",
    "\n",
    "    # replace X with head and Y with tail\n",
    "    filtered[\"body_atom\"] = filtered[\"body_atom\"].apply(lambda x: x.replace(\"X\", str(triple[0].numpy())))\n",
    "    filtered[\"body_atom\"] = filtered[\"body_atom\"].apply(lambda x: x.replace(\"Y\", str(triple[2].numpy())))\n",
    "\n",
    "    idx = []\n",
    "    # iterate through rows of filtered rules to see if their body atoms fulfill conditions\n",
    "    for index1, row1 in filtered.iterrows():\n",
    "        # body atoms do not contain A or B\n",
    "        if \"A\" not in row1[\"body_atom\"]:\n",
    "            if row1[\"body_atom\"] in trans_training_list: idx.append(index1)\n",
    "\n",
    "        else:\n",
    "            # set an indicator to see if body atoms are possibly generated by training set\n",
    "            fulfilled = False\n",
    "            # create a new dataframe to store the body atoms\n",
    "            ba_df = pd.DataFrame(row1[\"body_atom\"].split(\", \"), columns=[\"tbc\"])\n",
    "            ba_df[\"relation\"] = ba_df[\"tbc\"].apply(lambda x: x.split(\"(\")[0])\n",
    "            ba_df[\"head\"] = ba_df[\"tbc\"].apply(lambda x: x.split(\"(\")[1].split(\",\")[0])\n",
    "            ba_df[\"tail\"] = ba_df[\"tbc\"].apply(lambda x: x.split(\")\")[0].split(\",\")[1])\n",
    "            ba_df.drop(columns=\"tbc\", inplace=True)\n",
    "            # body atoms contain only A\n",
    "            if \"B\" not in row1[\"body_atom\"]:\n",
    "                # add an empty column to store the possible value of A\n",
    "                ba_df[\"possible_A\"] = \"\"\n",
    "                for index2, row2 in ba_df.iterrows():\n",
    "                    if row2[\"tail\"] == \"A\":\n",
    "                        row2[\"possible_A\"] = train_df[(train_df[\"head\"] == int(row2[\"head\"])) & (train_df[\"relation\"] == int(row2[\"relation\"]))][\"tail\"].tolist()\n",
    "                    elif row2[\"head\"] == \"A\":\n",
    "                        row2[\"possible_A\"] = train_df[(train_df[\"tail\"] == int(row2[\"tail\"])) & (train_df[\"relation\"] == int(row2[\"relation\"]))][\"head\"].tolist()\n",
    "                if ba_df.count()[\"relation\"] > 1:\n",
    "                    # check if two lists contain common element\n",
    "                    fulfilled = not set(ba_df.iloc[0][\"possible_A\"]).isdisjoint(ba_df.iloc[1][\"possible_A\"])\n",
    "                else:\n",
    "                    # check if any element in possible_A\n",
    "                    fulfilled = not ba_df.iloc[0][\"possible_A\"] == \"\"\n",
    "\n",
    "            # body atoms contain A and B\n",
    "            else:\n",
    "            # add empty columns to store the possible value of A and B\n",
    "                ba_df[\"possible_A\"] = \"\"\n",
    "                ba_df[\"possible_B\"] = \"\"\n",
    "                for index3, row3 in ba_df.iterrows():\n",
    "                    # r(A, B)\n",
    "                    if row3[\"head\"] == \"A\" and row3[\"tail\"] == \"B\":\n",
    "                        row3[\"possible_A\"] = train_df[train_df[\"relation\"] == int(row3[\"relation\"])][\"head\"].tolist()\n",
    "                        row3[\"possible_B\"] = train_df[train_df[\"relation\"] == int(row3[\"relation\"])][\"tail\"].tolist()\n",
    "                    # r(B, A)\n",
    "                    elif row3[\"head\"] == \"B\" and row3[\"tail\"] == \"A\":\n",
    "                        row3[\"possible_A\"] = train_df[train_df[\"relation\"] == int(row3[\"relation\"])][\"tail\"].tolist()\n",
    "                        row3[\"possible_B\"] = train_df[train_df[\"relation\"] == int(row3[\"relation\"])][\"head\"].tolist()\n",
    "                    # r(A, X)\n",
    "                    elif row3[\"head\"] == \"A\":\n",
    "                        row3[\"possible_A\"] = train_df[(train_df[\"tail\"] == int(row3[\"tail\"])) & (train_df[\"relation\"] == int(row3[\"relation\"]))][\"head\"].tolist()\n",
    "                    # r(X, A)\n",
    "                    elif row3[\"tail\"] == \"A\":\n",
    "                        row3[\"possible_A\"] = train_df[(train_df[\"head\"] == int(row3[\"head\"])) & (train_df[\"relation\"] == int(row3[\"relation\"]))][\"tail\"].tolist()\n",
    "                    # r(B, Y)\n",
    "                    elif row3[\"head\"] == \"B\":\n",
    "                        row3[\"possible_B\"] = train_df[(train_df[\"tail\"] == int(row3[\"tail\"])) & (train_df[\"relation\"] == int(row3[\"relation\"]))][\"head\"].tolist()\n",
    "                    # r(Y, B)\n",
    "                    elif row3[\"tail\"] == \"B\":\n",
    "                        row3[\"possible_B\"] = train_df[(train_df[\"head\"] == int(row3[\"head\"])) & (train_df[\"relation\"] == int(row3[\"relation\"]))][\"tail\"].tolist()\n",
    "                # check if lists of A and lists of B contain common element at the same time\n",
    "                fulfilled = (not set(ba_df.iloc[0][\"possible_A\"]).isdisjoint(ba_df.iloc[1][\"possible_A\"])) & (not set(ba_df.iloc[1][\"possible_B\"]).isdisjoint(ba_df.iloc[2][\"possible_B\"]))\n",
    "            if fulfilled == True: idx.append(index1)\n",
    "    if len(idx) < 1:\n",
    "        score = 0\n",
    "    else: \n",
    "        # retrieve the max confidence\n",
    "        max_row = rules.loc[idx[np.argmax(rules.loc[idx][\"conf\"].tolist())]]\n",
    "        # calculate the score for this triple\n",
    "        score = int(max_row[\"correct_pred\"]) / (int(max_row[\"predicted\"]) + 5)\n",
    "    return score\n"
   ]
  },
  {
   "cell_type": "code",
   "execution_count": 19,
   "metadata": {},
   "outputs": [
    {
     "data": {
      "text/html": [
       "<div>\n",
       "<style scoped>\n",
       "    .dataframe tbody tr th:only-of-type {\n",
       "        vertical-align: middle;\n",
       "    }\n",
       "\n",
       "    .dataframe tbody tr th {\n",
       "        vertical-align: top;\n",
       "    }\n",
       "\n",
       "    .dataframe thead th {\n",
       "        text-align: right;\n",
       "    }\n",
       "</style>\n",
       "<table border=\"1\" class=\"dataframe\">\n",
       "  <thead>\n",
       "    <tr style=\"text-align: right;\">\n",
       "      <th></th>\n",
       "      <th>head</th>\n",
       "      <th>relation</th>\n",
       "      <th>tail</th>\n",
       "    </tr>\n",
       "  </thead>\n",
       "  <tbody>\n",
       "    <tr>\n",
       "      <th>3690606</th>\n",
       "      <td>72318</td>\n",
       "      <td>15</td>\n",
       "      <td>169243</td>\n",
       "    </tr>\n",
       "  </tbody>\n",
       "</table>\n",
       "</div>"
      ],
      "text/plain": [
       "          head  relation    tail\n",
       "3690606  72318        15  169243"
      ]
     },
     "execution_count": 19,
     "metadata": {},
     "output_type": "execute_result"
    }
   ],
   "source": [
    "train_df[(train_df[\"head\"] == 72318) & (train_df[\"relation\"] == 15) & (train_df[\"tail\"] == 169243)]"
   ]
  },
  {
   "cell_type": "markdown",
   "metadata": {},
   "source": [
    "## Hybrid model"
   ]
  },
  {
   "cell_type": "markdown",
   "metadata": {
    "tags": []
   },
   "source": [
    "### Logistic regression - combine 2 embedding models"
   ]
  },
  {
   "cell_type": "code",
   "execution_count": 131,
   "metadata": {},
   "outputs": [
    {
     "data": {
      "text/plain": [
       "torch.Size([4378303, 3])"
      ]
     },
     "execution_count": 131,
     "metadata": {},
     "output_type": "execute_result"
    },
    {
     "name": "stdout",
     "output_type": "stream",
     "text": [
      "time: 166 ms (started: 2021-12-08 22:36:14 +00:00)\n"
     ]
    }
   ],
   "source": [
    "# prepare the training data for hybrid model:\n",
    "# combine training and valid data\n",
    "\n",
    "train_plus = torch.cat([train, valid], dim=0)\n",
    "train_plus.shape"
   ]
  },
  {
   "cell_type": "code",
   "execution_count": 132,
   "metadata": {},
   "outputs": [
    {
     "name": "stdout",
     "output_type": "stream",
     "text": [
      "time: 1.7 ms (started: 2021-12-08 22:36:19 +00:00)\n"
     ]
    }
   ],
   "source": [
    "# modified based on pykeen.sampling.basic_negative_sampler\n",
    "import math\n",
    "\n",
    "def negative_sample(positive_triples):\n",
    "    LOOKUP = {\"h\": 0, \"r\": 1, \"t\": 2}\n",
    "\n",
    "    # Bind number of negatives to sample\n",
    "    num_negs = positive_triples.shape[0]\n",
    "    \n",
    "    # Equally corrupt all sides\n",
    "    corruption_indices = [LOOKUP[side] for side in (\"h\", \"t\")]\n",
    "    split_idx = int(math.ceil(num_negs / len(corruption_indices)))\n",
    "\n",
    "    # Copy positive batch for corruption.\n",
    "    negative_batch = positive_triples.clone()\n",
    "\n",
    "    for index, start in zip(corruption_indices, range(0, num_negs, split_idx)):\n",
    "        stop = min(start + split_idx, num_negs)\n",
    "\n",
    "        # Relations have a different index maximum than entities\n",
    "        # At least make sure to not replace the triples by the original value\n",
    "        index_max = (dl.num_relations if index == 1 else dl.num_entities) - 1\n",
    "\n",
    "        negative_batch[start:stop, index] = torch.randint(\n",
    "            high=index_max,\n",
    "            size=(stop - start,),\n",
    "        )\n",
    "\n",
    "        # To make sure we don't replace the {head, relation, tail} by the\n",
    "        # original value we shift all values greater or equal than the original value by one up\n",
    "        # for that reason we choose the random value from [0, num_{heads, relations, tails} -1]\n",
    "        negative_batch[start:stop, index] += (\n",
    "            negative_batch[start:stop, index] >= positive_triples[start:stop, index]\n",
    "        ).long()\n",
    "\n",
    "    return negative_batch"
   ]
  },
  {
   "cell_type": "code",
   "execution_count": 133,
   "metadata": {},
   "outputs": [
    {
     "name": "stdout",
     "output_type": "stream",
     "text": [
      "time: 108 ms (started: 2021-12-08 22:36:20 +00:00)\n"
     ]
    }
   ],
   "source": [
    "neg = negative_sample(train_plus)"
   ]
  },
  {
   "cell_type": "code",
   "execution_count": 141,
   "metadata": {},
   "outputs": [
    {
     "data": {
      "text/html": [
       "<div>\n",
       "<style scoped>\n",
       "    .dataframe tbody tr th:only-of-type {\n",
       "        vertical-align: middle;\n",
       "    }\n",
       "\n",
       "    .dataframe tbody tr th {\n",
       "        vertical-align: top;\n",
       "    }\n",
       "\n",
       "    .dataframe thead th {\n",
       "        text-align: right;\n",
       "    }\n",
       "</style>\n",
       "<table border=\"1\" class=\"dataframe\">\n",
       "  <thead>\n",
       "    <tr style=\"text-align: right;\">\n",
       "      <th></th>\n",
       "      <th>triple</th>\n",
       "      <th>complEx_score</th>\n",
       "      <th>transE_score</th>\n",
       "      <th>distMult_score</th>\n",
       "      <th>Y</th>\n",
       "      <th>relation</th>\n",
       "    </tr>\n",
       "  </thead>\n",
       "  <tbody>\n",
       "    <tr>\n",
       "      <th>0</th>\n",
       "      <td>[tensor(71575), tensor(22), tensor(61677)]</td>\n",
       "      <td>2.434209</td>\n",
       "      <td>1.218738</td>\n",
       "      <td>2.752507</td>\n",
       "      <td>1</td>\n",
       "      <td>22</td>\n",
       "    </tr>\n",
       "    <tr>\n",
       "      <th>1</th>\n",
       "      <td>[tensor(76374), tensor(15), tensor(167503)]</td>\n",
       "      <td>1.205381</td>\n",
       "      <td>0.199618</td>\n",
       "      <td>0.753454</td>\n",
       "      <td>1</td>\n",
       "      <td>15</td>\n",
       "    </tr>\n",
       "    <tr>\n",
       "      <th>2</th>\n",
       "      <td>[tensor(81297), tensor(15), tensor(167724)]</td>\n",
       "      <td>1.144615</td>\n",
       "      <td>0.533805</td>\n",
       "      <td>0.763239</td>\n",
       "      <td>1</td>\n",
       "      <td>15</td>\n",
       "    </tr>\n",
       "    <tr>\n",
       "      <th>3</th>\n",
       "      <td>[tensor(74447), tensor(11), tensor(81239)]</td>\n",
       "      <td>0.746615</td>\n",
       "      <td>-0.134726</td>\n",
       "      <td>1.314600</td>\n",
       "      <td>1</td>\n",
       "      <td>11</td>\n",
       "    </tr>\n",
       "    <tr>\n",
       "      <th>4</th>\n",
       "      <td>[tensor(80732), tensor(25), tensor(600)]</td>\n",
       "      <td>0.911771</td>\n",
       "      <td>0.941666</td>\n",
       "      <td>1.103542</td>\n",
       "      <td>1</td>\n",
       "      <td>25</td>\n",
       "    </tr>\n",
       "    <tr>\n",
       "      <th>...</th>\n",
       "      <td>...</td>\n",
       "      <td>...</td>\n",
       "      <td>...</td>\n",
       "      <td>...</td>\n",
       "      <td>...</td>\n",
       "      <td>...</td>\n",
       "    </tr>\n",
       "    <tr>\n",
       "      <th>4378298</th>\n",
       "      <td>[tensor(75694), tensor(11), tensor(76015)]</td>\n",
       "      <td>1.814968</td>\n",
       "      <td>1.713939</td>\n",
       "      <td>1.607447</td>\n",
       "      <td>1</td>\n",
       "      <td>11</td>\n",
       "    </tr>\n",
       "    <tr>\n",
       "      <th>4378299</th>\n",
       "      <td>[tensor(76954), tensor(12), tensor(76091)]</td>\n",
       "      <td>1.510505</td>\n",
       "      <td>0.265041</td>\n",
       "      <td>1.280309</td>\n",
       "      <td>1</td>\n",
       "      <td>12</td>\n",
       "    </tr>\n",
       "    <tr>\n",
       "      <th>4378300</th>\n",
       "      <td>[tensor(86473), tensor(22), tensor(57142)]</td>\n",
       "      <td>1.854097</td>\n",
       "      <td>1.352559</td>\n",
       "      <td>0.984690</td>\n",
       "      <td>1</td>\n",
       "      <td>22</td>\n",
       "    </tr>\n",
       "    <tr>\n",
       "      <th>4378301</th>\n",
       "      <td>[tensor(88252), tensor(18), tensor(54419)]</td>\n",
       "      <td>-2.420667</td>\n",
       "      <td>-2.087488</td>\n",
       "      <td>-3.611161</td>\n",
       "      <td>1</td>\n",
       "      <td>18</td>\n",
       "    </tr>\n",
       "    <tr>\n",
       "      <th>4378302</th>\n",
       "      <td>[tensor(70247), tensor(17), tensor(79736)]</td>\n",
       "      <td>0.320219</td>\n",
       "      <td>0.786989</td>\n",
       "      <td>0.225412</td>\n",
       "      <td>1</td>\n",
       "      <td>17</td>\n",
       "    </tr>\n",
       "  </tbody>\n",
       "</table>\n",
       "<p>4378303 rows × 6 columns</p>\n",
       "</div>"
      ],
      "text/plain": [
       "                                              triple  complEx_score  \\\n",
       "0         [tensor(71575), tensor(22), tensor(61677)]       2.434209   \n",
       "1        [tensor(76374), tensor(15), tensor(167503)]       1.205381   \n",
       "2        [tensor(81297), tensor(15), tensor(167724)]       1.144615   \n",
       "3         [tensor(74447), tensor(11), tensor(81239)]       0.746615   \n",
       "4           [tensor(80732), tensor(25), tensor(600)]       0.911771   \n",
       "...                                              ...            ...   \n",
       "4378298   [tensor(75694), tensor(11), tensor(76015)]       1.814968   \n",
       "4378299   [tensor(76954), tensor(12), tensor(76091)]       1.510505   \n",
       "4378300   [tensor(86473), tensor(22), tensor(57142)]       1.854097   \n",
       "4378301   [tensor(88252), tensor(18), tensor(54419)]      -2.420667   \n",
       "4378302   [tensor(70247), tensor(17), tensor(79736)]       0.320219   \n",
       "\n",
       "         transE_score  distMult_score  Y  relation  \n",
       "0            1.218738        2.752507  1        22  \n",
       "1            0.199618        0.753454  1        15  \n",
       "2            0.533805        0.763239  1        15  \n",
       "3           -0.134726        1.314600  1        11  \n",
       "4            0.941666        1.103542  1        25  \n",
       "...               ...             ... ..       ...  \n",
       "4378298      1.713939        1.607447  1        11  \n",
       "4378299      0.265041        1.280309  1        12  \n",
       "4378300      1.352559        0.984690  1        22  \n",
       "4378301     -2.087488       -3.611161  1        18  \n",
       "4378302      0.786989        0.225412  1        17  \n",
       "\n",
       "[4378303 rows x 6 columns]"
      ]
     },
     "execution_count": 141,
     "metadata": {},
     "output_type": "execute_result"
    },
    {
     "name": "stdout",
     "output_type": "stream",
     "text": [
      "time: 9min 48s (started: 2021-12-08 22:41:00 +00:00)\n"
     ]
    }
   ],
   "source": [
    "# store the scores for each model of all positive triples\n",
    "\n",
    "pos_df = pd.DataFrame(columns=[\"triple\", \"complEx_score\", \"transE_score\", \"distMult_score\", \"Y\"])\n",
    "pos_df[\"triple\"] = [train_plus[n] for n in range(train_plus.shape[0])]\n",
    "pos_df[\"relation\"] = pos_df[\"triple\"].apply(lambda x: x[1].numpy())\n",
    "pos_df[\"complEx_score\"] = pos_df[\"triple\"].apply(lambda x: complex_score(cplx_entity_emb, cplx_relation_emb, x))\n",
    "pos_df[\"transE_score\"] = pos_df[\"triple\"].apply(lambda x: transe_score(tse_entity_emb, tse_relation_emb, x))\n",
    "pos_df[\"distMult_score\"] = pos_df[\"triple\"].apply(lambda x: distmult_score(dist_entity_emb, dist_relation_emb, x))\n",
    "pos_df[\"Y\"] = 1\n",
    "pos_df"
   ]
  },
  {
   "cell_type": "code",
   "execution_count": 142,
   "metadata": {},
   "outputs": [
    {
     "name": "stdout",
     "output_type": "stream",
     "text": [
      "time: 9min 53s (started: 2021-12-08 22:50:49 +00:00)\n"
     ]
    }
   ],
   "source": [
    "# store the scores for each model of all negative triples\n",
    "\n",
    "neg_df = pd.DataFrame(columns=[\"triple\", \"complEx_score\", \"transE_score\", \"distMult_score\", \"Y\"])\n",
    "neg_df[\"triple\"] = [neg[n] for n in range(neg.shape[0])]\n",
    "neg_df[\"relation\"] = neg_df[\"triple\"].apply(lambda x: x[1].numpy())\n",
    "neg_df[\"complEx_score\"] = neg_df[\"triple\"].apply(lambda x: complex_score(cplx_entity_emb, cplx_relation_emb, x))\n",
    "neg_df[\"transE_score\"] = neg_df[\"triple\"].apply(lambda x: transe_score(tse_entity_emb, tse_relation_emb, x))\n",
    "neg_df[\"distMult_score\"] = neg_df[\"triple\"].apply(lambda x: distmult_score(dist_entity_emb, dist_relation_emb, x))\n",
    "neg_df[\"Y\"] = -1"
   ]
  },
  {
   "cell_type": "code",
   "execution_count": 144,
   "metadata": {},
   "outputs": [
    {
     "data": {
      "text/html": [
       "<div>\n",
       "<style scoped>\n",
       "    .dataframe tbody tr th:only-of-type {\n",
       "        vertical-align: middle;\n",
       "    }\n",
       "\n",
       "    .dataframe tbody tr th {\n",
       "        vertical-align: top;\n",
       "    }\n",
       "\n",
       "    .dataframe thead th {\n",
       "        text-align: right;\n",
       "    }\n",
       "</style>\n",
       "<table border=\"1\" class=\"dataframe\">\n",
       "  <thead>\n",
       "    <tr style=\"text-align: right;\">\n",
       "      <th></th>\n",
       "      <th>complEx_score</th>\n",
       "      <th>transE_score</th>\n",
       "      <th>distMult_score</th>\n",
       "      <th>Y</th>\n",
       "    </tr>\n",
       "  </thead>\n",
       "  <tbody>\n",
       "    <tr>\n",
       "      <th>0</th>\n",
       "      <td>2.434209</td>\n",
       "      <td>1.218738</td>\n",
       "      <td>2.752507</td>\n",
       "      <td>1</td>\n",
       "    </tr>\n",
       "    <tr>\n",
       "      <th>1</th>\n",
       "      <td>1.205381</td>\n",
       "      <td>0.199618</td>\n",
       "      <td>0.753454</td>\n",
       "      <td>1</td>\n",
       "    </tr>\n",
       "    <tr>\n",
       "      <th>2</th>\n",
       "      <td>1.144615</td>\n",
       "      <td>0.533805</td>\n",
       "      <td>0.763239</td>\n",
       "      <td>1</td>\n",
       "    </tr>\n",
       "    <tr>\n",
       "      <th>3</th>\n",
       "      <td>0.746615</td>\n",
       "      <td>-0.134726</td>\n",
       "      <td>1.314600</td>\n",
       "      <td>1</td>\n",
       "    </tr>\n",
       "    <tr>\n",
       "      <th>4</th>\n",
       "      <td>0.911771</td>\n",
       "      <td>0.941666</td>\n",
       "      <td>1.103542</td>\n",
       "      <td>1</td>\n",
       "    </tr>\n",
       "    <tr>\n",
       "      <th>...</th>\n",
       "      <td>...</td>\n",
       "      <td>...</td>\n",
       "      <td>...</td>\n",
       "      <td>...</td>\n",
       "    </tr>\n",
       "    <tr>\n",
       "      <th>8756601</th>\n",
       "      <td>-4.282713</td>\n",
       "      <td>-6.837650</td>\n",
       "      <td>-4.790776</td>\n",
       "      <td>-1</td>\n",
       "    </tr>\n",
       "    <tr>\n",
       "      <th>8756602</th>\n",
       "      <td>-4.260866</td>\n",
       "      <td>-3.189675</td>\n",
       "      <td>-4.185231</td>\n",
       "      <td>-1</td>\n",
       "    </tr>\n",
       "    <tr>\n",
       "      <th>8756603</th>\n",
       "      <td>-3.360731</td>\n",
       "      <td>-3.919358</td>\n",
       "      <td>-5.090248</td>\n",
       "      <td>-1</td>\n",
       "    </tr>\n",
       "    <tr>\n",
       "      <th>8756604</th>\n",
       "      <td>-3.903957</td>\n",
       "      <td>-6.971076</td>\n",
       "      <td>-4.531449</td>\n",
       "      <td>-1</td>\n",
       "    </tr>\n",
       "    <tr>\n",
       "      <th>8756605</th>\n",
       "      <td>-3.497423</td>\n",
       "      <td>-7.178837</td>\n",
       "      <td>-5.009417</td>\n",
       "      <td>-1</td>\n",
       "    </tr>\n",
       "  </tbody>\n",
       "</table>\n",
       "<p>8756606 rows × 4 columns</p>\n",
       "</div>"
      ],
      "text/plain": [
       "         complEx_score  transE_score  distMult_score  Y\n",
       "0             2.434209      1.218738        2.752507  1\n",
       "1             1.205381      0.199618        0.753454  1\n",
       "2             1.144615      0.533805        0.763239  1\n",
       "3             0.746615     -0.134726        1.314600  1\n",
       "4             0.911771      0.941666        1.103542  1\n",
       "...                ...           ...             ... ..\n",
       "8756601      -4.282713     -6.837650       -4.790776 -1\n",
       "8756602      -4.260866     -3.189675       -4.185231 -1\n",
       "8756603      -3.360731     -3.919358       -5.090248 -1\n",
       "8756604      -3.903957     -6.971076       -4.531449 -1\n",
       "8756605      -3.497423     -7.178837       -5.009417 -1\n",
       "\n",
       "[8756606 rows x 4 columns]"
      ]
     },
     "execution_count": 144,
     "metadata": {},
     "output_type": "execute_result"
    },
    {
     "name": "stdout",
     "output_type": "stream",
     "text": [
      "time: 6.49 s (started: 2021-12-09 00:23:24 +00:00)\n"
     ]
    }
   ],
   "source": [
    "# combine positive and negative triples for training\n",
    "\n",
    "emb_df = pd.concat([pos_df, neg_df], ignore_index=True)\n",
    "emb_df.drop(columns=[\"triple\", \"relation\"], inplace=True)\n",
    "emb_df"
   ]
  },
  {
   "cell_type": "code",
   "execution_count": 145,
   "metadata": {},
   "outputs": [
    {
     "data": {
      "text/html": [
       "<div>\n",
       "<style scoped>\n",
       "    .dataframe tbody tr th:only-of-type {\n",
       "        vertical-align: middle;\n",
       "    }\n",
       "\n",
       "    .dataframe tbody tr th {\n",
       "        vertical-align: top;\n",
       "    }\n",
       "\n",
       "    .dataframe thead th {\n",
       "        text-align: right;\n",
       "    }\n",
       "</style>\n",
       "<table border=\"1\" class=\"dataframe\">\n",
       "  <thead>\n",
       "    <tr style=\"text-align: right;\">\n",
       "      <th></th>\n",
       "      <th>complEx_score</th>\n",
       "      <th>transE_score</th>\n",
       "      <th>distMult_score</th>\n",
       "      <th>Y</th>\n",
       "    </tr>\n",
       "  </thead>\n",
       "  <tbody>\n",
       "    <tr>\n",
       "      <th>0</th>\n",
       "      <td>0.791016</td>\n",
       "      <td>1.218738</td>\n",
       "      <td>0.834610</td>\n",
       "      <td>1</td>\n",
       "    </tr>\n",
       "    <tr>\n",
       "      <th>1</th>\n",
       "      <td>0.703045</td>\n",
       "      <td>0.199618</td>\n",
       "      <td>0.706275</td>\n",
       "      <td>1</td>\n",
       "    </tr>\n",
       "    <tr>\n",
       "      <th>2</th>\n",
       "      <td>0.698695</td>\n",
       "      <td>0.533805</td>\n",
       "      <td>0.706903</td>\n",
       "      <td>1</td>\n",
       "    </tr>\n",
       "    <tr>\n",
       "      <th>3</th>\n",
       "      <td>0.670202</td>\n",
       "      <td>-0.134726</td>\n",
       "      <td>0.742300</td>\n",
       "      <td>1</td>\n",
       "    </tr>\n",
       "    <tr>\n",
       "      <th>4</th>\n",
       "      <td>0.682026</td>\n",
       "      <td>0.941666</td>\n",
       "      <td>0.728750</td>\n",
       "      <td>1</td>\n",
       "    </tr>\n",
       "    <tr>\n",
       "      <th>...</th>\n",
       "      <td>...</td>\n",
       "      <td>...</td>\n",
       "      <td>...</td>\n",
       "      <td>...</td>\n",
       "    </tr>\n",
       "    <tr>\n",
       "      <th>8756601</th>\n",
       "      <td>0.310156</td>\n",
       "      <td>-6.837650</td>\n",
       "      <td>0.350347</td>\n",
       "      <td>-1</td>\n",
       "    </tr>\n",
       "    <tr>\n",
       "      <th>8756602</th>\n",
       "      <td>0.311720</td>\n",
       "      <td>-3.189675</td>\n",
       "      <td>0.389222</td>\n",
       "      <td>-1</td>\n",
       "    </tr>\n",
       "    <tr>\n",
       "      <th>8756603</th>\n",
       "      <td>0.376160</td>\n",
       "      <td>-3.919358</td>\n",
       "      <td>0.331122</td>\n",
       "      <td>-1</td>\n",
       "    </tr>\n",
       "    <tr>\n",
       "      <th>8756604</th>\n",
       "      <td>0.337271</td>\n",
       "      <td>-6.971076</td>\n",
       "      <td>0.366995</td>\n",
       "      <td>-1</td>\n",
       "    </tr>\n",
       "    <tr>\n",
       "      <th>8756605</th>\n",
       "      <td>0.366375</td>\n",
       "      <td>-7.178837</td>\n",
       "      <td>0.336311</td>\n",
       "      <td>-1</td>\n",
       "    </tr>\n",
       "  </tbody>\n",
       "</table>\n",
       "<p>8756606 rows × 4 columns</p>\n",
       "</div>"
      ],
      "text/plain": [
       "         complEx_score  transE_score  distMult_score  Y\n",
       "0             0.791016      1.218738        0.834610  1\n",
       "1             0.703045      0.199618        0.706275  1\n",
       "2             0.698695      0.533805        0.706903  1\n",
       "3             0.670202     -0.134726        0.742300  1\n",
       "4             0.682026      0.941666        0.728750  1\n",
       "...                ...           ...             ... ..\n",
       "8756601       0.310156     -6.837650        0.350347 -1\n",
       "8756602       0.311720     -3.189675        0.389222 -1\n",
       "8756603       0.376160     -3.919358        0.331122 -1\n",
       "8756604       0.337271     -6.971076        0.366995 -1\n",
       "8756605       0.366375     -7.178837        0.336311 -1\n",
       "\n",
       "[8756606 rows x 4 columns]"
      ]
     },
     "execution_count": 145,
     "metadata": {},
     "output_type": "execute_result"
    },
    {
     "name": "stdout",
     "output_type": "stream",
     "text": [
      "time: 2.59 s (started: 2021-12-09 00:23:53 +00:00)\n"
     ]
    }
   ],
   "source": [
    "# preprocess the data, dealing with different scales\n",
    "\n",
    "from sklearn.preprocessing import MinMaxScaler\n",
    "\n",
    "scaler = MinMaxScaler()\n",
    "# emb_df[[\"transE_score\", \"distMult_score\"]] = scaler.fit_transform(emb_df[[\"transE_score\", \"distMult_score\"]])\n",
    "emb_df[[\"complEx_score\", \"distMult_score\"]] = scaler.fit_transform(emb_df[[\"complEx_score\", \"distMult_score\"]])\n",
    "emb_df"
   ]
  },
  {
   "cell_type": "code",
   "execution_count": 146,
   "metadata": {},
   "outputs": [
    {
     "data": {
      "text/plain": [
       "LogisticRegression()"
      ]
     },
     "execution_count": 146,
     "metadata": {},
     "output_type": "execute_result"
    },
    {
     "name": "stdout",
     "output_type": "stream",
     "text": [
      "time: 11.8 s (started: 2021-12-09 00:24:09 +00:00)\n"
     ]
    }
   ],
   "source": [
    "# train the logistic model\n",
    "\n",
    "from sklearn.model_selection import train_test_split\n",
    "from sklearn.linear_model import LogisticRegression\n",
    "\n",
    "# X_train, X_test, y_train, y_test = train_test_split(emb_df.drop([\"Y\", \"complEx_score\"],axis=1), \n",
    "#                                                     emb_df[\"Y\"], test_size=0.10, \n",
    "#                                                     random_state=101)\n",
    "\n",
    "X_train, X_test, y_train, y_test = train_test_split(emb_df.drop([\"Y\", \"transE_score\"],axis=1), \n",
    "                                                    emb_df[\"Y\"], test_size=0.10, \n",
    "                                                    random_state=101)\n",
    "\n",
    "logmodel = LogisticRegression()\n",
    "logmodel.fit(X_train,y_train)"
   ]
  },
  {
   "cell_type": "code",
   "execution_count": 147,
   "metadata": {},
   "outputs": [
    {
     "data": {
      "text/html": [
       "<div>\n",
       "<style scoped>\n",
       "    .dataframe tbody tr th:only-of-type {\n",
       "        vertical-align: middle;\n",
       "    }\n",
       "\n",
       "    .dataframe tbody tr th {\n",
       "        vertical-align: top;\n",
       "    }\n",
       "\n",
       "    .dataframe thead th {\n",
       "        text-align: right;\n",
       "    }\n",
       "</style>\n",
       "<table border=\"1\" class=\"dataframe\">\n",
       "  <thead>\n",
       "    <tr style=\"text-align: right;\">\n",
       "      <th></th>\n",
       "      <th>complEx_score</th>\n",
       "      <th>distMult_score</th>\n",
       "    </tr>\n",
       "  </thead>\n",
       "  <tbody>\n",
       "    <tr>\n",
       "      <th>5516277</th>\n",
       "      <td>0.285022</td>\n",
       "      <td>0.294328</td>\n",
       "    </tr>\n",
       "    <tr>\n",
       "      <th>5273322</th>\n",
       "      <td>0.322696</td>\n",
       "      <td>0.350620</td>\n",
       "    </tr>\n",
       "    <tr>\n",
       "      <th>1506435</th>\n",
       "      <td>0.780080</td>\n",
       "      <td>0.879573</td>\n",
       "    </tr>\n",
       "    <tr>\n",
       "      <th>2298442</th>\n",
       "      <td>0.672605</td>\n",
       "      <td>0.721947</td>\n",
       "    </tr>\n",
       "    <tr>\n",
       "      <th>5900028</th>\n",
       "      <td>0.334109</td>\n",
       "      <td>0.335619</td>\n",
       "    </tr>\n",
       "    <tr>\n",
       "      <th>...</th>\n",
       "      <td>...</td>\n",
       "      <td>...</td>\n",
       "    </tr>\n",
       "    <tr>\n",
       "      <th>8654232</th>\n",
       "      <td>0.316963</td>\n",
       "      <td>0.351820</td>\n",
       "    </tr>\n",
       "    <tr>\n",
       "      <th>316133</th>\n",
       "      <td>0.726320</td>\n",
       "      <td>0.744672</td>\n",
       "    </tr>\n",
       "    <tr>\n",
       "      <th>1035168</th>\n",
       "      <td>0.821492</td>\n",
       "      <td>0.871429</td>\n",
       "    </tr>\n",
       "    <tr>\n",
       "      <th>6036159</th>\n",
       "      <td>0.312081</td>\n",
       "      <td>0.333388</td>\n",
       "    </tr>\n",
       "    <tr>\n",
       "      <th>4236058</th>\n",
       "      <td>0.751737</td>\n",
       "      <td>0.699946</td>\n",
       "    </tr>\n",
       "  </tbody>\n",
       "</table>\n",
       "<p>875661 rows × 2 columns</p>\n",
       "</div>"
      ],
      "text/plain": [
       "         complEx_score  distMult_score\n",
       "5516277       0.285022        0.294328\n",
       "5273322       0.322696        0.350620\n",
       "1506435       0.780080        0.879573\n",
       "2298442       0.672605        0.721947\n",
       "5900028       0.334109        0.335619\n",
       "...                ...             ...\n",
       "8654232       0.316963        0.351820\n",
       "316133        0.726320        0.744672\n",
       "1035168       0.821492        0.871429\n",
       "6036159       0.312081        0.333388\n",
       "4236058       0.751737        0.699946\n",
       "\n",
       "[875661 rows x 2 columns]"
      ]
     },
     "execution_count": 147,
     "metadata": {},
     "output_type": "execute_result"
    },
    {
     "name": "stdout",
     "output_type": "stream",
     "text": [
      "time: 11.5 ms (started: 2021-12-09 00:24:23 +00:00)\n"
     ]
    }
   ],
   "source": [
    "# produce the hybrid scores\n",
    "# logmodel.decision_function(X_test)\n",
    "X_test"
   ]
  },
  {
   "cell_type": "markdown",
   "metadata": {},
   "source": [
    "### Evaluate and generate predictions"
   ]
  },
  {
   "cell_type": "code",
   "execution_count": 153,
   "metadata": {},
   "outputs": [
    {
     "name": "stdout",
     "output_type": "stream",
     "text": [
      "./ckpts/TransE_l2_OBL2021_3/config.json\n",
      "{'dataset': 'OBL2021', 'model': 'TransE_l2', 'emb_size': 360, 'max_train_step': 550000, 'batch_size': 2048, 'neg_sample_size': 1024, 'lr': 0.1, 'gamma': 8.0, 'double_ent': False, 'double_rel': False, 'neg_adversarial_sampling': True, 'adversarial_temperature': 1.0, 'regularization_coef': 3e-09, 'regularization_norm': 3, 'emap_file': 'entities.tsv', 'rmap_file': 'relations.tsv'}\n",
      "./ckpts/DistMult_OBL2021_0/config.json\n",
      "{'dataset': 'OBL2021', 'model': 'DistMult', 'emb_size': 380, 'max_train_step': 950000, 'batch_size': 2048, 'neg_sample_size': 1024, 'lr': 0.15, 'gamma': 12.0, 'double_ent': False, 'double_rel': False, 'neg_adversarial_sampling': True, 'adversarial_temperature': 1.0, 'regularization_coef': 4e-07, 'regularization_norm': 3, 'emap_file': 'entities.tsv', 'rmap_file': 'relations.tsv'}\n"
     ]
    },
    {
     "name": "stderr",
     "output_type": "stream",
     "text": [
      "100%|█████████████████████████████████████| 1810/1810 [1:37:36<00:00,  3.24s/it]\n"
     ]
    },
    {
     "name": "stdout",
     "output_type": "stream",
     "text": [
      "Submission file saved here: /Users/siqiwang/Documents/MSC/Project/Draft notebooks/pred_OBL2021.npz\n",
      "Please copy also the following line in the respective field of the submission form:\n",
      "{'h10': 0.547048032283783}\n",
      "time: 1h 37min 40s (started: 2021-12-09 02:51:43 +00:00)\n"
     ]
    }
   ],
   "source": [
    "import os\n",
    "from dglke.train_pytorch import load_model_from_checkpoint\n",
    "from dglke.utils import load_model_config\n",
    "from tqdm import tqdm\n",
    "\n",
    "class Args():\n",
    "    batch_size_eval = 100\n",
    "    gpu = [-1]\n",
    "    train = False\n",
    "    valid = False\n",
    "    test = True\n",
    "    strict_rel_part = False\n",
    "    soft_rel_part = False\n",
    "    async_update = False\n",
    "    has_edge_importance = False\n",
    "    mix_cpu_gpu = False\n",
    "\n",
    "def model_args(config):\n",
    "    args = Args()\n",
    "    args.model_name = config[\"model\"]\n",
    "    args.hidden_dim = config[\"emb_size\"]\n",
    "    args.gamma = config[\"gamma\"]\n",
    "    args.double_ent = config[\"double_ent\"]\n",
    "    args.double_rel = config[\"double_rel\"]\n",
    "    args.dataset = config[\"dataset\"]\n",
    "    return args\n",
    "    \n",
    "n_entities = dl.num_entities\n",
    "n_relations = dl.num_relations\n",
    "\n",
    "# import embeddings from the first model\n",
    "te_ckpt_path = \"./ckpts/TransE_l2_OBL2021_3\"\n",
    "# te_ckpt_path = \"./ckpts/ComplEx_OBL2021_1\"\n",
    "te_config = load_model_config(os.path.join(te_ckpt_path, 'config.json'))\n",
    "te_args = model_args(te_config)\n",
    "te_model = load_model_from_checkpoint(te_args, n_entities, n_relations, te_ckpt_path)\n",
    "gpu_id = te_args.gpu[0]\n",
    "\n",
    "# some score functions\n",
    "te_head_neg_score = te_model.score_func.create_neg(True)\n",
    "te_tail_neg_score = te_model.score_func.create_neg(False)\n",
    "te_head_neg_prepare = te_model.score_func.create_neg_prepare(True)\n",
    "te_tail_neg_prepare = te_model.score_func.create_neg_prepare(False)\n",
    "\n",
    "# the embeddings of entities and relations\n",
    "te_entity_emb = te_model.entity_emb(torch.arange(dl.num_entities).long(), gpu_id)\n",
    "te_relation_emb = te_model.relation_emb(torch.arange(dl.num_relations).long(), gpu_id)\n",
    "\n",
    "# import embeddings from the second model\n",
    "dm_ckpt_path = \"./ckpts/DistMult_OBL2021_0\"\n",
    "dm_config = load_model_config(os.path.join(dm_ckpt_path, 'config.json'))\n",
    "dm_args = model_args(dm_config)\n",
    "dm_model = load_model_from_checkpoint(dm_args, n_entities, n_relations, dm_ckpt_path)\n",
    "\n",
    "dm_head_neg_score = dm_model.score_func.create_neg(True)\n",
    "dm_tail_neg_score = dm_model.score_func.create_neg(False)\n",
    "dm_head_neg_prepare = dm_model.score_func.create_neg_prepare(True)\n",
    "dm_tail_neg_prepare = dm_model.score_func.create_neg_prepare(False)\n",
    "\n",
    "# the embeddings of entities and relations\n",
    "dm_entity_emb = dm_model.entity_emb(torch.arange(dl.num_entities).long(), gpu_id)\n",
    "dm_relation_emb = dm_model.relation_emb(torch.arange(dl.num_relations).long(), gpu_id)\n",
    "\n",
    "# slice test set into batches of 100 triples each\n",
    "n_batches, batches = dl.get_test_batches(te_args.batch_size_eval)\n",
    "\n",
    "# lists to store the results of top10 predictions\n",
    "top10_tails = []\n",
    "top10_heads = []\n",
    "logs_h = []\n",
    "logs_t = []\n",
    "\n",
    "for batch in tqdm(batches, total=n_batches):\n",
    "    \n",
    "    # head, tail, relation embeddings of test batch\n",
    "    te_pos_head_emb = te_entity_emb[batch[:, 0], :]\n",
    "    te_pos_tail_emb = te_entity_emb[batch[:, 2], :]\n",
    "    pos_rel = batch[:, 1].long()\n",
    "    te_pos_rel_emb = te_relation_emb[pos_rel, :]\n",
    "\n",
    "    # neg_head: all entities, tail: pos_tail_emb\n",
    "    te_neg_head, te_tail = te_head_neg_prepare(pos_rel, 1, te_entity_emb, te_pos_tail_emb, gpu_id, False)\n",
    "    # scores in shape (100, num_entities)\n",
    "    te_scores_head = te_head_neg_score(te_neg_head, te_pos_rel_emb, te_tail,\n",
    "                                    1, len(batch), dl.num_entities).squeeze(0)\n",
    "    te_head, te_neg_tail = te_tail_neg_prepare(pos_rel, 1, te_pos_head_emb, te_entity_emb, gpu_id, False)\n",
    "    te_scores_tail = te_tail_neg_score(te_head, te_pos_rel_emb, te_neg_tail,\n",
    "                                    1, len(batch), dl.num_entities).squeeze(0)\n",
    "\n",
    "    # head, tail, relation embeddings of test batch\n",
    "    dm_pos_head_emb = dm_entity_emb[batch[:, 0], :]\n",
    "    dm_pos_tail_emb = dm_entity_emb[batch[:, 2], :]\n",
    "    dm_pos_rel_emb = dm_relation_emb[pos_rel, :]\n",
    "\n",
    "    # neg_head: all entities, tail: pos_tail_emb\n",
    "    dm_neg_head, dm_tail = dm_head_neg_prepare(pos_rel, 1, dm_entity_emb, dm_pos_tail_emb, gpu_id, False)\n",
    "    # scores in shape (100, num_entities)\n",
    "    dm_scores_head = dm_head_neg_score(dm_neg_head, dm_pos_rel_emb, dm_tail,\n",
    "                                    1, len(batch), dl.num_entities).squeeze(0)\n",
    "    dm_head, dm_neg_tail = dm_tail_neg_prepare(pos_rel, 1, dm_pos_head_emb, dm_entity_emb, gpu_id, False)\n",
    "    dm_scores_tail = dm_tail_neg_score(dm_head, dm_pos_rel_emb, dm_neg_tail,\n",
    "                                    1, len(batch), dl.num_entities).squeeze(0)\n",
    "  \n",
    "    # combine the scores together first, then calculate hybrid scores\n",
    "    # (len(batch), n_entities, 3) -> (len(batch) * n_entities, 2)    \n",
    "    cmb_head_scores = torch.cat([te_scores_head.reshape(len(batch), n_entities, 1), \n",
    "                                 dm_scores_head.reshape(len(batch), n_entities, 1)], dim=2).reshape(len(batch)*n_entities, 2)\n",
    "    scores_head = logmodel.decision_function(scaler.transform(cmb_head_scores.detach().numpy()))\n",
    "    cmb_tail_scores = torch.cat([te_scores_tail.reshape(len(batch), n_entities, 1), \n",
    "                                 dm_scores_tail.reshape(len(batch), n_entities, 1)], dim=2).reshape(len(batch)*n_entities, 2)\n",
    "    scores_tail = logmodel.decision_function(scaler.transform(cmb_tail_scores.detach().numpy()))\n",
    "\n",
    "    # (len(batch) * n_entities, 1) -> (len(batch), n_entities)\n",
    "    scores_head = torch.FloatTensor(scores_head.reshape(len(batch), n_entities))\n",
    "    scores_tail = torch.FloatTensor(scores_tail.reshape(len(batch), n_entities))\n",
    "    \n",
    "    te_pos_score = torch.diagonal(te_tail_neg_score(te_pos_head_emb, te_pos_rel_emb, te_pos_tail_emb,\n",
    "                                1, len(batch), len(batch)).squeeze(0), 0).reshape(len(batch),1)   \n",
    "    dm_pos_score = torch.diagonal(dm_tail_neg_score(dm_pos_head_emb, dm_pos_rel_emb, dm_pos_tail_emb,\n",
    "                                1, len(batch), len(batch)).squeeze(0), 0).reshape(len(batch),1)\n",
    "    \n",
    "    cmb_pos_score = torch.cat([te_pos_score, dm_pos_score], dim=1)\n",
    "    pos_score = logmodel.decision_function(scaler.transform(cmb_pos_score.detach().numpy())).reshape(len(batch),1)\n",
    "    pos_score = torch.FloatTensor(pos_score)\n",
    "\n",
    "    scores_head = dl.filter_scores(\n",
    "        batch,\n",
    "        scores_head,\n",
    "        0,\n",
    "        float('-Inf')\n",
    "    )\n",
    "    \n",
    "    scores_tail = dl.filter_scores(\n",
    "        batch,\n",
    "        scores_tail,\n",
    "        2,\n",
    "        float('-Inf')\n",
    "    )\n",
    "    \n",
    "    rankings_h = torch.sum(scores_head > pos_score, dim=1) + 1\n",
    "    rankings_h = rankings_h.numpy()\n",
    "    rankings_t = torch.sum(scores_tail > pos_score, dim=1) + 1\n",
    "    rankings_t = rankings_t.numpy()\n",
    "\n",
    "    for i in range(len(batch)):\n",
    "        ranking_h = rankings_h[i]\n",
    "        ranking_t = rankings_t[i]\n",
    "        logs_h.append({\n",
    "            'MRR': 1.0 / ranking_h,\n",
    "            'MR': float(ranking_h),\n",
    "            # 'HITS@1': 1.0 if ranking_h <= 1 else 0.0,\n",
    "            # 'HITS@3': 1.0 if ranking_h <= 3 else 0.0,\n",
    "            # 'HITS@10': 1.0 if ranking_h <= 10 else 0.0\n",
    "        })\n",
    "        logs_t.append({\n",
    "            'MRR': 1.0 / ranking_t,\n",
    "            'MR': float(ranking_t),\n",
    "            # 'HITS@1': 1.0 if ranking_t <= 1 else 0.0,\n",
    "            # 'HITS@3': 1.0 if ranking_t <= 3 else 0.0,\n",
    "            # 'HITS@10': 1.0 if ranking_t <= 10 else 0.0\n",
    "        })        \n",
    "    \n",
    "    top10_heads.append(torch.topk(scores_head, 10)[1])\n",
    "    top10_tails.append(torch.topk(scores_tail, 10)[1])\n",
    "\n",
    "top10_heads = torch.cat(top10_heads, dim=0)\n",
    "top10_tails = torch.cat(top10_tails, dim=0)\n",
    "\n",
    "ev.eval(top10_heads, top10_tails, dl.testing)"
   ]
  },
  {
   "cell_type": "code",
   "execution_count": null,
   "metadata": {},
   "outputs": [],
   "source": [
    "# {'h10': 0.547048032283783} # transe + distmult\n",
    "# {'h10': 0.5602965354919434} # distmult + complex"
   ]
  },
  {
   "cell_type": "code",
   "execution_count": 154,
   "metadata": {},
   "outputs": [
    {
     "name": "stdout",
     "output_type": "stream",
     "text": [
      "-------------- Test result for head --------------\n",
      "Test average for head MRR: 0.13739566279422324\n",
      "Test average for head MR: 507.33639287372074\n",
      "-----------------------------------------\n",
      "-------------- Test result for tail --------------\n",
      "Test average for tail MRR: 0.4240785363186287\n",
      "Test average for tail MR: 142.66643641829313\n",
      "-----------------------------------------\n",
      "-------------- Test result --------------\n",
      "Test average MRR: 0.28073709955642595\n",
      "Test average MR: 325.00141464600694\n",
      "-----------------------------------------\n",
      "time: 383 ms (started: 2021-12-09 04:32:15 +00:00)\n"
     ]
    }
   ],
   "source": [
    "metrics_h = {}\n",
    "metrics_t = {}\n",
    "metrics = {}\n",
    "for metric in logs_h[0].keys():\n",
    "    metrics_h[metric] = sum([log[metric] for log in logs_h]) / len(logs_h)\n",
    "print(\"-------------- Test result for head --------------\")\n",
    "for k, v in metrics_h.items():\n",
    "    print('Test average for head {}: {}'.format(k, v))\n",
    "print(\"-----------------------------------------\")\n",
    "\n",
    "for metric in logs_t[0].keys():\n",
    "    metrics_t[metric] = sum([log[metric] for log in logs_t]) / len(logs_t)\n",
    "print(\"-------------- Test result for tail --------------\")\n",
    "for k, v in metrics_t.items():\n",
    "    print('Test average for tail {}: {}'.format(k, v))\n",
    "print(\"-----------------------------------------\")\n",
    "\n",
    "for metric in logs_h[0].keys():\n",
    "    metrics[metric] = (sum([log[metric] for log in logs_h]) + sum([log[metric] for log in logs_t])) / (2 * len(logs_h))\n",
    "print(\"-------------- Test result --------------\")\n",
    "for k, v in metrics.items():\n",
    "    print('Test average {}: {}'.format(k, v))\n",
    "print(\"-----------------------------------------\")"
   ]
  },
  {
   "cell_type": "markdown",
   "metadata": {},
   "source": [
    "### Logistic regression - combine 2 embedding models plus relation types"
   ]
  },
  {
   "cell_type": "code",
   "execution_count": 238,
   "metadata": {},
   "outputs": [
    {
     "name": "stdout",
     "output_type": "stream",
     "text": [
      "time: 11.1 s (started: 2021-12-08 15:00:34 +00:00)\n"
     ]
    }
   ],
   "source": [
    "scaler2 = MinMaxScaler()\n",
    "emb_df = pd.concat([pos_df, neg_df], ignore_index=True)\n",
    "emb_df.drop(columns=[\"triple\"], inplace=True)\n",
    "# emb_df[[\"transE_score\", \"distMult_score\", \"relation\"]] = scaler2.fit_transform(emb_df[[\"transE_score\", \"distMult_score\", \"relation\"]])\n",
    "emb_df[[\"complEx_score\", \"distMult_score\", \"relation\"]] = scaler2.fit_transform(emb_df[[\"complEx_score\", \"distMult_score\", \"relation\"]])"
   ]
  },
  {
   "cell_type": "code",
   "execution_count": 239,
   "metadata": {},
   "outputs": [
    {
     "data": {
      "text/plain": [
       "LogisticRegression()"
      ]
     },
     "execution_count": 239,
     "metadata": {},
     "output_type": "execute_result"
    },
    {
     "name": "stdout",
     "output_type": "stream",
     "text": [
      "time: 12.7 s (started: 2021-12-08 15:00:47 +00:00)\n"
     ]
    }
   ],
   "source": [
    "X_train, X_test, y_train, y_test = train_test_split(emb_df.drop([\"Y\", \"transE_score\"],axis=1), \n",
    "                                                    emb_df[\"Y\"], test_size=0.10, \n",
    "                                                    random_state=101)\n",
    "\n",
    "logmodel2 = LogisticRegression()\n",
    "logmodel2.fit(X_train,y_train)"
   ]
  },
  {
   "cell_type": "code",
   "execution_count": 241,
   "metadata": {},
   "outputs": [
    {
     "name": "stdout",
     "output_type": "stream",
     "text": [
      "./ckpts/ComplEx_OBL2021_1/config.json\n",
      "{'dataset': 'OBL2021', 'model': 'ComplEx', 'emb_size': 380, 'max_train_step': 800000, 'batch_size': 1024, 'neg_sample_size': 512, 'lr': 0.1, 'gamma': 12.0, 'double_ent': False, 'double_rel': False, 'neg_adversarial_sampling': True, 'adversarial_temperature': 1.0, 'regularization_coef': 2e-06, 'regularization_norm': 3, 'emap_file': 'entities.tsv', 'rmap_file': 'relations.tsv'}\n",
      "./ckpts/DistMult_OBL2021_0/config.json\n",
      "{'dataset': 'OBL2021', 'model': 'DistMult', 'emb_size': 380, 'max_train_step': 950000, 'batch_size': 2048, 'neg_sample_size': 1024, 'lr': 0.15, 'gamma': 12.0, 'double_ent': False, 'double_rel': False, 'neg_adversarial_sampling': True, 'adversarial_temperature': 1.0, 'regularization_coef': 4e-07, 'regularization_norm': 3, 'emap_file': 'entities.tsv', 'rmap_file': 'relations.tsv'}\n"
     ]
    },
    {
     "name": "stderr",
     "output_type": "stream",
     "text": [
      "100%|█████████████████████████████████████| 1810/1810 [1:51:12<00:00,  3.69s/it]\n"
     ]
    },
    {
     "name": "stdout",
     "output_type": "stream",
     "text": [
      "Submission file saved here: /Users/siqiwang/Documents/MSC/Project/Draft notebooks/pred_OBL2021.npz\n",
      "Please copy also the following line in the respective field of the submission form:\n",
      "{'h10': 0.5583237409591675}\n",
      "time: 1h 51min 15s (started: 2021-12-08 15:01:46 +00:00)\n"
     ]
    }
   ],
   "source": [
    "import os\n",
    "from dglke.train_pytorch import load_model_from_checkpoint\n",
    "from dglke.utils import load_model_config\n",
    "from tqdm import tqdm\n",
    "\n",
    "class Args():\n",
    "    batch_size_eval = 100\n",
    "    gpu = [-1]\n",
    "    train = False\n",
    "    valid = False\n",
    "    test = True\n",
    "    strict_rel_part = False\n",
    "    soft_rel_part = False\n",
    "    async_update = False\n",
    "    has_edge_importance = False\n",
    "    mix_cpu_gpu = False\n",
    "    gpu_id = gpu[0]\n",
    "\n",
    "def model_args(config):\n",
    "    args = Args()\n",
    "    args.model_name = config[\"model\"]\n",
    "    args.hidden_dim = config[\"emb_size\"]\n",
    "    args.gamma = config[\"gamma\"]\n",
    "    args.double_ent = config[\"double_ent\"]\n",
    "    args.double_rel = config[\"double_rel\"]\n",
    "    args.dataset = config[\"dataset\"]\n",
    "    return args\n",
    "    \n",
    "n_entities = dl.num_entities\n",
    "n_relations = dl.num_relations\n",
    "\n",
    "# import embeddings from the first model\n",
    "# te_ckpt_path = \"./ckpts/TransE_l2_OBL2021_3\"\n",
    "te_ckpt_path = \"./ckpts/ComplEx_OBL2021_1\"\n",
    "te_config = load_model_config(os.path.join(te_ckpt_path, 'config.json'))\n",
    "te_args = model_args(te_config)\n",
    "te_model = load_model_from_checkpoint(te_args, n_entities, n_relations, te_ckpt_path)\n",
    "\n",
    "# some score functions\n",
    "te_head_neg_score = te_model.score_func.create_neg(True)\n",
    "te_tail_neg_score = te_model.score_func.create_neg(False)\n",
    "te_head_neg_prepare = te_model.score_func.create_neg_prepare(True)\n",
    "te_tail_neg_prepare = te_model.score_func.create_neg_prepare(False)\n",
    "\n",
    "# the embeddings of entities and relations\n",
    "te_entity_emb = te_model.entity_emb(torch.arange(dl.num_entities).long(), gpu_id)\n",
    "te_relation_emb = te_model.relation_emb(torch.arange(dl.num_relations).long(), gpu_id)\n",
    "\n",
    "# import embeddings from the second model\n",
    "dm_ckpt_path = \"./ckpts/DistMult_OBL2021_0\"\n",
    "dm_config = load_model_config(os.path.join(dm_ckpt_path, 'config.json'))\n",
    "dm_args = model_args(dm_config)\n",
    "dm_model = load_model_from_checkpoint(dm_args, n_entities, n_relations, dm_ckpt_path)\n",
    "\n",
    "dm_head_neg_score = dm_model.score_func.create_neg(True)\n",
    "dm_tail_neg_score = dm_model.score_func.create_neg(False)\n",
    "dm_head_neg_prepare = dm_model.score_func.create_neg_prepare(True)\n",
    "dm_tail_neg_prepare = dm_model.score_func.create_neg_prepare(False)\n",
    "\n",
    "# the embeddings of entities and relations\n",
    "dm_entity_emb = dm_model.entity_emb(torch.arange(dl.num_entities).long(), gpu_id)\n",
    "dm_relation_emb = dm_model.relation_emb(torch.arange(dl.num_relations).long(), gpu_id)\n",
    "\n",
    "# slice test set into batches of 100 triples each\n",
    "n_batches, batches = dl.get_test_batches(te_args.batch_size_eval)\n",
    "\n",
    "# lists to store the results of top10 predictions\n",
    "top10_tails = []\n",
    "top10_heads = []\n",
    "logs_h = []\n",
    "logs_t = []\n",
    "\n",
    "for batch in tqdm(batches, total=n_batches):\n",
    "    \n",
    "    # head, tail, relation embeddings of test batch\n",
    "    te_pos_head_emb = te_entity_emb[batch[:, 0], :]\n",
    "    te_pos_tail_emb = te_entity_emb[batch[:, 2], :]\n",
    "    pos_rel = batch[:, 1].long()\n",
    "    te_pos_rel_emb = te_relation_emb[pos_rel, :]\n",
    "\n",
    "    # neg_head: all entities, tail: pos_tail_emb\n",
    "    te_neg_head, te_tail = te_head_neg_prepare(pos_rel, 1, te_entity_emb, te_pos_tail_emb, gpu_id, False)\n",
    "    # scores in shape (100, num_entities)\n",
    "    te_scores_head = te_head_neg_score(te_neg_head, te_pos_rel_emb, te_tail,\n",
    "                                    1, len(batch), dl.num_entities).squeeze(0)\n",
    "    te_head, te_neg_tail = te_tail_neg_prepare(pos_rel, 1, te_pos_head_emb, te_entity_emb, gpu_id, False)\n",
    "    te_scores_tail = te_tail_neg_score(te_head, te_pos_rel_emb, te_neg_tail,\n",
    "                                    1, len(batch), dl.num_entities).squeeze(0)\n",
    "\n",
    "    # head, tail, relation embeddings of test batch\n",
    "    dm_pos_head_emb = dm_entity_emb[batch[:, 0], :]\n",
    "    dm_pos_tail_emb = dm_entity_emb[batch[:, 2], :]\n",
    "    dm_pos_rel_emb = dm_relation_emb[pos_rel, :]\n",
    "\n",
    "    # neg_head: all entities, tail: pos_tail_emb\n",
    "    dm_neg_head, dm_tail = dm_head_neg_prepare(pos_rel, 1, dm_entity_emb, dm_pos_tail_emb, gpu_id, False)\n",
    "    # scores in shape (100, num_entities)\n",
    "    dm_scores_head = dm_head_neg_score(dm_neg_head, dm_pos_rel_emb, dm_tail,\n",
    "                                    1, len(batch), dl.num_entities).squeeze(0)\n",
    "    dm_head, dm_neg_tail = dm_tail_neg_prepare(pos_rel, 1, dm_pos_head_emb, dm_entity_emb, gpu_id, False)\n",
    "    dm_scores_tail = dm_tail_neg_score(dm_head, dm_pos_rel_emb, dm_neg_tail,\n",
    "                                    1, len(batch), dl.num_entities).squeeze(0)\n",
    "    \n",
    "    # combine the scores together first, then calculate hybrid scores\n",
    "    # (len(batch), n_entities, 3) -> (len(batch) * n_entities, 3)\n",
    "    cmb_head_scores = torch.cat([te_scores_head.reshape(len(batch), n_entities, 1), dm_scores_head.reshape(len(batch), n_entities, 1), \n",
    "                                 pos_rel.unsqueeze(1).repeat(1, n_entities).reshape(len(batch), n_entities, 1)], dim=2).reshape(len(batch)*n_entities, 3)\n",
    "    scores_head = logmodel2.decision_function(scaler2.transform(cmb_head_scores.detach().numpy()))\n",
    "    cmb_tail_scores = torch.cat([te_scores_tail.reshape(len(batch), n_entities, 1), dm_scores_tail.reshape(len(batch), n_entities, 1), \n",
    "                                 pos_rel.unsqueeze(1).repeat(1, n_entities).reshape(len(batch), n_entities, 1)], dim=2).reshape(len(batch)*n_entities, 3)\n",
    "    scores_tail = logmodel2.decision_function(scaler2.transform(cmb_tail_scores.detach().numpy()))\n",
    "    \n",
    "    # (len(batch) * n_entities, 1) -> (len(batch), n_entities)\n",
    "    scores_head = torch.FloatTensor(scores_head.reshape(len(batch), n_entities))\n",
    "    scores_tail = torch.FloatTensor(scores_tail.reshape(len(batch), n_entities))\n",
    "\n",
    "    te_pos_score = torch.diagonal(te_tail_neg_score(te_pos_head_emb, te_pos_rel_emb, te_pos_tail_emb,\n",
    "                                1, len(batch), len(batch)).squeeze(0), 0).reshape(len(batch),1)   \n",
    "    dm_pos_score = torch.diagonal(dm_tail_neg_score(dm_pos_head_emb, dm_pos_rel_emb, dm_pos_tail_emb,\n",
    "                                1, len(batch), len(batch)).squeeze(0), 0).reshape(len(batch),1)\n",
    "\n",
    "    cmb_pos_score = torch.cat([te_pos_score, dm_pos_score, pos_rel.unsqueeze(1).reshape(len(batch), 1)], dim=1)\n",
    "    pos_score = logmodel2.decision_function(scaler2.transform(cmb_pos_score.detach().numpy())).reshape(len(batch),1)\n",
    "    pos_score = torch.FloatTensor(pos_score)\n",
    "    \n",
    "    scores_head = dl.filter_scores(\n",
    "        batch,\n",
    "        scores_head,\n",
    "        0,\n",
    "        float('-Inf')\n",
    "    )\n",
    "    \n",
    "    scores_tail = dl.filter_scores(\n",
    "        batch,\n",
    "        scores_tail,\n",
    "        2,\n",
    "        float('-Inf')\n",
    "    )\n",
    "    \n",
    "    rankings_h = torch.sum(scores_head > pos_score, dim=1) + 1\n",
    "    rankings_h = rankings_h.numpy()\n",
    "    rankings_t = torch.sum(scores_tail > pos_score, dim=1) + 1\n",
    "    rankings_t = rankings_t.numpy()\n",
    "\n",
    "    for i in range(len(batch)):\n",
    "        ranking_h = rankings_h[i]\n",
    "        ranking_t = rankings_t[i]\n",
    "        logs_h.append({\n",
    "            'MRR': 1.0 / ranking_h,\n",
    "            'MR': float(ranking_h),\n",
    "            # 'HITS@1': 1.0 if ranking_h <= 1 else 0.0,\n",
    "            # 'HITS@3': 1.0 if ranking_h <= 3 else 0.0,\n",
    "            # 'HITS@10': 1.0 if ranking_h <= 10 else 0.0\n",
    "        })\n",
    "        logs_t.append({\n",
    "            'MRR': 1.0 / ranking_t,\n",
    "            'MR': float(ranking_t),\n",
    "            # 'HITS@1': 1.0 if ranking_t <= 1 else 0.0,\n",
    "            # 'HITS@3': 1.0 if ranking_t <= 3 else 0.0,\n",
    "            # 'HITS@10': 1.0 if ranking_t <= 10 else 0.0\n",
    "        })        \n",
    "       \n",
    "    top10_heads.append(torch.topk(scores_head, 10)[1])\n",
    "    top10_tails.append(torch.topk(scores_tail, 10)[1])\n",
    "\n",
    "top10_heads = torch.cat(top10_heads, dim=0)\n",
    "top10_tails = torch.cat(top10_tails, dim=0)\n",
    "\n",
    "ev.eval(top10_heads, top10_tails, dl.testing)"
   ]
  },
  {
   "cell_type": "code",
   "execution_count": 242,
   "metadata": {},
   "outputs": [
    {
     "name": "stdout",
     "output_type": "stream",
     "text": [
      "time: 14.5 ms (started: 2021-12-08 16:59:33 +00:00)\n"
     ]
    }
   ],
   "source": [
    "# transE + distMult + relation\n",
    "# {'h10': 0.5466722846031189}\n",
    "# distMult + complEx + relation\n",
    "# {'h10': 0.5583237409591675}"
   ]
  },
  {
   "cell_type": "code",
   "execution_count": 243,
   "metadata": {
    "scrolled": true,
    "tags": []
   },
   "outputs": [
    {
     "name": "stdout",
     "output_type": "stream",
     "text": [
      "-------------- Test result for head --------------\n",
      "Test average for head MRR: 0.17604599520974526\n",
      "Test average for head MR: 669.0794246369444\n",
      "-----------------------------------------\n",
      "-------------- Test result for tail --------------\n",
      "Test average for tail MRR: 0.42807437567950785\n",
      "Test average for tail MR: 424.3737317919586\n",
      "-----------------------------------------\n",
      "-------------- Test result --------------\n",
      "Test average MRR: 0.30206018544462654\n",
      "Test average MR: 546.7265782144515\n",
      "-----------------------------------------\n",
      "time: 326 ms (started: 2021-12-08 16:59:42 +00:00)\n"
     ]
    }
   ],
   "source": [
    "metrics_h = {}\n",
    "metrics_t = {}\n",
    "metrics = {}\n",
    "for metric in logs_h[0].keys():\n",
    "    metrics_h[metric] = sum([log[metric] for log in logs_h]) / len(logs_h)\n",
    "print(\"-------------- Test result for head --------------\")\n",
    "for k, v in metrics_h.items():\n",
    "    print('Test average for head {}: {}'.format(k, v))\n",
    "print(\"-----------------------------------------\")\n",
    "\n",
    "for metric in logs_t[0].keys():\n",
    "    metrics_t[metric] = sum([log[metric] for log in logs_t]) / len(logs_t)\n",
    "print(\"-------------- Test result for tail --------------\")\n",
    "for k, v in metrics_t.items():\n",
    "    print('Test average for tail {}: {}'.format(k, v))\n",
    "print(\"-----------------------------------------\")\n",
    "\n",
    "for metric in logs_h[0].keys():\n",
    "    metrics[metric] = (sum([log[metric] for log in logs_h]) + sum([log[metric] for log in logs_t])) / (2 * len(logs_h))\n",
    "print(\"-------------- Test result --------------\")\n",
    "for k, v in metrics.items():\n",
    "    print('Test average {}: {}'.format(k, v))\n",
    "print(\"-----------------------------------------\")"
   ]
  },
  {
   "cell_type": "markdown",
   "metadata": {},
   "source": [
    "## Analysis on the results"
   ]
  },
  {
   "cell_type": "markdown",
   "metadata": {},
   "source": [
    "### Find out relation patterns"
   ]
  },
  {
   "cell_type": "code",
   "execution_count": 123,
   "metadata": {},
   "outputs": [
    {
     "name": "stdout",
     "output_type": "stream",
     "text": [
      "time: 10h 7min 23s (started: 2021-12-07 15:11:31 +00:00)\n"
     ]
    }
   ],
   "source": [
    "# modified from https://github.com/merialdo/research.lpca/blob/master/dataset_analysis/relation_properties/relation_properties.py\n",
    "from collections import defaultdict, Counter\n",
    "\n",
    "SYMMETRIC = \"Symmetric\"\n",
    "ANTISYMMETRIC = \"Antisymmetric\"\n",
    "\n",
    "ONETON = \"1 to N\"\n",
    "ONETOONE = \"1 to 1\"\n",
    "\n",
    "TRANSITIVE = \"Transitive\"\n",
    "\n",
    "# check whether a relation is symmetric, set the threshold to 0.5, if more than 50% triples fulfills the condition, the relation is symmetric\n",
    "def _check_symmetry(relation, relation_2_train_facts, tolerance=0.5):\n",
    "    # triples of one relation\n",
    "    facts_with_that_relation = relation_2_train_facts[relation]\n",
    "\n",
    "    numerator_count = 0\n",
    "    denominator_count = 0\n",
    "    for (head, relation, tail) in facts_with_that_relation:\n",
    "        if head == tail:\n",
    "            continue\n",
    "        # total count + 1\n",
    "        denominator_count += 1\n",
    "        # see if (t, r, h) exist for (h, r, t)\n",
    "        if (tail, relation, head) in facts_with_that_relation:\n",
    "            numerator_count += 1\n",
    "\n",
    "    if numerator_count == 0:\n",
    "        return ANTISYMMETRIC\n",
    "    if (float(numerator_count) / float(denominator_count)) >= tolerance:\n",
    "        return SYMMETRIC\n",
    "    else:\n",
    "        return None\n",
    "\n",
    "def _check_transitivity(relation, relation_2_train_facts, head_2_train_facts, tolerance=0.5):\n",
    "\n",
    "    facts_with_that_relation = relation_2_train_facts[relation]\n",
    "\n",
    "    all_chains_count = 0\n",
    "    transitive_chains_count = 0\n",
    "\n",
    "    for step_one_fact in facts_with_that_relation:\n",
    "        (head1, relation1, tail1) = step_one_fact\n",
    "\n",
    "        if head1 == tail1:\n",
    "            continue\n",
    "\n",
    "        for step_two_fact in head_2_train_facts[tail1]:\n",
    "            (head2, relation2, tail2) = step_two_fact\n",
    "\n",
    "            if relation2 != relation:\n",
    "                continue\n",
    "            if head2 == tail2 or tail2 == head1:\n",
    "                continue\n",
    "\n",
    "            all_chains_count += 1\n",
    "\n",
    "            if (head1, relation, tail2) in facts_with_that_relation:\n",
    "                transitive_chains_count += 1\n",
    "\n",
    "    if transitive_chains_count > 0 and (float(transitive_chains_count) / float(all_chains_count)) >= tolerance:\n",
    "        return TRANSITIVE\n",
    "    else:\n",
    "        return None\n",
    "\n",
    "# check whether a relation is 1-to-N, set the threshold to 0.5, if more than 50% triples fulfills the condition, the relation is 1-to-N\n",
    "def _check_1_2_N(relation, relation_2_train_facts, tolerance=0.5):\n",
    "\n",
    "    facts_with_that_relation = relation_2_train_facts[relation]\n",
    "\n",
    "    heads = set()\n",
    "    heads_lst = []\n",
    "    for fact in facts_with_that_relation:\n",
    "        heads.add(fact[0])\n",
    "        heads_lst.append(fact[0])\n",
    "\n",
    "    morethan1_count = 0\n",
    "    overall_count = 0\n",
    "    for head in heads:\n",
    "        # total count + 1\n",
    "        overall_count +=1\n",
    "        # see if the (h, r, ) exist more than once\n",
    "        if Counter(heads_lst)[head] > 1:\n",
    "            morethan1_count+=1\n",
    "\n",
    "    if morethan1_count == 0:\n",
    "        return ONETOONE\n",
    "    if (float(morethan1_count)/float(overall_count)) >= tolerance:\n",
    "        return ONETON\n",
    "    else:\n",
    "        return None\n",
    "\n",
    "# store types of each relation\n",
    "relation_2_types = defaultdict(lambda: [])\n",
    "\n",
    "# store training triples for relation and head entity\n",
    "relation_2_train_facts = defaultdict(lambda: set())\n",
    "head_2_train_facts = defaultdict(lambda: set())\n",
    "\n",
    "for (head, relation, tail) in dl.training:\n",
    "    head = str(head.numpy())\n",
    "    relation = str(relation.numpy())\n",
    "    tail = str(tail.numpy())\n",
    "    relation_2_train_facts[relation].add((head, relation, tail))\n",
    "    head_2_train_facts[head].add((head, relation, tail))\n",
    "\n",
    "# check all 28 relations\n",
    "for relation in range(28):\n",
    "    relation = str(relation)\n",
    "    relation_2_types[relation] = []\n",
    "\n",
    "    is_symmetric = _check_symmetry(relation, relation_2_train_facts)\n",
    "    is_transitive = _check_transitivity(relation, relation_2_train_facts, head_2_train_facts)\n",
    "    is_1toN = _check_1_2_N(relation, relation_2_train_facts)\n",
    "\n",
    "    if is_symmetric is not None:\n",
    "        relation_2_types[relation].append(is_symmetric)\n",
    "    if is_transitive is not None:\n",
    "        relation_2_types[relation].append(is_transitive)\n",
    "    if is_1toN is not None:\n",
    "        relation_2_types[relation].append(is_1toN)"
   ]
  },
  {
   "cell_type": "code",
   "execution_count": 124,
   "metadata": {},
   "outputs": [
    {
     "data": {
      "text/plain": [
       "defaultdict(<function __main__.<lambda>()>,\n",
       "            {'0': ['Antisymmetric', '1 to N'],\n",
       "             '1': ['Antisymmetric', '1 to N'],\n",
       "             '2': ['Antisymmetric'],\n",
       "             '3': ['Antisymmetric'],\n",
       "             '4': ['Antisymmetric'],\n",
       "             '5': ['Antisymmetric'],\n",
       "             '6': ['Antisymmetric', '1 to N'],\n",
       "             '7': ['Antisymmetric'],\n",
       "             '8': ['Antisymmetric', '1 to N'],\n",
       "             '9': ['Antisymmetric', '1 to N'],\n",
       "             '10': ['Transitive', '1 to N'],\n",
       "             '11': ['Symmetric', '1 to N'],\n",
       "             '12': ['Symmetric', 'Transitive', '1 to N'],\n",
       "             '13': ['Antisymmetric'],\n",
       "             '14': ['Antisymmetric', '1 to N'],\n",
       "             '15': ['Antisymmetric', '1 to N'],\n",
       "             '16': ['Antisymmetric'],\n",
       "             '17': ['Symmetric', '1 to N'],\n",
       "             '18': ['Antisymmetric', '1 to N'],\n",
       "             '19': ['Transitive', '1 to N'],\n",
       "             '20': ['Antisymmetric', '1 to N'],\n",
       "             '21': ['Antisymmetric', '1 to N'],\n",
       "             '22': ['Antisymmetric', '1 to N'],\n",
       "             '23': ['Symmetric', '1 to N'],\n",
       "             '24': ['Symmetric', 'Transitive', '1 to N'],\n",
       "             '25': ['Antisymmetric', '1 to N'],\n",
       "             '26': ['Antisymmetric'],\n",
       "             '27': ['Antisymmetric']})"
      ]
     },
     "execution_count": 124,
     "metadata": {},
     "output_type": "execute_result"
    },
    {
     "name": "stdout",
     "output_type": "stream",
     "text": [
      "time: 54.7 ms (started: 2021-12-08 07:28:18 +00:00)\n"
     ]
    }
   ],
   "source": [
    "relation_2_types"
   ]
  },
  {
   "cell_type": "code",
   "execution_count": 182,
   "metadata": {},
   "outputs": [
    {
     "name": "stdout",
     "output_type": "stream",
     "text": [
      "time: 3.4 ms (started: 2021-12-09 15:41:31 +00:00)\n"
     ]
    }
   ],
   "source": [
    "# store all the models used\n",
    "\n",
    "models = [\"transe\", \"dist\", \"cplx\", \"any\", \"hb_td\", \"hb_tdr\", \"hb_dc\", \"hb_dcr\"]"
   ]
  },
  {
   "cell_type": "code",
   "execution_count": 183,
   "metadata": {},
   "outputs": [
    {
     "data": {
      "text/plain": [
       "array([[168666, 167833, 167590, ..., 168813, 169745, 171145],\n",
       "       [168819, 167451, 168889, ..., 167851, 169235, 167759],\n",
       "       [ 77274,  73401,  75218, ...,  71006,  73439,  75711],\n",
       "       ...,\n",
       "       [  2592,   2595,   2418, ...,   4608,   4429,   3058],\n",
       "       [ 76393,  86351,  75273, ...,  77329,  85011,  85950],\n",
       "       [ 78513,  84972,  78815, ...,  88852,  81306,  76767]], dtype=int32)"
      ]
     },
     "execution_count": 183,
     "metadata": {},
     "output_type": "execute_result"
    },
    {
     "name": "stdout",
     "output_type": "stream",
     "text": [
      "time: 180 ms (started: 2021-12-09 15:41:51 +00:00)\n"
     ]
    }
   ],
   "source": [
    "# save hybrid predictions\n",
    "# TransE + DistMult\n",
    "\n",
    "hb_td_pred = np.load(\"./pred/pred_OBL2021_TD.npz\")\n",
    "hb_td_pred = hb_td_pred[\"pred_top10\"]\n",
    "hb_td_pred"
   ]
  },
  {
   "cell_type": "code",
   "execution_count": 184,
   "metadata": {},
   "outputs": [
    {
     "data": {
      "text/plain": [
       "array([[168666, 167833, 167590, ..., 169745, 168813, 167759],\n",
       "       [168819, 167451, 168031, ..., 167759, 168896, 172605],\n",
       "       [ 77274,  73401,  86899, ...,  72324,  75711,  73439],\n",
       "       ...,\n",
       "       [  2592,   2595,   2418, ...,   4035,   8852,   4608],\n",
       "       [ 76393,  86351,  75273, ...,  77329,  85011,  85950],\n",
       "       [ 78513,  76125,  84972, ...,  78710,  88852,  88182]], dtype=int32)"
      ]
     },
     "execution_count": 184,
     "metadata": {},
     "output_type": "execute_result"
    },
    {
     "name": "stdout",
     "output_type": "stream",
     "text": [
      "time: 112 ms (started: 2021-12-09 15:41:57 +00:00)\n"
     ]
    }
   ],
   "source": [
    "# TransE + DistMult + relation\n",
    "\n",
    "hb_tdr_pred = np.load(\"./pred/pred_OBL2021_TDR.npz\")\n",
    "hb_tdr_pred = hb_tdr_pred[\"pred_top10\"]\n",
    "hb_tdr_pred"
   ]
  },
  {
   "cell_type": "code",
   "execution_count": 185,
   "metadata": {},
   "outputs": [
    {
     "data": {
      "text/plain": [
       "array([[167833, 168666, 167590, ..., 169745, 169156, 168677],\n",
       "       [168819, 167451, 168031, ..., 169235, 167851, 172605],\n",
       "       [ 77274,  73401,  73439, ...,  75218,  83390,  72261],\n",
       "       ...,\n",
       "       [  2595,   2592,  11251, ...,   4580,   4438,   2418],\n",
       "       [ 86351,  84825,  81145, ...,  85011,  77329,  81014],\n",
       "       [ 78513,  84972,  78815, ...,  81306,  86533,  76767]], dtype=int32)"
      ]
     },
     "execution_count": 185,
     "metadata": {},
     "output_type": "execute_result"
    },
    {
     "name": "stdout",
     "output_type": "stream",
     "text": [
      "time: 106 ms (started: 2021-12-09 15:42:01 +00:00)\n"
     ]
    }
   ],
   "source": [
    "# DistMult + ComplEx\n",
    "\n",
    "hb_dc_pred = np.load(\"./pred/pred_OBL2021_DC.npz\")\n",
    "hb_dc_pred = hb_dc_pred[\"pred_top10\"]\n",
    "hb_dc_pred"
   ]
  },
  {
   "cell_type": "code",
   "execution_count": 186,
   "metadata": {},
   "outputs": [
    {
     "data": {
      "text/plain": [
       "array([[167833, 168666, 167590, ..., 169745, 169156, 168677],\n",
       "       [168819, 168031, 167451, ..., 169235, 167759, 172605],\n",
       "       [ 77274,  73401,  73439, ...,  75218,  85653,  72261],\n",
       "       ...,\n",
       "       [  2595,   2592,  11251, ...,   2509,   4438,  16737],\n",
       "       [ 86351,  84825,  81145, ...,  85011,  77329,  81014],\n",
       "       [ 78513,  84972,  78815, ...,  76767,  70212,  86533]], dtype=int32)"
      ]
     },
     "execution_count": 186,
     "metadata": {},
     "output_type": "execute_result"
    },
    {
     "name": "stdout",
     "output_type": "stream",
     "text": [
      "time: 108 ms (started: 2021-12-09 15:42:04 +00:00)\n"
     ]
    }
   ],
   "source": [
    "# DistMult + ComplEx + relation\n",
    "\n",
    "hb_dcr_pred = np.load(\"./pred/pred_OBL2021_DCR.npz\")\n",
    "hb_dcr_pred = hb_dcr_pred[\"pred_top10\"]\n",
    "hb_dcr_pred"
   ]
  },
  {
   "cell_type": "code",
   "execution_count": 187,
   "metadata": {},
   "outputs": [
    {
     "data": {
      "text/html": [
       "<div>\n",
       "<style scoped>\n",
       "    .dataframe tbody tr th:only-of-type {\n",
       "        vertical-align: middle;\n",
       "    }\n",
       "\n",
       "    .dataframe tbody tr th {\n",
       "        vertical-align: top;\n",
       "    }\n",
       "\n",
       "    .dataframe thead th {\n",
       "        text-align: right;\n",
       "    }\n",
       "</style>\n",
       "<table border=\"1\" class=\"dataframe\">\n",
       "  <thead>\n",
       "    <tr style=\"text-align: right;\">\n",
       "      <th></th>\n",
       "      <th>head</th>\n",
       "      <th>relation</th>\n",
       "      <th>tail</th>\n",
       "      <th>transe_pred_tail</th>\n",
       "      <th>transe_pred_head</th>\n",
       "      <th>dist_pred_tail</th>\n",
       "      <th>dist_pred_head</th>\n",
       "      <th>cplx_pred_tail</th>\n",
       "      <th>cplx_pred_head</th>\n",
       "      <th>any_pred_tail</th>\n",
       "      <th>any_pred_head</th>\n",
       "      <th>hb_td_pred_tail</th>\n",
       "      <th>hb_td_pred_head</th>\n",
       "      <th>hb_tdr_pred_tail</th>\n",
       "      <th>hb_tdr_pred_head</th>\n",
       "      <th>hb_dc_pred_tail</th>\n",
       "      <th>hb_dc_pred_head</th>\n",
       "      <th>hb_dcr_pred_tail</th>\n",
       "      <th>hb_dcr_pred_head</th>\n",
       "    </tr>\n",
       "  </thead>\n",
       "  <tbody>\n",
       "    <tr>\n",
       "      <th>0</th>\n",
       "      <td>72318</td>\n",
       "      <td>15</td>\n",
       "      <td>168666</td>\n",
       "      <td>[167833, 168666, 171063, 18, 175963, 168677, 1...</td>\n",
       "      <td>[77850, 85286, 78463, 88804, 89411, 81409, 711...</td>\n",
       "      <td>[168666, 167833, 167590, 171063, 18, 168677, 1...</td>\n",
       "      <td>[73061, 74920, 71353, 83440, 75483, 83789, 712...</td>\n",
       "      <td>[167833, 168666, 18, 175963, 167590, 167793, 1...</td>\n",
       "      <td>[71234, 89409, 87715, 79356, 83789, 83939, 866...</td>\n",
       "      <td>[167833, 168666, 168677, 168420, 169155, 16881...</td>\n",
       "      <td>[77559, 75388, 71016, 75031, 76224, 79186, 791...</td>\n",
       "      <td>[168666, 167833, 167590, 171063, 18, 168677, 1...</td>\n",
       "      <td>[75228, 71353, 83789, 74920, 83440, 86498, 730...</td>\n",
       "      <td>[168666, 167833, 167590, 171063, 18, 168677, 1...</td>\n",
       "      <td>[74920, 71353, 73061, 83789, 83440, 75228, 864...</td>\n",
       "      <td>[167833, 168666, 167590, 18, 171063, 167793, 1...</td>\n",
       "      <td>[71234, 83789, 86604, 71296, 74920, 83939, 864...</td>\n",
       "      <td>[167833, 168666, 167590, 18, 171063, 167793, 1...</td>\n",
       "      <td>[71234, 83789, 74920, 86604, 71296, 86498, 730...</td>\n",
       "    </tr>\n",
       "    <tr>\n",
       "      <th>1</th>\n",
       "      <td>85922</td>\n",
       "      <td>15</td>\n",
       "      <td>169140</td>\n",
       "      <td>[168819, 169140, 171063, 168889, 168863, 16745...</td>\n",
       "      <td>[78463, 83549, 72352, 89401, 73869, 74180, 877...</td>\n",
       "      <td>[168819, 168031, 167451, 171145, 168889, 16775...</td>\n",
       "      <td>[73869, 87795, 74054, 83549, 81236, 81604, 821...</td>\n",
       "      <td>[168819, 18, 169235, 169140, 167851, 167451, 1...</td>\n",
       "      <td>[84517, 87980, 84483, 86520, 80314, 87779, 828...</td>\n",
       "      <td>[169140, 168819, 168889, 167935, 167851, 16923...</td>\n",
       "      <td>[88707, 78713, 82416, 81507, 85870, 70588, 795...</td>\n",
       "      <td>[168819, 167451, 168889, 169140, 171145, 16803...</td>\n",
       "      <td>[73869, 83549, 87795, 74054, 78398, 76765, 816...</td>\n",
       "      <td>[168819, 167451, 168031, 168889, 171145, 16915...</td>\n",
       "      <td>[73869, 83549, 87795, 74054, 78398, 81604, 767...</td>\n",
       "      <td>[168819, 167451, 168031, 171145, 168889, 16914...</td>\n",
       "      <td>[74054, 73869, 87795, 76765, 83549, 88596, 816...</td>\n",
       "      <td>[168819, 168031, 167451, 171145, 168889, 16915...</td>\n",
       "      <td>[73869, 74054, 87795, 76765, 83549, 81604, 885...</td>\n",
       "    </tr>\n",
       "    <tr>\n",
       "      <th>2</th>\n",
       "      <td>77274</td>\n",
       "      <td>11</td>\n",
       "      <td>75011</td>\n",
       "      <td>[77274, 75218, 82786, 73401, 81054, 72324, 760...</td>\n",
       "      <td>[75011, 74919, 83331, 75165, 76329, 74912, 744...</td>\n",
       "      <td>[77274, 73401, 86899, 85653, 73199, 77796, 757...</td>\n",
       "      <td>[74919, 75011, 77274, 74447, 76329, 71515, 761...</td>\n",
       "      <td>[77274, 73439, 83390, 79726, 73401, 82786, 828...</td>\n",
       "      <td>[75011, 74919, 77274, 76329, 76187, 74447, 744...</td>\n",
       "      <td>[70480, 72013, 72133, 70444, 73772, 88252, 775...</td>\n",
       "      <td>[74919, 77274, 71515, 76329, 89374, 76187, 767...</td>\n",
       "      <td>[77274, 73401, 75218, 86899, 81054, 72324, 731...</td>\n",
       "      <td>[75011, 74919, 76329, 74447, 77274, 71515, 761...</td>\n",
       "      <td>[77274, 73401, 86899, 75218, 73199, 81054, 710...</td>\n",
       "      <td>[75011, 74919, 77274, 76329, 74447, 71515, 761...</td>\n",
       "      <td>[77274, 73401, 73439, 77585, 86899, 71006, 757...</td>\n",
       "      <td>[75011, 74919, 77274, 76329, 74447, 76187, 715...</td>\n",
       "      <td>[77274, 73401, 73439, 86899, 77585, 75711, 710...</td>\n",
       "      <td>[74919, 75011, 77274, 76329, 74447, 76187, 715...</td>\n",
       "    </tr>\n",
       "    <tr>\n",
       "      <th>3</th>\n",
       "      <td>77474</td>\n",
       "      <td>12</td>\n",
       "      <td>81932</td>\n",
       "      <td>[77474, 71886, 76735, 88172, 84367, 75177, 762...</td>\n",
       "      <td>[81932, 76780, 76776, 80479, 77211, 83076, 843...</td>\n",
       "      <td>[85179, 85670, 72011, 77410, 84367, 74180, 809...</td>\n",
       "      <td>[81932, 87443, 76776, 71684, 77600, 81347, 830...</td>\n",
       "      <td>[80911, 76735, 77474, 71886, 81229, 85179, 881...</td>\n",
       "      <td>[81932, 86129, 77818, 84376, 72862, 77885, 874...</td>\n",
       "      <td>[83385, 76735, 88172, 85670, 85179, 77410, 819...</td>\n",
       "      <td>[83076, 87443, 85543, 76780, 76776, 77358, 716...</td>\n",
       "      <td>[77474, 85179, 72011, 84367, 85670, 88172, 774...</td>\n",
       "      <td>[81932, 76776, 87443, 71684, 83076, 81347, 767...</td>\n",
       "      <td>[77474, 85179, 72011, 85670, 84367, 77410, 881...</td>\n",
       "      <td>[81932, 76776, 87443, 71684, 81347, 83076, 776...</td>\n",
       "      <td>[85179, 72011, 80911, 77410, 85670, 84367, 767...</td>\n",
       "      <td>[81932, 87443, 76776, 72862, 81347, 71684, 861...</td>\n",
       "      <td>[85179, 72011, 85670, 77410, 80911, 84367, 767...</td>\n",
       "      <td>[81932, 87443, 76776, 81347, 72862, 71684, 719...</td>\n",
       "    </tr>\n",
       "    <tr>\n",
       "      <th>4</th>\n",
       "      <td>87622</td>\n",
       "      <td>15</td>\n",
       "      <td>168734</td>\n",
       "      <td>[168734, 168660, 168025, 600, 167475, 167451, ...</td>\n",
       "      <td>[70524, 77850, 78463, 76786, 74637, 85259, 779...</td>\n",
       "      <td>[168734, 168660, 168025, 169882, 168659, 16924...</td>\n",
       "      <td>[80073, 80062, 80416, 80320, 77557, 87621, 791...</td>\n",
       "      <td>[168734, 168660, 168025, 167852, 168659, 16745...</td>\n",
       "      <td>[87060, 80320, 88106, 83983, 73820, 88657, 876...</td>\n",
       "      <td>[168734, 168025, 168660, 168175, 168177, 16745...</td>\n",
       "      <td>[80416, 81331, 77598, 83465, 78338, 70776, 803...</td>\n",
       "      <td>[168734, 168660, 168025, 167451, 168659, 16988...</td>\n",
       "      <td>[80073, 76786, 80062, 76822, 85259, 85346, 803...</td>\n",
       "      <td>[168734, 168660, 168025, 169882, 168659, 16745...</td>\n",
       "      <td>[80073, 80062, 80320, 80416, 87621, 76822, 853...</td>\n",
       "      <td>[168734, 168660, 168025, 169882, 168659, 16924...</td>\n",
       "      <td>[80073, 80320, 80062, 87622, 87621, 80416, 724...</td>\n",
       "      <td>[168734, 168660, 168025, 169882, 168659, 16924...</td>\n",
       "      <td>[80073, 80320, 80062, 80416, 87621, 87622, 724...</td>\n",
       "    </tr>\n",
       "    <tr>\n",
       "      <th>...</th>\n",
       "      <td>...</td>\n",
       "      <td>...</td>\n",
       "      <td>...</td>\n",
       "      <td>...</td>\n",
       "      <td>...</td>\n",
       "      <td>...</td>\n",
       "      <td>...</td>\n",
       "      <td>...</td>\n",
       "      <td>...</td>\n",
       "      <td>...</td>\n",
       "      <td>...</td>\n",
       "      <td>...</td>\n",
       "      <td>...</td>\n",
       "      <td>...</td>\n",
       "      <td>...</td>\n",
       "      <td>...</td>\n",
       "      <td>...</td>\n",
       "      <td>...</td>\n",
       "      <td>...</td>\n",
       "    </tr>\n",
       "    <tr>\n",
       "      <th>180959</th>\n",
       "      <td>86138</td>\n",
       "      <td>18</td>\n",
       "      <td>30503</td>\n",
       "      <td>[53364, 24450, 24449, 20935, 53365, 16686, 209...</td>\n",
       "      <td>[85259, 77648, 87251, 77845, 83080, 85238, 744...</td>\n",
       "      <td>[53364, 18649, 24450, 24449, 167813, 167852, 1...</td>\n",
       "      <td>[78279, 80499, 81234, 77648, 79434, 79182, 802...</td>\n",
       "      <td>[53364, 24450, 20935, 24449, 16686, 20939, 533...</td>\n",
       "      <td>[81604, 83646, 70842, 78383, 70138, 85259, 804...</td>\n",
       "      <td>[15244, 15068, 15245, 16267, 13837, 20113, 151...</td>\n",
       "      <td>[87209, 83449, 73839, 87387, 82469, 82904, 753...</td>\n",
       "      <td>[53364, 24450, 24449, 18649, 53365, 20935, 166...</td>\n",
       "      <td>[77648, 78279, 81234, 80499, 78492, 74180, 802...</td>\n",
       "      <td>[53364, 24450, 18649, 24449, 16686, 53365, 157...</td>\n",
       "      <td>[78279, 80499, 77648, 81234, 78492, 80206, 741...</td>\n",
       "      <td>[53364, 24450, 18649, 24449, 16686, 20935, 209...</td>\n",
       "      <td>[80499, 70138, 70842, 77648, 80206, 79733, 794...</td>\n",
       "      <td>[53364, 24450, 18649, 24449, 16686, 20935, 209...</td>\n",
       "      <td>[80499, 70138, 77648, 70842, 80206, 79434, 797...</td>\n",
       "    </tr>\n",
       "    <tr>\n",
       "      <th>180960</th>\n",
       "      <td>86984</td>\n",
       "      <td>21</td>\n",
       "      <td>166246</td>\n",
       "      <td>[166246, 166247, 166999, 166456, 69958, 166896...</td>\n",
       "      <td>[77494, 87111, 80176, 86984, 77355, 70727, 869...</td>\n",
       "      <td>[166246, 75208, 166386, 166999, 80056, 166247,...</td>\n",
       "      <td>[86984, 70727, 77494, 75072, 86940, 71314, 850...</td>\n",
       "      <td>[166246, 166999, 166386, 166995, 166378, 16638...</td>\n",
       "      <td>[86984, 70727, 86940, 74550, 77355, 74775, 869...</td>\n",
       "      <td>[166246, 165834, 165936, 166985, 69957, 165593...</td>\n",
       "      <td>[86984, 70727, 80053, 75075, 84923, 75024, 703...</td>\n",
       "      <td>[166246, 166999, 166386, 166247, 166456, 69958...</td>\n",
       "      <td>[86984, 70727, 77494, 86940, 75072, 85021, 773...</td>\n",
       "      <td>[166246, 166386, 166999, 166247, 166456, 69788...</td>\n",
       "      <td>[86984, 70727, 77494, 86940, 75072, 85021, 713...</td>\n",
       "      <td>[166246, 166386, 166999, 166995, 69788, 166383...</td>\n",
       "      <td>[86984, 70727, 86940, 77494, 75072, 74550, 773...</td>\n",
       "      <td>[166246, 166386, 166999, 69788, 166247, 166995...</td>\n",
       "      <td>[86984, 70727, 86940, 77494, 75072, 74550, 713...</td>\n",
       "    </tr>\n",
       "    <tr>\n",
       "      <th>180961</th>\n",
       "      <td>3154</td>\n",
       "      <td>26</td>\n",
       "      <td>2592</td>\n",
       "      <td>[3154, 7084, 2899, 6804, 7925, 2900, 4147, 680...</td>\n",
       "      <td>[2592, 2418, 6982, 7081, 8501, 7916, 9088, 820...</td>\n",
       "      <td>[7926, 171459, 7925, 168677, 168613, 173716, 1...</td>\n",
       "      <td>[2595, 2592, 168888, 2876, 11251, 2418, 20696,...</td>\n",
       "      <td>[69962, 15200, 7925, 167852, 172605, 7084, 167...</td>\n",
       "      <td>[167833, 4087, 171597, 2593, 11251, 16737, 176...</td>\n",
       "      <td>[2593, 7095, 7084, 7925, 170570, 174054, 17057...</td>\n",
       "      <td>[4510, 4804, 3391, 4832, 4827, 4821, 4826, 483...</td>\n",
       "      <td>[3154, 7084, 7925, 7926, 6804, 2899, 2900, 259...</td>\n",
       "      <td>[2592, 2595, 2418, 7916, 4035, 4821, 11251, 46...</td>\n",
       "      <td>[7084, 7925, 3154, 7926, 2593, 6804, 2900, 168...</td>\n",
       "      <td>[2592, 2595, 2418, 11251, 7916, 4429, 4821, 40...</td>\n",
       "      <td>[7925, 7084, 168613, 167503, 167578, 168064, 1...</td>\n",
       "      <td>[2595, 2592, 11251, 4821, 2509, 4545, 16737, 4...</td>\n",
       "      <td>[7925, 168613, 7084, 167503, 167578, 168677, 1...</td>\n",
       "      <td>[2595, 2592, 11251, 4821, 2418, 4545, 4580, 25...</td>\n",
       "    </tr>\n",
       "    <tr>\n",
       "      <th>180962</th>\n",
       "      <td>75273</td>\n",
       "      <td>11</td>\n",
       "      <td>76393</td>\n",
       "      <td>[75273, 76393, 86559, 83493, 86847, 85055, 850...</td>\n",
       "      <td>[76393, 75273, 86351, 84825, 81145, 87494, 773...</td>\n",
       "      <td>[86559, 76393, 70602, 86847, 81428, 85055, 834...</td>\n",
       "      <td>[86351, 81145, 84825, 75273, 87494, 81428, 763...</td>\n",
       "      <td>[86559, 75273, 86847, 83493, 76393, 85055, 814...</td>\n",
       "      <td>[76393, 86351, 84825, 87494, 81428, 81145, 752...</td>\n",
       "      <td>[86847, 74990, 70602, 76393, 85055, 81428, 834...</td>\n",
       "      <td>[81145, 81428, 87494, 75273, 84825, 86351, 820...</td>\n",
       "      <td>[75273, 86559, 76393, 83493, 86847, 85055, 706...</td>\n",
       "      <td>[76393, 86351, 75273, 84825, 81145, 87494, 814...</td>\n",
       "      <td>[86559, 75273, 76393, 70602, 83493, 86847, 850...</td>\n",
       "      <td>[76393, 86351, 75273, 81145, 84825, 87494, 814...</td>\n",
       "      <td>[86559, 76393, 86847, 83493, 70602, 81428, 850...</td>\n",
       "      <td>[86351, 84825, 81145, 75273, 87494, 76393, 814...</td>\n",
       "      <td>[86559, 76393, 70602, 86847, 83493, 81428, 850...</td>\n",
       "      <td>[86351, 84825, 81145, 75273, 87494, 76393, 814...</td>\n",
       "    </tr>\n",
       "    <tr>\n",
       "      <th>180963</th>\n",
       "      <td>78513</td>\n",
       "      <td>21</td>\n",
       "      <td>165936</td>\n",
       "      <td>[165936, 69859, 165683, 69844, 69851, 167273, ...</td>\n",
       "      <td>[78513, 78815, 84972, 70231, 70212, 71220, 728...</td>\n",
       "      <td>[165936, 69822, 69859, 69843, 165683, 166369, ...</td>\n",
       "      <td>[78513, 74539, 76125, 76767, 81306, 84972, 787...</td>\n",
       "      <td>[69859, 165683, 69962, 165936, 69843, 69939, 6...</td>\n",
       "      <td>[78513, 70231, 72804, 84972, 78815, 70212, 835...</td>\n",
       "      <td>[165936, 165832, 166458, 167412, 167389, 16698...</td>\n",
       "      <td>[86533, 71520, 78815, 77317, 80226, 80312, 803...</td>\n",
       "      <td>[165936, 69859, 165683, 69822, 69843, 69840, 1...</td>\n",
       "      <td>[78513, 84972, 78815, 76125, 70212, 74539, 881...</td>\n",
       "      <td>[165936, 69859, 165683, 69822, 69843, 166369, ...</td>\n",
       "      <td>[78513, 76125, 84972, 74539, 78815, 76767, 813...</td>\n",
       "      <td>[165936, 69859, 165683, 69843, 69822, 166369, ...</td>\n",
       "      <td>[78513, 84972, 78815, 78710, 76125, 74539, 702...</td>\n",
       "      <td>[165936, 69859, 165683, 69843, 69822, 166369, ...</td>\n",
       "      <td>[78513, 84972, 78815, 78710, 76125, 74539, 813...</td>\n",
       "    </tr>\n",
       "  </tbody>\n",
       "</table>\n",
       "<p>180964 rows × 19 columns</p>\n",
       "</div>"
      ],
      "text/plain": [
       "         head  relation    tail  \\\n",
       "0       72318        15  168666   \n",
       "1       85922        15  169140   \n",
       "2       77274        11   75011   \n",
       "3       77474        12   81932   \n",
       "4       87622        15  168734   \n",
       "...       ...       ...     ...   \n",
       "180959  86138        18   30503   \n",
       "180960  86984        21  166246   \n",
       "180961   3154        26    2592   \n",
       "180962  75273        11   76393   \n",
       "180963  78513        21  165936   \n",
       "\n",
       "                                         transe_pred_tail  \\\n",
       "0       [167833, 168666, 171063, 18, 175963, 168677, 1...   \n",
       "1       [168819, 169140, 171063, 168889, 168863, 16745...   \n",
       "2       [77274, 75218, 82786, 73401, 81054, 72324, 760...   \n",
       "3       [77474, 71886, 76735, 88172, 84367, 75177, 762...   \n",
       "4       [168734, 168660, 168025, 600, 167475, 167451, ...   \n",
       "...                                                   ...   \n",
       "180959  [53364, 24450, 24449, 20935, 53365, 16686, 209...   \n",
       "180960  [166246, 166247, 166999, 166456, 69958, 166896...   \n",
       "180961  [3154, 7084, 2899, 6804, 7925, 2900, 4147, 680...   \n",
       "180962  [75273, 76393, 86559, 83493, 86847, 85055, 850...   \n",
       "180963  [165936, 69859, 165683, 69844, 69851, 167273, ...   \n",
       "\n",
       "                                         transe_pred_head  \\\n",
       "0       [77850, 85286, 78463, 88804, 89411, 81409, 711...   \n",
       "1       [78463, 83549, 72352, 89401, 73869, 74180, 877...   \n",
       "2       [75011, 74919, 83331, 75165, 76329, 74912, 744...   \n",
       "3       [81932, 76780, 76776, 80479, 77211, 83076, 843...   \n",
       "4       [70524, 77850, 78463, 76786, 74637, 85259, 779...   \n",
       "...                                                   ...   \n",
       "180959  [85259, 77648, 87251, 77845, 83080, 85238, 744...   \n",
       "180960  [77494, 87111, 80176, 86984, 77355, 70727, 869...   \n",
       "180961  [2592, 2418, 6982, 7081, 8501, 7916, 9088, 820...   \n",
       "180962  [76393, 75273, 86351, 84825, 81145, 87494, 773...   \n",
       "180963  [78513, 78815, 84972, 70231, 70212, 71220, 728...   \n",
       "\n",
       "                                           dist_pred_tail  \\\n",
       "0       [168666, 167833, 167590, 171063, 18, 168677, 1...   \n",
       "1       [168819, 168031, 167451, 171145, 168889, 16775...   \n",
       "2       [77274, 73401, 86899, 85653, 73199, 77796, 757...   \n",
       "3       [85179, 85670, 72011, 77410, 84367, 74180, 809...   \n",
       "4       [168734, 168660, 168025, 169882, 168659, 16924...   \n",
       "...                                                   ...   \n",
       "180959  [53364, 18649, 24450, 24449, 167813, 167852, 1...   \n",
       "180960  [166246, 75208, 166386, 166999, 80056, 166247,...   \n",
       "180961  [7926, 171459, 7925, 168677, 168613, 173716, 1...   \n",
       "180962  [86559, 76393, 70602, 86847, 81428, 85055, 834...   \n",
       "180963  [165936, 69822, 69859, 69843, 165683, 166369, ...   \n",
       "\n",
       "                                           dist_pred_head  \\\n",
       "0       [73061, 74920, 71353, 83440, 75483, 83789, 712...   \n",
       "1       [73869, 87795, 74054, 83549, 81236, 81604, 821...   \n",
       "2       [74919, 75011, 77274, 74447, 76329, 71515, 761...   \n",
       "3       [81932, 87443, 76776, 71684, 77600, 81347, 830...   \n",
       "4       [80073, 80062, 80416, 80320, 77557, 87621, 791...   \n",
       "...                                                   ...   \n",
       "180959  [78279, 80499, 81234, 77648, 79434, 79182, 802...   \n",
       "180960  [86984, 70727, 77494, 75072, 86940, 71314, 850...   \n",
       "180961  [2595, 2592, 168888, 2876, 11251, 2418, 20696,...   \n",
       "180962  [86351, 81145, 84825, 75273, 87494, 81428, 763...   \n",
       "180963  [78513, 74539, 76125, 76767, 81306, 84972, 787...   \n",
       "\n",
       "                                           cplx_pred_tail  \\\n",
       "0       [167833, 168666, 18, 175963, 167590, 167793, 1...   \n",
       "1       [168819, 18, 169235, 169140, 167851, 167451, 1...   \n",
       "2       [77274, 73439, 83390, 79726, 73401, 82786, 828...   \n",
       "3       [80911, 76735, 77474, 71886, 81229, 85179, 881...   \n",
       "4       [168734, 168660, 168025, 167852, 168659, 16745...   \n",
       "...                                                   ...   \n",
       "180959  [53364, 24450, 20935, 24449, 16686, 20939, 533...   \n",
       "180960  [166246, 166999, 166386, 166995, 166378, 16638...   \n",
       "180961  [69962, 15200, 7925, 167852, 172605, 7084, 167...   \n",
       "180962  [86559, 75273, 86847, 83493, 76393, 85055, 814...   \n",
       "180963  [69859, 165683, 69962, 165936, 69843, 69939, 6...   \n",
       "\n",
       "                                           cplx_pred_head  \\\n",
       "0       [71234, 89409, 87715, 79356, 83789, 83939, 866...   \n",
       "1       [84517, 87980, 84483, 86520, 80314, 87779, 828...   \n",
       "2       [75011, 74919, 77274, 76329, 76187, 74447, 744...   \n",
       "3       [81932, 86129, 77818, 84376, 72862, 77885, 874...   \n",
       "4       [87060, 80320, 88106, 83983, 73820, 88657, 876...   \n",
       "...                                                   ...   \n",
       "180959  [81604, 83646, 70842, 78383, 70138, 85259, 804...   \n",
       "180960  [86984, 70727, 86940, 74550, 77355, 74775, 869...   \n",
       "180961  [167833, 4087, 171597, 2593, 11251, 16737, 176...   \n",
       "180962  [76393, 86351, 84825, 87494, 81428, 81145, 752...   \n",
       "180963  [78513, 70231, 72804, 84972, 78815, 70212, 835...   \n",
       "\n",
       "                                            any_pred_tail  \\\n",
       "0       [167833, 168666, 168677, 168420, 169155, 16881...   \n",
       "1       [169140, 168819, 168889, 167935, 167851, 16923...   \n",
       "2       [70480, 72013, 72133, 70444, 73772, 88252, 775...   \n",
       "3       [83385, 76735, 88172, 85670, 85179, 77410, 819...   \n",
       "4       [168734, 168025, 168660, 168175, 168177, 16745...   \n",
       "...                                                   ...   \n",
       "180959  [15244, 15068, 15245, 16267, 13837, 20113, 151...   \n",
       "180960  [166246, 165834, 165936, 166985, 69957, 165593...   \n",
       "180961  [2593, 7095, 7084, 7925, 170570, 174054, 17057...   \n",
       "180962  [86847, 74990, 70602, 76393, 85055, 81428, 834...   \n",
       "180963  [165936, 165832, 166458, 167412, 167389, 16698...   \n",
       "\n",
       "                                            any_pred_head  \\\n",
       "0       [77559, 75388, 71016, 75031, 76224, 79186, 791...   \n",
       "1       [88707, 78713, 82416, 81507, 85870, 70588, 795...   \n",
       "2       [74919, 77274, 71515, 76329, 89374, 76187, 767...   \n",
       "3       [83076, 87443, 85543, 76780, 76776, 77358, 716...   \n",
       "4       [80416, 81331, 77598, 83465, 78338, 70776, 803...   \n",
       "...                                                   ...   \n",
       "180959  [87209, 83449, 73839, 87387, 82469, 82904, 753...   \n",
       "180960  [86984, 70727, 80053, 75075, 84923, 75024, 703...   \n",
       "180961  [4510, 4804, 3391, 4832, 4827, 4821, 4826, 483...   \n",
       "180962  [81145, 81428, 87494, 75273, 84825, 86351, 820...   \n",
       "180963  [86533, 71520, 78815, 77317, 80226, 80312, 803...   \n",
       "\n",
       "                                          hb_td_pred_tail  \\\n",
       "0       [168666, 167833, 167590, 171063, 18, 168677, 1...   \n",
       "1       [168819, 167451, 168889, 169140, 171145, 16803...   \n",
       "2       [77274, 73401, 75218, 86899, 81054, 72324, 731...   \n",
       "3       [77474, 85179, 72011, 84367, 85670, 88172, 774...   \n",
       "4       [168734, 168660, 168025, 167451, 168659, 16988...   \n",
       "...                                                   ...   \n",
       "180959  [53364, 24450, 24449, 18649, 53365, 20935, 166...   \n",
       "180960  [166246, 166999, 166386, 166247, 166456, 69958...   \n",
       "180961  [3154, 7084, 7925, 7926, 6804, 2899, 2900, 259...   \n",
       "180962  [75273, 86559, 76393, 83493, 86847, 85055, 706...   \n",
       "180963  [165936, 69859, 165683, 69822, 69843, 69840, 1...   \n",
       "\n",
       "                                          hb_td_pred_head  \\\n",
       "0       [75228, 71353, 83789, 74920, 83440, 86498, 730...   \n",
       "1       [73869, 83549, 87795, 74054, 78398, 76765, 816...   \n",
       "2       [75011, 74919, 76329, 74447, 77274, 71515, 761...   \n",
       "3       [81932, 76776, 87443, 71684, 83076, 81347, 767...   \n",
       "4       [80073, 76786, 80062, 76822, 85259, 85346, 803...   \n",
       "...                                                   ...   \n",
       "180959  [77648, 78279, 81234, 80499, 78492, 74180, 802...   \n",
       "180960  [86984, 70727, 77494, 86940, 75072, 85021, 773...   \n",
       "180961  [2592, 2595, 2418, 7916, 4035, 4821, 11251, 46...   \n",
       "180962  [76393, 86351, 75273, 84825, 81145, 87494, 814...   \n",
       "180963  [78513, 84972, 78815, 76125, 70212, 74539, 881...   \n",
       "\n",
       "                                         hb_tdr_pred_tail  \\\n",
       "0       [168666, 167833, 167590, 171063, 18, 168677, 1...   \n",
       "1       [168819, 167451, 168031, 168889, 171145, 16915...   \n",
       "2       [77274, 73401, 86899, 75218, 73199, 81054, 710...   \n",
       "3       [77474, 85179, 72011, 85670, 84367, 77410, 881...   \n",
       "4       [168734, 168660, 168025, 169882, 168659, 16745...   \n",
       "...                                                   ...   \n",
       "180959  [53364, 24450, 18649, 24449, 16686, 53365, 157...   \n",
       "180960  [166246, 166386, 166999, 166247, 166456, 69788...   \n",
       "180961  [7084, 7925, 3154, 7926, 2593, 6804, 2900, 168...   \n",
       "180962  [86559, 75273, 76393, 70602, 83493, 86847, 850...   \n",
       "180963  [165936, 69859, 165683, 69822, 69843, 166369, ...   \n",
       "\n",
       "                                         hb_tdr_pred_head  \\\n",
       "0       [74920, 71353, 73061, 83789, 83440, 75228, 864...   \n",
       "1       [73869, 83549, 87795, 74054, 78398, 81604, 767...   \n",
       "2       [75011, 74919, 77274, 76329, 74447, 71515, 761...   \n",
       "3       [81932, 76776, 87443, 71684, 81347, 83076, 776...   \n",
       "4       [80073, 80062, 80320, 80416, 87621, 76822, 853...   \n",
       "...                                                   ...   \n",
       "180959  [78279, 80499, 77648, 81234, 78492, 80206, 741...   \n",
       "180960  [86984, 70727, 77494, 86940, 75072, 85021, 713...   \n",
       "180961  [2592, 2595, 2418, 11251, 7916, 4429, 4821, 40...   \n",
       "180962  [76393, 86351, 75273, 81145, 84825, 87494, 814...   \n",
       "180963  [78513, 76125, 84972, 74539, 78815, 76767, 813...   \n",
       "\n",
       "                                          hb_dc_pred_tail  \\\n",
       "0       [167833, 168666, 167590, 18, 171063, 167793, 1...   \n",
       "1       [168819, 167451, 168031, 171145, 168889, 16914...   \n",
       "2       [77274, 73401, 73439, 77585, 86899, 71006, 757...   \n",
       "3       [85179, 72011, 80911, 77410, 85670, 84367, 767...   \n",
       "4       [168734, 168660, 168025, 169882, 168659, 16924...   \n",
       "...                                                   ...   \n",
       "180959  [53364, 24450, 18649, 24449, 16686, 20935, 209...   \n",
       "180960  [166246, 166386, 166999, 166995, 69788, 166383...   \n",
       "180961  [7925, 7084, 168613, 167503, 167578, 168064, 1...   \n",
       "180962  [86559, 76393, 86847, 83493, 70602, 81428, 850...   \n",
       "180963  [165936, 69859, 165683, 69843, 69822, 166369, ...   \n",
       "\n",
       "                                          hb_dc_pred_head  \\\n",
       "0       [71234, 83789, 86604, 71296, 74920, 83939, 864...   \n",
       "1       [74054, 73869, 87795, 76765, 83549, 88596, 816...   \n",
       "2       [75011, 74919, 77274, 76329, 74447, 76187, 715...   \n",
       "3       [81932, 87443, 76776, 72862, 81347, 71684, 861...   \n",
       "4       [80073, 80320, 80062, 87622, 87621, 80416, 724...   \n",
       "...                                                   ...   \n",
       "180959  [80499, 70138, 70842, 77648, 80206, 79733, 794...   \n",
       "180960  [86984, 70727, 86940, 77494, 75072, 74550, 773...   \n",
       "180961  [2595, 2592, 11251, 4821, 2509, 4545, 16737, 4...   \n",
       "180962  [86351, 84825, 81145, 75273, 87494, 76393, 814...   \n",
       "180963  [78513, 84972, 78815, 78710, 76125, 74539, 702...   \n",
       "\n",
       "                                         hb_dcr_pred_tail  \\\n",
       "0       [167833, 168666, 167590, 18, 171063, 167793, 1...   \n",
       "1       [168819, 168031, 167451, 171145, 168889, 16915...   \n",
       "2       [77274, 73401, 73439, 86899, 77585, 75711, 710...   \n",
       "3       [85179, 72011, 85670, 77410, 80911, 84367, 767...   \n",
       "4       [168734, 168660, 168025, 169882, 168659, 16924...   \n",
       "...                                                   ...   \n",
       "180959  [53364, 24450, 18649, 24449, 16686, 20935, 209...   \n",
       "180960  [166246, 166386, 166999, 69788, 166247, 166995...   \n",
       "180961  [7925, 168613, 7084, 167503, 167578, 168677, 1...   \n",
       "180962  [86559, 76393, 70602, 86847, 83493, 81428, 850...   \n",
       "180963  [165936, 69859, 165683, 69843, 69822, 166369, ...   \n",
       "\n",
       "                                         hb_dcr_pred_head  \n",
       "0       [71234, 83789, 74920, 86604, 71296, 86498, 730...  \n",
       "1       [73869, 74054, 87795, 76765, 83549, 81604, 885...  \n",
       "2       [74919, 75011, 77274, 76329, 74447, 76187, 715...  \n",
       "3       [81932, 87443, 76776, 81347, 72862, 71684, 719...  \n",
       "4       [80073, 80320, 80062, 80416, 87621, 87622, 724...  \n",
       "...                                                   ...  \n",
       "180959  [80499, 70138, 77648, 70842, 80206, 79434, 797...  \n",
       "180960  [86984, 70727, 86940, 77494, 75072, 74550, 713...  \n",
       "180961  [2595, 2592, 11251, 4821, 2418, 4545, 4580, 25...  \n",
       "180962  [86351, 84825, 81145, 75273, 87494, 76393, 814...  \n",
       "180963  [78513, 84972, 78815, 78710, 76125, 74539, 813...  \n",
       "\n",
       "[180964 rows x 19 columns]"
      ]
     },
     "execution_count": 187,
     "metadata": {},
     "output_type": "execute_result"
    },
    {
     "name": "stdout",
     "output_type": "stream",
     "text": [
      "time: 38 s (started: 2021-12-09 15:42:17 +00:00)\n"
     ]
    }
   ],
   "source": [
    "# store all the top10 predictions\n",
    "\n",
    "test_df[\"transe_pred_tail\"] = transe_pred[:dl.testing.shape[0], :].tolist()\n",
    "test_df[\"transe_pred_head\"] = transe_pred[dl.testing.shape[0]:, :].tolist()\n",
    "\n",
    "test_df[\"dist_pred_tail\"] = dist_pred[:dl.testing.shape[0], :].tolist()\n",
    "test_df[\"dist_pred_head\"] = dist_pred[dl.testing.shape[0]:, :].tolist()\n",
    "\n",
    "test_df[\"cplx_pred_tail\"] = cplx_pred[:dl.testing.shape[0], :].tolist()\n",
    "test_df[\"cplx_pred_head\"] = cplx_pred[dl.testing.shape[0]:, :].tolist()\n",
    "\n",
    "test_df[\"any_pred_tail\"] = any_pred[:dl.testing.shape[0], :].tolist()\n",
    "test_df[\"any_pred_head\"] = any_pred[dl.testing.shape[0]:, :].tolist()\n",
    "\n",
    "test_df[\"hb_td_pred_tail\"] = hb_td_pred[:dl.testing.shape[0], :].tolist()\n",
    "test_df[\"hb_td_pred_head\"] = hb_td_pred[dl.testing.shape[0]:, :].tolist()\n",
    "\n",
    "test_df[\"hb_tdr_pred_tail\"] = hb_tdr_pred[:dl.testing.shape[0], :].tolist()\n",
    "test_df[\"hb_tdr_pred_head\"] = hb_tdr_pred[dl.testing.shape[0]:, :].tolist()\n",
    "\n",
    "test_df[\"hb_dc_pred_tail\"] = hb_dc_pred[:dl.testing.shape[0], :].tolist()\n",
    "test_df[\"hb_dc_pred_head\"] = hb_dc_pred[dl.testing.shape[0]:, :].tolist()\n",
    "\n",
    "test_df[\"hb_dcr_pred_tail\"] = hb_dcr_pred[:dl.testing.shape[0], :].tolist()\n",
    "test_df[\"hb_dcr_pred_head\"] = hb_dcr_pred[dl.testing.shape[0]:, :].tolist()\n",
    "\n",
    "test_df"
   ]
  },
  {
   "cell_type": "code",
   "execution_count": 188,
   "metadata": {},
   "outputs": [
    {
     "name": "stdout",
     "output_type": "stream",
     "text": [
      "time: 2.78 ms (started: 2021-12-09 15:43:21 +00:00)\n"
     ]
    }
   ],
   "source": [
    "# functions used to generate indicators of whether correct entities existing in top-k predictions\n",
    "\n",
    "def set_tail_indi(row, column):\n",
    "    if row[\"tail\"] in row[column]:\n",
    "        return 1\n",
    "    else:\n",
    "        return 0\n",
    "\n",
    "def set_head_indi(row, column):\n",
    "    if row[\"head\"] in row[column]:\n",
    "        return 1\n",
    "    else:\n",
    "        return 0"
   ]
  },
  {
   "cell_type": "code",
   "execution_count": 189,
   "metadata": {},
   "outputs": [
    {
     "name": "stdout",
     "output_type": "stream",
     "text": [
      "time: 30.8 s (started: 2021-12-09 15:44:54 +00:00)\n"
     ]
    }
   ],
   "source": [
    "# set the indicator fields in DataFrame\n",
    "\n",
    "def set_indi(model):\n",
    "    test_df[model+\"_pred_tail_indi\"] = test_df.apply(lambda row: set_tail_indi(row, model+\"_pred_tail\"), axis=1)\n",
    "    test_df[model+\"_pred_head_indi\"] = test_df.apply(lambda row: set_head_indi(row, model+\"_pred_head\"), axis=1)\n",
    "\n",
    "# do it for all columns\n",
    "for model in models:\n",
    "    set_indi(model)"
   ]
  },
  {
   "cell_type": "markdown",
   "metadata": {},
   "source": [
    "### Define a function to calculate hits@10 for each relation each model"
   ]
  },
  {
   "cell_type": "code",
   "execution_count": 190,
   "metadata": {},
   "outputs": [
    {
     "name": "stdout",
     "output_type": "stream",
     "text": [
      "time: 1.78 ms (started: 2021-12-09 15:47:01 +00:00)\n"
     ]
    }
   ],
   "source": [
    "def hits_per_relation(relation, model):\n",
    "    \n",
    "    try:\n",
    "        hits_head = test_df[(test_df[\"relation\"] == relation)][model+\"_pred_head_indi\"].value_counts()[1] / len(test_df[(test_df[\"relation\"] == relation)])\n",
    "    except:\n",
    "        hits_head = 0\n",
    "    # print(model + \"_head: \", hits_head)\n",
    "    try:\n",
    "        hits_tail = test_df[(test_df[\"relation\"] == relation)][model+\"_pred_tail_indi\"].value_counts()[1] / len(test_df[(test_df[\"relation\"] == relation)])\n",
    "    except:\n",
    "        hits_tail = 0\n",
    "    # print(model + \"_tail: \", hits_tail)\n",
    "    hits = (hits_head + hits_tail) / 2\n",
    "    # print(model + \": \", hits)\n",
    "    print(hits)"
   ]
  },
  {
   "cell_type": "code",
   "execution_count": 67,
   "metadata": {},
   "outputs": [
    {
     "name": "stdout",
     "output_type": "stream",
     "text": [
      "transe_head:  0.8\n",
      "transe_tail:  0.7114285714285714\n",
      "transe:  0.7557142857142858\n"
     ]
    }
   ],
   "source": [
    "# this cell is for test\n",
    "\n",
    "hits_per_relation(0, \"transe\")"
   ]
  },
  {
   "cell_type": "code",
   "execution_count": 191,
   "metadata": {
    "scrolled": true,
    "tags": []
   },
   "outputs": [
    {
     "name": "stdout",
     "output_type": "stream",
     "text": [
      "0.7971428571428572\n",
      "0.3070628768303187\n",
      "0.4762611275964392\n",
      "0.7162162162162162\n",
      "0.7813728995352163\n",
      "0.7347826086956522\n",
      "0.7547543581616483\n",
      "0.5629139072847682\n",
      "0.3225987432675045\n",
      "0.9248496993987976\n",
      "0.7732474964234621\n",
      "0.7036153036153037\n",
      "0.620541042302082\n",
      "0.6483870967741936\n",
      "0.3145833333333333\n",
      "0.5799895136168769\n",
      "0.5\n",
      "0.26062322946175637\n",
      "0.31486737789957914\n",
      "0.8083778966131907\n",
      "0.34781978849775463\n",
      "0.8013860218224713\n",
      "0.31933810817485797\n",
      "0.6636363636363636\n",
      "0.6583943099831142\n",
      "0.3554356206630686\n",
      "0.30107129663834503\n",
      "0.23464373464373467\n",
      "time: 709 ms (started: 2021-12-09 15:47:27 +00:00)\n"
     ]
    }
   ],
   "source": [
    "for i in range(28):\n",
    "    # print(\"For relation\" + str(i) + \":\\n\")\n",
    "    # for model in models:\n",
    "    hits_per_relation(i, \"hb_dc\")"
   ]
  },
  {
   "cell_type": "markdown",
   "metadata": {},
   "source": [
    "### Define functions to calculate hits@1, hits@3, hits@10 for each model"
   ]
  },
  {
   "cell_type": "code",
   "execution_count": 84,
   "metadata": {},
   "outputs": [
    {
     "name": "stdout",
     "output_type": "stream",
     "text": [
      "head:  0.3849771225216065\n",
      "tail:  0.7316703874803828\n",
      "hb_dcr:  0.5583237550009946\n",
      "time: 4.67 ms (started: 2021-12-08 21:21:41 +00:00)\n"
     ]
    }
   ],
   "source": [
    "def hits_per_model(model):\n",
    "\n",
    "    hits_head = test_df[model+\"_pred_head_indi\"].value_counts()[1] / len(test_df[model+\"_pred_head_indi\"])\n",
    "    print(\"head: \", hits_head)\n",
    "    hits_tail = test_df[model+\"_pred_tail_indi\"].value_counts()[1] / len(test_df[model+\"_pred_tail_indi\"])\n",
    "    print(\"tail: \", hits_tail)\n",
    "    hits = (hits_head + hits_tail) / 2\n",
    "    print(model + \": \", hits)\n",
    "\n",
    "hits_per_model(\"hb_dcr\")                                                                                    "
   ]
  },
  {
   "cell_type": "code",
   "execution_count": 165,
   "metadata": {
    "scrolled": true,
    "tags": []
   },
   "outputs": [
    {
     "name": "stdout",
     "output_type": "stream",
     "text": [
      "head:  0.25353661501735153\n",
      "tail:  0.6394752547468004\n",
      "transe:  0.446505934882076\n",
      "head:  0.3604197519948719\n",
      "tail:  0.7111856501845671\n",
      "dist:  0.5358027010897195\n",
      "head:  0.3293417475298954\n",
      "tail:  0.6881092371963484\n",
      "cplx:  0.5087254923631219\n",
      "head:  0.2680091067836697\n",
      "tail:  0.6533398908070114\n",
      "any:  0.4606744987953405\n",
      "head:  0.3628898565460534\n",
      "tail:  0.7312062067593554\n",
      "hb_td:  0.5470480316527044\n",
      "head:  0.3663656859927941\n",
      "tail:  0.7269788466214274\n",
      "hb_tdr:  0.5466722663071107\n",
      "head:  0.3875687982140094\n",
      "tail:  0.7330242479167127\n",
      "hb_dc:  0.560296523065361\n",
      "head:  0.3849771225216065\n",
      "tail:  0.7316703874803828\n",
      "hb_dcr:  0.5583237550009946\n",
      "time: 55 ms (started: 2021-12-09 04:46:48 +00:00)\n"
     ]
    }
   ],
   "source": [
    "for model in models:\n",
    "    hits_per_model(model)"
   ]
  },
  {
   "cell_type": "code",
   "execution_count": 166,
   "metadata": {},
   "outputs": [
    {
     "data": {
      "text/html": [
       "<div>\n",
       "<style scoped>\n",
       "    .dataframe tbody tr th:only-of-type {\n",
       "        vertical-align: middle;\n",
       "    }\n",
       "\n",
       "    .dataframe tbody tr th {\n",
       "        vertical-align: top;\n",
       "    }\n",
       "\n",
       "    .dataframe thead th {\n",
       "        text-align: right;\n",
       "    }\n",
       "</style>\n",
       "<table border=\"1\" class=\"dataframe\">\n",
       "  <thead>\n",
       "    <tr style=\"text-align: right;\">\n",
       "      <th></th>\n",
       "      <th>head</th>\n",
       "      <th>relation</th>\n",
       "      <th>tail</th>\n",
       "      <th>transe_pred_tail</th>\n",
       "      <th>transe_pred_head</th>\n",
       "      <th>dist_pred_tail</th>\n",
       "      <th>dist_pred_head</th>\n",
       "      <th>cplx_pred_tail</th>\n",
       "      <th>cplx_pred_head</th>\n",
       "      <th>any_pred_tail</th>\n",
       "      <th>any_pred_head</th>\n",
       "      <th>hb_td_pred_tail</th>\n",
       "      <th>hb_td_pred_head</th>\n",
       "      <th>hb_tdr_pred_tail</th>\n",
       "      <th>hb_tdr_pred_head</th>\n",
       "      <th>hb_dc_pred_tail</th>\n",
       "      <th>hb_dc_pred_head</th>\n",
       "      <th>hb_dcr_pred_tail</th>\n",
       "      <th>hb_dcr_pred_head</th>\n",
       "    </tr>\n",
       "  </thead>\n",
       "  <tbody>\n",
       "    <tr>\n",
       "      <th>0</th>\n",
       "      <td>72318</td>\n",
       "      <td>15</td>\n",
       "      <td>168666</td>\n",
       "      <td>[167833, 168666, 171063]</td>\n",
       "      <td>[77850, 85286, 78463]</td>\n",
       "      <td>[168666, 167833, 167590]</td>\n",
       "      <td>[73061, 74920, 71353]</td>\n",
       "      <td>[167833, 168666, 18]</td>\n",
       "      <td>[71234, 89409, 87715]</td>\n",
       "      <td>[167833, 168666, 168677]</td>\n",
       "      <td>[77559, 75388, 71016]</td>\n",
       "      <td>[168666, 167833, 167590]</td>\n",
       "      <td>[75228, 71353, 83789]</td>\n",
       "      <td>[168666, 167833, 167590]</td>\n",
       "      <td>[74920, 71353, 73061]</td>\n",
       "      <td>[167833, 168666, 167590]</td>\n",
       "      <td>[71234, 83789, 86604]</td>\n",
       "      <td>[167833, 168666, 167590]</td>\n",
       "      <td>[71234, 83789, 74920]</td>\n",
       "    </tr>\n",
       "    <tr>\n",
       "      <th>1</th>\n",
       "      <td>85922</td>\n",
       "      <td>15</td>\n",
       "      <td>169140</td>\n",
       "      <td>[168819, 169140, 171063]</td>\n",
       "      <td>[78463, 83549, 72352]</td>\n",
       "      <td>[168819, 168031, 167451]</td>\n",
       "      <td>[73869, 87795, 74054]</td>\n",
       "      <td>[168819, 18, 169235]</td>\n",
       "      <td>[84517, 87980, 84483]</td>\n",
       "      <td>[169140, 168819, 168889]</td>\n",
       "      <td>[88707, 78713, 82416]</td>\n",
       "      <td>[168819, 167451, 168889]</td>\n",
       "      <td>[73869, 83549, 87795]</td>\n",
       "      <td>[168819, 167451, 168031]</td>\n",
       "      <td>[73869, 83549, 87795]</td>\n",
       "      <td>[168819, 167451, 168031]</td>\n",
       "      <td>[74054, 73869, 87795]</td>\n",
       "      <td>[168819, 168031, 167451]</td>\n",
       "      <td>[73869, 74054, 87795]</td>\n",
       "    </tr>\n",
       "    <tr>\n",
       "      <th>2</th>\n",
       "      <td>77274</td>\n",
       "      <td>11</td>\n",
       "      <td>75011</td>\n",
       "      <td>[77274, 75218, 82786]</td>\n",
       "      <td>[75011, 74919, 83331]</td>\n",
       "      <td>[77274, 73401, 86899]</td>\n",
       "      <td>[74919, 75011, 77274]</td>\n",
       "      <td>[77274, 73439, 83390]</td>\n",
       "      <td>[75011, 74919, 77274]</td>\n",
       "      <td>[70480, 72013, 72133]</td>\n",
       "      <td>[74919, 77274, 71515]</td>\n",
       "      <td>[77274, 73401, 75218]</td>\n",
       "      <td>[75011, 74919, 76329]</td>\n",
       "      <td>[77274, 73401, 86899]</td>\n",
       "      <td>[75011, 74919, 77274]</td>\n",
       "      <td>[77274, 73401, 73439]</td>\n",
       "      <td>[75011, 74919, 77274]</td>\n",
       "      <td>[77274, 73401, 73439]</td>\n",
       "      <td>[74919, 75011, 77274]</td>\n",
       "    </tr>\n",
       "    <tr>\n",
       "      <th>3</th>\n",
       "      <td>77474</td>\n",
       "      <td>12</td>\n",
       "      <td>81932</td>\n",
       "      <td>[77474, 71886, 76735]</td>\n",
       "      <td>[81932, 76780, 76776]</td>\n",
       "      <td>[85179, 85670, 72011]</td>\n",
       "      <td>[81932, 87443, 76776]</td>\n",
       "      <td>[80911, 76735, 77474]</td>\n",
       "      <td>[81932, 86129, 77818]</td>\n",
       "      <td>[83385, 76735, 88172]</td>\n",
       "      <td>[83076, 87443, 85543]</td>\n",
       "      <td>[77474, 85179, 72011]</td>\n",
       "      <td>[81932, 76776, 87443]</td>\n",
       "      <td>[77474, 85179, 72011]</td>\n",
       "      <td>[81932, 76776, 87443]</td>\n",
       "      <td>[85179, 72011, 80911]</td>\n",
       "      <td>[81932, 87443, 76776]</td>\n",
       "      <td>[85179, 72011, 85670]</td>\n",
       "      <td>[81932, 87443, 76776]</td>\n",
       "    </tr>\n",
       "    <tr>\n",
       "      <th>4</th>\n",
       "      <td>87622</td>\n",
       "      <td>15</td>\n",
       "      <td>168734</td>\n",
       "      <td>[168734, 168660, 168025]</td>\n",
       "      <td>[70524, 77850, 78463]</td>\n",
       "      <td>[168734, 168660, 168025]</td>\n",
       "      <td>[80073, 80062, 80416]</td>\n",
       "      <td>[168734, 168660, 168025]</td>\n",
       "      <td>[87060, 80320, 88106]</td>\n",
       "      <td>[168734, 168025, 168660]</td>\n",
       "      <td>[80416, 81331, 77598]</td>\n",
       "      <td>[168734, 168660, 168025]</td>\n",
       "      <td>[80073, 76786, 80062]</td>\n",
       "      <td>[168734, 168660, 168025]</td>\n",
       "      <td>[80073, 80062, 80320]</td>\n",
       "      <td>[168734, 168660, 168025]</td>\n",
       "      <td>[80073, 80320, 80062]</td>\n",
       "      <td>[168734, 168660, 168025]</td>\n",
       "      <td>[80073, 80320, 80062]</td>\n",
       "    </tr>\n",
       "    <tr>\n",
       "      <th>...</th>\n",
       "      <td>...</td>\n",
       "      <td>...</td>\n",
       "      <td>...</td>\n",
       "      <td>...</td>\n",
       "      <td>...</td>\n",
       "      <td>...</td>\n",
       "      <td>...</td>\n",
       "      <td>...</td>\n",
       "      <td>...</td>\n",
       "      <td>...</td>\n",
       "      <td>...</td>\n",
       "      <td>...</td>\n",
       "      <td>...</td>\n",
       "      <td>...</td>\n",
       "      <td>...</td>\n",
       "      <td>...</td>\n",
       "      <td>...</td>\n",
       "      <td>...</td>\n",
       "      <td>...</td>\n",
       "    </tr>\n",
       "    <tr>\n",
       "      <th>180959</th>\n",
       "      <td>86138</td>\n",
       "      <td>18</td>\n",
       "      <td>30503</td>\n",
       "      <td>[53364, 24450, 24449]</td>\n",
       "      <td>[85259, 77648, 87251]</td>\n",
       "      <td>[53364, 18649, 24450]</td>\n",
       "      <td>[78279, 80499, 81234]</td>\n",
       "      <td>[53364, 24450, 20935]</td>\n",
       "      <td>[81604, 83646, 70842]</td>\n",
       "      <td>[15244, 15068, 15245]</td>\n",
       "      <td>[87209, 83449, 73839]</td>\n",
       "      <td>[53364, 24450, 24449]</td>\n",
       "      <td>[77648, 78279, 81234]</td>\n",
       "      <td>[53364, 24450, 18649]</td>\n",
       "      <td>[78279, 80499, 77648]</td>\n",
       "      <td>[53364, 24450, 18649]</td>\n",
       "      <td>[80499, 70138, 70842]</td>\n",
       "      <td>[53364, 24450, 18649]</td>\n",
       "      <td>[80499, 70138, 77648]</td>\n",
       "    </tr>\n",
       "    <tr>\n",
       "      <th>180960</th>\n",
       "      <td>86984</td>\n",
       "      <td>21</td>\n",
       "      <td>166246</td>\n",
       "      <td>[166246, 166247, 166999]</td>\n",
       "      <td>[77494, 87111, 80176]</td>\n",
       "      <td>[166246, 75208, 166386]</td>\n",
       "      <td>[86984, 70727, 77494]</td>\n",
       "      <td>[166246, 166999, 166386]</td>\n",
       "      <td>[86984, 70727, 86940]</td>\n",
       "      <td>[166246, 165834, 165936]</td>\n",
       "      <td>[86984, 70727, 80053]</td>\n",
       "      <td>[166246, 166999, 166386]</td>\n",
       "      <td>[86984, 70727, 77494]</td>\n",
       "      <td>[166246, 166386, 166999]</td>\n",
       "      <td>[86984, 70727, 77494]</td>\n",
       "      <td>[166246, 166386, 166999]</td>\n",
       "      <td>[86984, 70727, 86940]</td>\n",
       "      <td>[166246, 166386, 166999]</td>\n",
       "      <td>[86984, 70727, 86940]</td>\n",
       "    </tr>\n",
       "    <tr>\n",
       "      <th>180961</th>\n",
       "      <td>3154</td>\n",
       "      <td>26</td>\n",
       "      <td>2592</td>\n",
       "      <td>[3154, 7084, 2899]</td>\n",
       "      <td>[2592, 2418, 6982]</td>\n",
       "      <td>[7926, 171459, 7925]</td>\n",
       "      <td>[2595, 2592, 168888]</td>\n",
       "      <td>[69962, 15200, 7925]</td>\n",
       "      <td>[167833, 4087, 171597]</td>\n",
       "      <td>[2593, 7095, 7084]</td>\n",
       "      <td>[4510, 4804, 3391]</td>\n",
       "      <td>[3154, 7084, 7925]</td>\n",
       "      <td>[2592, 2595, 2418]</td>\n",
       "      <td>[7084, 7925, 3154]</td>\n",
       "      <td>[2592, 2595, 2418]</td>\n",
       "      <td>[7925, 7084, 168613]</td>\n",
       "      <td>[2595, 2592, 11251]</td>\n",
       "      <td>[7925, 168613, 7084]</td>\n",
       "      <td>[2595, 2592, 11251]</td>\n",
       "    </tr>\n",
       "    <tr>\n",
       "      <th>180962</th>\n",
       "      <td>75273</td>\n",
       "      <td>11</td>\n",
       "      <td>76393</td>\n",
       "      <td>[75273, 76393, 86559]</td>\n",
       "      <td>[76393, 75273, 86351]</td>\n",
       "      <td>[86559, 76393, 70602]</td>\n",
       "      <td>[86351, 81145, 84825]</td>\n",
       "      <td>[86559, 75273, 86847]</td>\n",
       "      <td>[76393, 86351, 84825]</td>\n",
       "      <td>[86847, 74990, 70602]</td>\n",
       "      <td>[81145, 81428, 87494]</td>\n",
       "      <td>[75273, 86559, 76393]</td>\n",
       "      <td>[76393, 86351, 75273]</td>\n",
       "      <td>[86559, 75273, 76393]</td>\n",
       "      <td>[76393, 86351, 75273]</td>\n",
       "      <td>[86559, 76393, 86847]</td>\n",
       "      <td>[86351, 84825, 81145]</td>\n",
       "      <td>[86559, 76393, 70602]</td>\n",
       "      <td>[86351, 84825, 81145]</td>\n",
       "    </tr>\n",
       "    <tr>\n",
       "      <th>180963</th>\n",
       "      <td>78513</td>\n",
       "      <td>21</td>\n",
       "      <td>165936</td>\n",
       "      <td>[165936, 69859, 165683]</td>\n",
       "      <td>[78513, 78815, 84972]</td>\n",
       "      <td>[165936, 69822, 69859]</td>\n",
       "      <td>[78513, 74539, 76125]</td>\n",
       "      <td>[69859, 165683, 69962]</td>\n",
       "      <td>[78513, 70231, 72804]</td>\n",
       "      <td>[165936, 165832, 166458]</td>\n",
       "      <td>[86533, 71520, 78815]</td>\n",
       "      <td>[165936, 69859, 165683]</td>\n",
       "      <td>[78513, 84972, 78815]</td>\n",
       "      <td>[165936, 69859, 165683]</td>\n",
       "      <td>[78513, 76125, 84972]</td>\n",
       "      <td>[165936, 69859, 165683]</td>\n",
       "      <td>[78513, 84972, 78815]</td>\n",
       "      <td>[165936, 69859, 165683]</td>\n",
       "      <td>[78513, 84972, 78815]</td>\n",
       "    </tr>\n",
       "  </tbody>\n",
       "</table>\n",
       "<p>180964 rows × 19 columns</p>\n",
       "</div>"
      ],
      "text/plain": [
       "         head  relation    tail          transe_pred_tail  \\\n",
       "0       72318        15  168666  [167833, 168666, 171063]   \n",
       "1       85922        15  169140  [168819, 169140, 171063]   \n",
       "2       77274        11   75011     [77274, 75218, 82786]   \n",
       "3       77474        12   81932     [77474, 71886, 76735]   \n",
       "4       87622        15  168734  [168734, 168660, 168025]   \n",
       "...       ...       ...     ...                       ...   \n",
       "180959  86138        18   30503     [53364, 24450, 24449]   \n",
       "180960  86984        21  166246  [166246, 166247, 166999]   \n",
       "180961   3154        26    2592        [3154, 7084, 2899]   \n",
       "180962  75273        11   76393     [75273, 76393, 86559]   \n",
       "180963  78513        21  165936   [165936, 69859, 165683]   \n",
       "\n",
       "             transe_pred_head            dist_pred_tail  \\\n",
       "0       [77850, 85286, 78463]  [168666, 167833, 167590]   \n",
       "1       [78463, 83549, 72352]  [168819, 168031, 167451]   \n",
       "2       [75011, 74919, 83331]     [77274, 73401, 86899]   \n",
       "3       [81932, 76780, 76776]     [85179, 85670, 72011]   \n",
       "4       [70524, 77850, 78463]  [168734, 168660, 168025]   \n",
       "...                       ...                       ...   \n",
       "180959  [85259, 77648, 87251]     [53364, 18649, 24450]   \n",
       "180960  [77494, 87111, 80176]   [166246, 75208, 166386]   \n",
       "180961     [2592, 2418, 6982]      [7926, 171459, 7925]   \n",
       "180962  [76393, 75273, 86351]     [86559, 76393, 70602]   \n",
       "180963  [78513, 78815, 84972]    [165936, 69822, 69859]   \n",
       "\n",
       "               dist_pred_head            cplx_pred_tail  \\\n",
       "0       [73061, 74920, 71353]      [167833, 168666, 18]   \n",
       "1       [73869, 87795, 74054]      [168819, 18, 169235]   \n",
       "2       [74919, 75011, 77274]     [77274, 73439, 83390]   \n",
       "3       [81932, 87443, 76776]     [80911, 76735, 77474]   \n",
       "4       [80073, 80062, 80416]  [168734, 168660, 168025]   \n",
       "...                       ...                       ...   \n",
       "180959  [78279, 80499, 81234]     [53364, 24450, 20935]   \n",
       "180960  [86984, 70727, 77494]  [166246, 166999, 166386]   \n",
       "180961   [2595, 2592, 168888]      [69962, 15200, 7925]   \n",
       "180962  [86351, 81145, 84825]     [86559, 75273, 86847]   \n",
       "180963  [78513, 74539, 76125]    [69859, 165683, 69962]   \n",
       "\n",
       "                cplx_pred_head             any_pred_tail  \\\n",
       "0        [71234, 89409, 87715]  [167833, 168666, 168677]   \n",
       "1        [84517, 87980, 84483]  [169140, 168819, 168889]   \n",
       "2        [75011, 74919, 77274]     [70480, 72013, 72133]   \n",
       "3        [81932, 86129, 77818]     [83385, 76735, 88172]   \n",
       "4        [87060, 80320, 88106]  [168734, 168025, 168660]   \n",
       "...                        ...                       ...   \n",
       "180959   [81604, 83646, 70842]     [15244, 15068, 15245]   \n",
       "180960   [86984, 70727, 86940]  [166246, 165834, 165936]   \n",
       "180961  [167833, 4087, 171597]        [2593, 7095, 7084]   \n",
       "180962   [76393, 86351, 84825]     [86847, 74990, 70602]   \n",
       "180963   [78513, 70231, 72804]  [165936, 165832, 166458]   \n",
       "\n",
       "                any_pred_head           hb_td_pred_tail  \\\n",
       "0       [77559, 75388, 71016]  [168666, 167833, 167590]   \n",
       "1       [88707, 78713, 82416]  [168819, 167451, 168889]   \n",
       "2       [74919, 77274, 71515]     [77274, 73401, 75218]   \n",
       "3       [83076, 87443, 85543]     [77474, 85179, 72011]   \n",
       "4       [80416, 81331, 77598]  [168734, 168660, 168025]   \n",
       "...                       ...                       ...   \n",
       "180959  [87209, 83449, 73839]     [53364, 24450, 24449]   \n",
       "180960  [86984, 70727, 80053]  [166246, 166999, 166386]   \n",
       "180961     [4510, 4804, 3391]        [3154, 7084, 7925]   \n",
       "180962  [81145, 81428, 87494]     [75273, 86559, 76393]   \n",
       "180963  [86533, 71520, 78815]   [165936, 69859, 165683]   \n",
       "\n",
       "              hb_td_pred_head          hb_tdr_pred_tail  \\\n",
       "0       [75228, 71353, 83789]  [168666, 167833, 167590]   \n",
       "1       [73869, 83549, 87795]  [168819, 167451, 168031]   \n",
       "2       [75011, 74919, 76329]     [77274, 73401, 86899]   \n",
       "3       [81932, 76776, 87443]     [77474, 85179, 72011]   \n",
       "4       [80073, 76786, 80062]  [168734, 168660, 168025]   \n",
       "...                       ...                       ...   \n",
       "180959  [77648, 78279, 81234]     [53364, 24450, 18649]   \n",
       "180960  [86984, 70727, 77494]  [166246, 166386, 166999]   \n",
       "180961     [2592, 2595, 2418]        [7084, 7925, 3154]   \n",
       "180962  [76393, 86351, 75273]     [86559, 75273, 76393]   \n",
       "180963  [78513, 84972, 78815]   [165936, 69859, 165683]   \n",
       "\n",
       "             hb_tdr_pred_head           hb_dc_pred_tail  \\\n",
       "0       [74920, 71353, 73061]  [167833, 168666, 167590]   \n",
       "1       [73869, 83549, 87795]  [168819, 167451, 168031]   \n",
       "2       [75011, 74919, 77274]     [77274, 73401, 73439]   \n",
       "3       [81932, 76776, 87443]     [85179, 72011, 80911]   \n",
       "4       [80073, 80062, 80320]  [168734, 168660, 168025]   \n",
       "...                       ...                       ...   \n",
       "180959  [78279, 80499, 77648]     [53364, 24450, 18649]   \n",
       "180960  [86984, 70727, 77494]  [166246, 166386, 166999]   \n",
       "180961     [2592, 2595, 2418]      [7925, 7084, 168613]   \n",
       "180962  [76393, 86351, 75273]     [86559, 76393, 86847]   \n",
       "180963  [78513, 76125, 84972]   [165936, 69859, 165683]   \n",
       "\n",
       "              hb_dc_pred_head          hb_dcr_pred_tail       hb_dcr_pred_head  \n",
       "0       [71234, 83789, 86604]  [167833, 168666, 167590]  [71234, 83789, 74920]  \n",
       "1       [74054, 73869, 87795]  [168819, 168031, 167451]  [73869, 74054, 87795]  \n",
       "2       [75011, 74919, 77274]     [77274, 73401, 73439]  [74919, 75011, 77274]  \n",
       "3       [81932, 87443, 76776]     [85179, 72011, 85670]  [81932, 87443, 76776]  \n",
       "4       [80073, 80320, 80062]  [168734, 168660, 168025]  [80073, 80320, 80062]  \n",
       "...                       ...                       ...                    ...  \n",
       "180959  [80499, 70138, 70842]     [53364, 24450, 18649]  [80499, 70138, 77648]  \n",
       "180960  [86984, 70727, 86940]  [166246, 166386, 166999]  [86984, 70727, 86940]  \n",
       "180961    [2595, 2592, 11251]      [7925, 168613, 7084]    [2595, 2592, 11251]  \n",
       "180962  [86351, 84825, 81145]     [86559, 76393, 70602]  [86351, 84825, 81145]  \n",
       "180963  [78513, 84972, 78815]   [165936, 69859, 165683]  [78513, 84972, 78815]  \n",
       "\n",
       "[180964 rows x 19 columns]"
      ]
     },
     "execution_count": 166,
     "metadata": {},
     "output_type": "execute_result"
    },
    {
     "name": "stdout",
     "output_type": "stream",
     "text": [
      "time: 1.88 s (started: 2021-12-09 04:51:46 +00:00)\n"
     ]
    }
   ],
   "source": [
    "# adjust the DF to calculate hits@3\n",
    "\n",
    "for model in models:\n",
    "    test_df.drop(columns=[model+\"_pred_head_indi\", model+\"_pred_tail_indi\"], inplace=True)\n",
    "for model in models:\n",
    "    test_df[model+\"_pred_head\"] = test_df[model+\"_pred_head\"].apply(lambda x: x[:3])\n",
    "    test_df[model+\"_pred_tail\"] = test_df[model+\"_pred_tail\"].apply(lambda x: x[:3])\n",
    "test_df"
   ]
  },
  {
   "cell_type": "code",
   "execution_count": 167,
   "metadata": {},
   "outputs": [
    {
     "name": "stdout",
     "output_type": "stream",
     "text": [
      "time: 29.8 s (started: 2021-12-09 04:51:51 +00:00)\n"
     ]
    }
   ],
   "source": [
    "# set the indicator fields in DataFrame\n",
    "\n",
    "for model in models:\n",
    "    set_indi(model)"
   ]
  },
  {
   "cell_type": "code",
   "execution_count": 168,
   "metadata": {
    "scrolled": true,
    "tags": []
   },
   "outputs": [
    {
     "name": "stdout",
     "output_type": "stream",
     "text": [
      "head:  0.11514444861961495\n",
      "tail:  0.42295152627041843\n",
      "transe:  0.2690479874450167\n",
      "head:  0.1925189540461086\n",
      "tail:  0.47420481421719235\n",
      "dist:  0.33336188413165047\n",
      "head:  0.15994341415972238\n",
      "tail:  0.40570500209986515\n",
      "cplx:  0.28282420812979375\n",
      "head:  0.14334342742202869\n",
      "tail:  0.4677891735372781\n",
      "any:  0.3055663004796534\n",
      "head:  0.17840012378152562\n",
      "tail:  0.49337989876439514\n",
      "hb_td:  0.33589001127296036\n",
      "head:  0.18861209964412812\n",
      "tail:  0.4871687186401715\n",
      "hb_tdr:  0.33789040914214985\n",
      "head:  0.2114785261156915\n",
      "tail:  0.49575053601821356\n",
      "hb_dc:  0.3536145310669525\n",
      "head:  0.20905262925222695\n",
      "tail:  0.4945403505669636\n",
      "hb_dcr:  0.3517964899095953\n",
      "time: 70.6 ms (started: 2021-12-09 04:52:23 +00:00)\n"
     ]
    }
   ],
   "source": [
    "# hits@3\n",
    "for model in models:\n",
    "    hits_per_model(model)"
   ]
  },
  {
   "cell_type": "code",
   "execution_count": 169,
   "metadata": {},
   "outputs": [
    {
     "data": {
      "text/html": [
       "<div>\n",
       "<style scoped>\n",
       "    .dataframe tbody tr th:only-of-type {\n",
       "        vertical-align: middle;\n",
       "    }\n",
       "\n",
       "    .dataframe tbody tr th {\n",
       "        vertical-align: top;\n",
       "    }\n",
       "\n",
       "    .dataframe thead th {\n",
       "        text-align: right;\n",
       "    }\n",
       "</style>\n",
       "<table border=\"1\" class=\"dataframe\">\n",
       "  <thead>\n",
       "    <tr style=\"text-align: right;\">\n",
       "      <th></th>\n",
       "      <th>head</th>\n",
       "      <th>relation</th>\n",
       "      <th>tail</th>\n",
       "      <th>transe_pred_tail</th>\n",
       "      <th>transe_pred_head</th>\n",
       "      <th>dist_pred_tail</th>\n",
       "      <th>dist_pred_head</th>\n",
       "      <th>cplx_pred_tail</th>\n",
       "      <th>cplx_pred_head</th>\n",
       "      <th>any_pred_tail</th>\n",
       "      <th>any_pred_head</th>\n",
       "      <th>hb_td_pred_tail</th>\n",
       "      <th>hb_td_pred_head</th>\n",
       "      <th>hb_tdr_pred_tail</th>\n",
       "      <th>hb_tdr_pred_head</th>\n",
       "      <th>hb_dc_pred_tail</th>\n",
       "      <th>hb_dc_pred_head</th>\n",
       "      <th>hb_dcr_pred_tail</th>\n",
       "      <th>hb_dcr_pred_head</th>\n",
       "    </tr>\n",
       "  </thead>\n",
       "  <tbody>\n",
       "    <tr>\n",
       "      <th>0</th>\n",
       "      <td>72318</td>\n",
       "      <td>15</td>\n",
       "      <td>168666</td>\n",
       "      <td>[167833]</td>\n",
       "      <td>[77850]</td>\n",
       "      <td>[168666]</td>\n",
       "      <td>[73061]</td>\n",
       "      <td>[167833]</td>\n",
       "      <td>[71234]</td>\n",
       "      <td>[167833]</td>\n",
       "      <td>[77559]</td>\n",
       "      <td>[168666]</td>\n",
       "      <td>[75228]</td>\n",
       "      <td>[168666]</td>\n",
       "      <td>[74920]</td>\n",
       "      <td>[167833]</td>\n",
       "      <td>[71234]</td>\n",
       "      <td>[167833]</td>\n",
       "      <td>[71234]</td>\n",
       "    </tr>\n",
       "    <tr>\n",
       "      <th>1</th>\n",
       "      <td>85922</td>\n",
       "      <td>15</td>\n",
       "      <td>169140</td>\n",
       "      <td>[168819]</td>\n",
       "      <td>[78463]</td>\n",
       "      <td>[168819]</td>\n",
       "      <td>[73869]</td>\n",
       "      <td>[168819]</td>\n",
       "      <td>[84517]</td>\n",
       "      <td>[169140]</td>\n",
       "      <td>[88707]</td>\n",
       "      <td>[168819]</td>\n",
       "      <td>[73869]</td>\n",
       "      <td>[168819]</td>\n",
       "      <td>[73869]</td>\n",
       "      <td>[168819]</td>\n",
       "      <td>[74054]</td>\n",
       "      <td>[168819]</td>\n",
       "      <td>[73869]</td>\n",
       "    </tr>\n",
       "    <tr>\n",
       "      <th>2</th>\n",
       "      <td>77274</td>\n",
       "      <td>11</td>\n",
       "      <td>75011</td>\n",
       "      <td>[77274]</td>\n",
       "      <td>[75011]</td>\n",
       "      <td>[77274]</td>\n",
       "      <td>[74919]</td>\n",
       "      <td>[77274]</td>\n",
       "      <td>[75011]</td>\n",
       "      <td>[70480]</td>\n",
       "      <td>[74919]</td>\n",
       "      <td>[77274]</td>\n",
       "      <td>[75011]</td>\n",
       "      <td>[77274]</td>\n",
       "      <td>[75011]</td>\n",
       "      <td>[77274]</td>\n",
       "      <td>[75011]</td>\n",
       "      <td>[77274]</td>\n",
       "      <td>[74919]</td>\n",
       "    </tr>\n",
       "    <tr>\n",
       "      <th>3</th>\n",
       "      <td>77474</td>\n",
       "      <td>12</td>\n",
       "      <td>81932</td>\n",
       "      <td>[77474]</td>\n",
       "      <td>[81932]</td>\n",
       "      <td>[85179]</td>\n",
       "      <td>[81932]</td>\n",
       "      <td>[80911]</td>\n",
       "      <td>[81932]</td>\n",
       "      <td>[83385]</td>\n",
       "      <td>[83076]</td>\n",
       "      <td>[77474]</td>\n",
       "      <td>[81932]</td>\n",
       "      <td>[77474]</td>\n",
       "      <td>[81932]</td>\n",
       "      <td>[85179]</td>\n",
       "      <td>[81932]</td>\n",
       "      <td>[85179]</td>\n",
       "      <td>[81932]</td>\n",
       "    </tr>\n",
       "    <tr>\n",
       "      <th>4</th>\n",
       "      <td>87622</td>\n",
       "      <td>15</td>\n",
       "      <td>168734</td>\n",
       "      <td>[168734]</td>\n",
       "      <td>[70524]</td>\n",
       "      <td>[168734]</td>\n",
       "      <td>[80073]</td>\n",
       "      <td>[168734]</td>\n",
       "      <td>[87060]</td>\n",
       "      <td>[168734]</td>\n",
       "      <td>[80416]</td>\n",
       "      <td>[168734]</td>\n",
       "      <td>[80073]</td>\n",
       "      <td>[168734]</td>\n",
       "      <td>[80073]</td>\n",
       "      <td>[168734]</td>\n",
       "      <td>[80073]</td>\n",
       "      <td>[168734]</td>\n",
       "      <td>[80073]</td>\n",
       "    </tr>\n",
       "    <tr>\n",
       "      <th>...</th>\n",
       "      <td>...</td>\n",
       "      <td>...</td>\n",
       "      <td>...</td>\n",
       "      <td>...</td>\n",
       "      <td>...</td>\n",
       "      <td>...</td>\n",
       "      <td>...</td>\n",
       "      <td>...</td>\n",
       "      <td>...</td>\n",
       "      <td>...</td>\n",
       "      <td>...</td>\n",
       "      <td>...</td>\n",
       "      <td>...</td>\n",
       "      <td>...</td>\n",
       "      <td>...</td>\n",
       "      <td>...</td>\n",
       "      <td>...</td>\n",
       "      <td>...</td>\n",
       "      <td>...</td>\n",
       "    </tr>\n",
       "    <tr>\n",
       "      <th>180959</th>\n",
       "      <td>86138</td>\n",
       "      <td>18</td>\n",
       "      <td>30503</td>\n",
       "      <td>[53364]</td>\n",
       "      <td>[85259]</td>\n",
       "      <td>[53364]</td>\n",
       "      <td>[78279]</td>\n",
       "      <td>[53364]</td>\n",
       "      <td>[81604]</td>\n",
       "      <td>[15244]</td>\n",
       "      <td>[87209]</td>\n",
       "      <td>[53364]</td>\n",
       "      <td>[77648]</td>\n",
       "      <td>[53364]</td>\n",
       "      <td>[78279]</td>\n",
       "      <td>[53364]</td>\n",
       "      <td>[80499]</td>\n",
       "      <td>[53364]</td>\n",
       "      <td>[80499]</td>\n",
       "    </tr>\n",
       "    <tr>\n",
       "      <th>180960</th>\n",
       "      <td>86984</td>\n",
       "      <td>21</td>\n",
       "      <td>166246</td>\n",
       "      <td>[166246]</td>\n",
       "      <td>[77494]</td>\n",
       "      <td>[166246]</td>\n",
       "      <td>[86984]</td>\n",
       "      <td>[166246]</td>\n",
       "      <td>[86984]</td>\n",
       "      <td>[166246]</td>\n",
       "      <td>[86984]</td>\n",
       "      <td>[166246]</td>\n",
       "      <td>[86984]</td>\n",
       "      <td>[166246]</td>\n",
       "      <td>[86984]</td>\n",
       "      <td>[166246]</td>\n",
       "      <td>[86984]</td>\n",
       "      <td>[166246]</td>\n",
       "      <td>[86984]</td>\n",
       "    </tr>\n",
       "    <tr>\n",
       "      <th>180961</th>\n",
       "      <td>3154</td>\n",
       "      <td>26</td>\n",
       "      <td>2592</td>\n",
       "      <td>[3154]</td>\n",
       "      <td>[2592]</td>\n",
       "      <td>[7926]</td>\n",
       "      <td>[2595]</td>\n",
       "      <td>[69962]</td>\n",
       "      <td>[167833]</td>\n",
       "      <td>[2593]</td>\n",
       "      <td>[4510]</td>\n",
       "      <td>[3154]</td>\n",
       "      <td>[2592]</td>\n",
       "      <td>[7084]</td>\n",
       "      <td>[2592]</td>\n",
       "      <td>[7925]</td>\n",
       "      <td>[2595]</td>\n",
       "      <td>[7925]</td>\n",
       "      <td>[2595]</td>\n",
       "    </tr>\n",
       "    <tr>\n",
       "      <th>180962</th>\n",
       "      <td>75273</td>\n",
       "      <td>11</td>\n",
       "      <td>76393</td>\n",
       "      <td>[75273]</td>\n",
       "      <td>[76393]</td>\n",
       "      <td>[86559]</td>\n",
       "      <td>[86351]</td>\n",
       "      <td>[86559]</td>\n",
       "      <td>[76393]</td>\n",
       "      <td>[86847]</td>\n",
       "      <td>[81145]</td>\n",
       "      <td>[75273]</td>\n",
       "      <td>[76393]</td>\n",
       "      <td>[86559]</td>\n",
       "      <td>[76393]</td>\n",
       "      <td>[86559]</td>\n",
       "      <td>[86351]</td>\n",
       "      <td>[86559]</td>\n",
       "      <td>[86351]</td>\n",
       "    </tr>\n",
       "    <tr>\n",
       "      <th>180963</th>\n",
       "      <td>78513</td>\n",
       "      <td>21</td>\n",
       "      <td>165936</td>\n",
       "      <td>[165936]</td>\n",
       "      <td>[78513]</td>\n",
       "      <td>[165936]</td>\n",
       "      <td>[78513]</td>\n",
       "      <td>[69859]</td>\n",
       "      <td>[78513]</td>\n",
       "      <td>[165936]</td>\n",
       "      <td>[86533]</td>\n",
       "      <td>[165936]</td>\n",
       "      <td>[78513]</td>\n",
       "      <td>[165936]</td>\n",
       "      <td>[78513]</td>\n",
       "      <td>[165936]</td>\n",
       "      <td>[78513]</td>\n",
       "      <td>[165936]</td>\n",
       "      <td>[78513]</td>\n",
       "    </tr>\n",
       "  </tbody>\n",
       "</table>\n",
       "<p>180964 rows × 19 columns</p>\n",
       "</div>"
      ],
      "text/plain": [
       "         head  relation    tail transe_pred_tail transe_pred_head  \\\n",
       "0       72318        15  168666         [167833]          [77850]   \n",
       "1       85922        15  169140         [168819]          [78463]   \n",
       "2       77274        11   75011          [77274]          [75011]   \n",
       "3       77474        12   81932          [77474]          [81932]   \n",
       "4       87622        15  168734         [168734]          [70524]   \n",
       "...       ...       ...     ...              ...              ...   \n",
       "180959  86138        18   30503          [53364]          [85259]   \n",
       "180960  86984        21  166246         [166246]          [77494]   \n",
       "180961   3154        26    2592           [3154]           [2592]   \n",
       "180962  75273        11   76393          [75273]          [76393]   \n",
       "180963  78513        21  165936         [165936]          [78513]   \n",
       "\n",
       "       dist_pred_tail dist_pred_head cplx_pred_tail cplx_pred_head  \\\n",
       "0            [168666]        [73061]       [167833]        [71234]   \n",
       "1            [168819]        [73869]       [168819]        [84517]   \n",
       "2             [77274]        [74919]        [77274]        [75011]   \n",
       "3             [85179]        [81932]        [80911]        [81932]   \n",
       "4            [168734]        [80073]       [168734]        [87060]   \n",
       "...               ...            ...            ...            ...   \n",
       "180959        [53364]        [78279]        [53364]        [81604]   \n",
       "180960       [166246]        [86984]       [166246]        [86984]   \n",
       "180961         [7926]         [2595]        [69962]       [167833]   \n",
       "180962        [86559]        [86351]        [86559]        [76393]   \n",
       "180963       [165936]        [78513]        [69859]        [78513]   \n",
       "\n",
       "       any_pred_tail any_pred_head hb_td_pred_tail hb_td_pred_head  \\\n",
       "0           [167833]       [77559]        [168666]         [75228]   \n",
       "1           [169140]       [88707]        [168819]         [73869]   \n",
       "2            [70480]       [74919]         [77274]         [75011]   \n",
       "3            [83385]       [83076]         [77474]         [81932]   \n",
       "4           [168734]       [80416]        [168734]         [80073]   \n",
       "...              ...           ...             ...             ...   \n",
       "180959       [15244]       [87209]         [53364]         [77648]   \n",
       "180960      [166246]       [86984]        [166246]         [86984]   \n",
       "180961        [2593]        [4510]          [3154]          [2592]   \n",
       "180962       [86847]       [81145]         [75273]         [76393]   \n",
       "180963      [165936]       [86533]        [165936]         [78513]   \n",
       "\n",
       "       hb_tdr_pred_tail hb_tdr_pred_head hb_dc_pred_tail hb_dc_pred_head  \\\n",
       "0              [168666]          [74920]        [167833]         [71234]   \n",
       "1              [168819]          [73869]        [168819]         [74054]   \n",
       "2               [77274]          [75011]         [77274]         [75011]   \n",
       "3               [77474]          [81932]         [85179]         [81932]   \n",
       "4              [168734]          [80073]        [168734]         [80073]   \n",
       "...                 ...              ...             ...             ...   \n",
       "180959          [53364]          [78279]         [53364]         [80499]   \n",
       "180960         [166246]          [86984]        [166246]         [86984]   \n",
       "180961           [7084]           [2592]          [7925]          [2595]   \n",
       "180962          [86559]          [76393]         [86559]         [86351]   \n",
       "180963         [165936]          [78513]        [165936]         [78513]   \n",
       "\n",
       "       hb_dcr_pred_tail hb_dcr_pred_head  \n",
       "0              [167833]          [71234]  \n",
       "1              [168819]          [73869]  \n",
       "2               [77274]          [74919]  \n",
       "3               [85179]          [81932]  \n",
       "4              [168734]          [80073]  \n",
       "...                 ...              ...  \n",
       "180959          [53364]          [80499]  \n",
       "180960         [166246]          [86984]  \n",
       "180961           [7925]           [2595]  \n",
       "180962          [86559]          [86351]  \n",
       "180963         [165936]          [78513]  \n",
       "\n",
       "[180964 rows x 19 columns]"
      ]
     },
     "execution_count": 169,
     "metadata": {},
     "output_type": "execute_result"
    },
    {
     "name": "stdout",
     "output_type": "stream",
     "text": [
      "time: 25.5 s (started: 2021-12-09 04:53:27 +00:00)\n"
     ]
    }
   ],
   "source": [
    "# adjust for hits@1\n",
    "\n",
    "for model in models:\n",
    "    test_df.drop(columns=[model+\"_pred_head_indi\", model+\"_pred_tail_indi\"], inplace=True)\n",
    "for model in models:\n",
    "    test_df[model+\"_pred_head\"] = test_df[model+\"_pred_head\"].apply(lambda x: x[:1])\n",
    "    test_df[model+\"_pred_tail\"] = test_df[model+\"_pred_tail\"].apply(lambda x: x[:1])\n",
    "test_df"
   ]
  },
  {
   "cell_type": "code",
   "execution_count": 170,
   "metadata": {
    "scrolled": true,
    "tags": []
   },
   "outputs": [
    {
     "name": "stdout",
     "output_type": "stream",
     "text": [
      "head:  0.0423399129108552\n",
      "tail:  0.21935302049026326\n",
      "transe:  0.13084646670055922\n",
      "head:  0.10080457991644746\n",
      "tail:  0.2702360690524082\n",
      "dist:  0.18552032448442785\n",
      "head:  0.07567803541035786\n",
      "tail:  0.20189650980305476\n",
      "cplx:  0.1387872726067063\n",
      "head:  0.08215998762184744\n",
      "tail:  0.3024524214760947\n",
      "any:  0.19230620454897107\n",
      "head:  0.07589907384894233\n",
      "tail:  0.27704405296080986\n",
      "hb_td:  0.1764715634048761\n",
      "head:  0.09173095201255499\n",
      "tail:  0.27848632877257357\n",
      "hb_tdr:  0.18510864039256428\n",
      "head:  0.11114365288123605\n",
      "tail:  0.28489644349152315\n",
      "hb_dc:  0.1980200481863796\n",
      "head:  0.11184544992374174\n",
      "tail:  0.2849240732963462\n",
      "hb_dcr:  0.19838476161004398\n",
      "time: 35.1 s (started: 2021-12-09 04:54:50 +00:00)\n"
     ]
    }
   ],
   "source": [
    "for model in models:\n",
    "    set_indi(model)\n",
    "\n",
    "# hits@1\n",
    "for model in models:\n",
    "    hits_per_model(model)"
   ]
  },
  {
   "cell_type": "markdown",
   "metadata": {},
   "source": [
    "## Plots"
   ]
  },
  {
   "cell_type": "code",
   "execution_count": 53,
   "metadata": {},
   "outputs": [
    {
     "name": "stdout",
     "output_type": "stream",
     "text": [
      "time: 2.01 ms (started: 2021-12-08 20:59:42 +00:00)\n"
     ]
    }
   ],
   "source": [
    "import matplotlib.pyplot as plt\n",
    "\n",
    "plt.rcParams['figure.dpi'] = 150\n",
    "plt.style.use('Solarize_Light2')\n",
    "# plt.style.use('seaborn')\n",
    "# plt.style.available"
   ]
  },
  {
   "cell_type": "code",
   "execution_count": 143,
   "metadata": {},
   "outputs": [
    {
     "data": {
      "image/png": "[encoded data removed]",
      "text/plain": [
       "<Figure size 480x480 with 1 Axes>"
      ]
     },
     "metadata": {},
     "output_type": "display_data"
    },
    {
     "name": "stdout",
     "output_type": "stream",
     "text": [
      "time: 435 ms (started: 2021-12-08 23:36:37 +00:00)\n"
     ]
    }
   ],
   "source": [
    "fig, ax = plt.subplots(figsize=(4,4))\n",
    "\n",
    "# rel = [\"DIS_DRUG\", \"DIS_PHENOTYPE\", \"DRUG_ACTIVATION_GENE\", \"DRUG_BINDACT_GENE\", \"DRUG_BINDING_GENE\", \"DRUG_BINDINH_GENE\", \"DRUG_CATALYSIS_GENE\", \"DRUG_INHIBITION_GENE\", \"DRUG_PHENOTYPE\", \"DRUG_REACTION_GENE\", \"GENE_ACTIVATION_GENE\", \"GENE_BINDING_GENE\", \"GENE_CATALYSIS_GENE\", \"GENE_DIS\", \"GENE_DRUG\", \"GENE_EXPRESSED_ANATOMY\", \"GENE_EXPRESSION_GENE\", \"GENE_GENE\", \"GENE_GO\", \"GENE_INHIBITION_GENE\", \"GENE_OVEREXPRESSED_ANATOMY\", \"GENE_PATHWAY\", \"GENE_PHENOTYPE\", \"GENE_PTMOD_GENE\", \"GENE_REACTION_GENE\", \"GENE_UNDEREXPRESSED_ANATOMY\", \"IS_A\", \"PART_OF\"]\n",
    "# distri = [0.1526, 0.5104, 0.2802, 0.0267, 3.8515, 0.0439, 0.5449, 0.3545, 1.9181, 0.4348, 0.5952, 5.5426, 5.9012, 0.0634, 3.8931, 31.5587, 0.0017, 16.8783, 4.3937, 0.2179, 2.8736, 2.9207, 3.4674, 0.0988, 7.5180, 2.7819, 2.8205, 0.3557]\n",
    "rel_type = [\"Symmetric\", \"Anti-symmetric\", \"Transitive\", \"1-to-N\"]\n",
    "rel_type_distri = [19.0606,63.2480,14.2323,92.2020]\n",
    "x_pos = np.arange(len(rel_type))\n",
    "width = 0.8\n",
    "bar = ax.bar(x_pos - width / 2, rel_type_distri, width)\n",
    "ax.set_xticks(x_pos - width / 2, labels=rel_type)\n",
    "ax.set_xlabel(\"Relation types\")\n",
    "ax.set_ylabel(\"Proportion: %\")\n",
    "ax.bar_label(bar)\n",
    "# for bin in bar:\n",
    "#     height = bin.get_height()\n",
    "#     ax.text(x=bin.get_x() + bin.get_width() / 2, y=height-10,\n",
    "#         s=\"{}\".format(height),\n",
    "#         ha='center')\n",
    "plt.show()\n",
    "# plt.savefig(\"relation_quantity.png\")"
   ]
  },
  {
   "cell_type": "code",
   "execution_count": 98,
   "metadata": {},
   "outputs": [
    {
     "name": "stdout",
     "output_type": "stream",
     "text": [
      "time: 544 µs (started: 2021-12-08 21:58:50 +00:00)\n"
     ]
    }
   ],
   "source": [
    "plt.rcParams['figure.dpi'] = 120"
   ]
  },
  {
   "cell_type": "code",
   "execution_count": 195,
   "metadata": {},
   "outputs": [
    {
     "data": {
      "image/png": "[encoded data removed]",
      "text/plain": [
       "<Figure size 960x660 with 1 Axes>"
      ]
     },
     "metadata": {},
     "output_type": "display_data"
    },
    {
     "name": "stdout",
     "output_type": "stream",
     "text": [
      "time: 710 ms (started: 2021-12-09 15:55:46 +00:00)\n"
     ]
    }
   ],
   "source": [
    "x_label = list(np.arange(28))\n",
    "transe_ = [0.7557, 0.2748, 0.299, 0.6757, 0.6958, 0.7174, 0.6355, 0.4205, 0.3434, 0.747, 0.338, 0.4556, 0.4543, 0.6516, 0.3092, 0.4928, 0.125, 0.2132, 0.2905, 0.3824, 0.2074, 0.6652, 0.2548, 0.1909, 0.5487, 0.1674, 0.1963, 0.1763]\n",
    "dist_ = [0.77, 0.2692, 0.4711, 0.7162, 0.7446, 0.7, 0.7405, 0.5464, 0.265, 0.9163, 0.725, 0.7162, 0.6079, 0.5742, 0.2846, 0.5541, 0.25, 0.2422, 0.268, 0.7807, 0.3024, 0.7751, 0.2691, 0.6673, 0.666, 0.3097, 0.2325, 0.1929]\n",
    "cplx_ = [0.7157, 0.2313, 0.3769, 0.6554, 0.7361, 0.6826, 0.6498, 0.4616, 0.2499, 0.8913, 0.559, 0.5496, 0.5103, 0.5097, 0.2783, 0.5029, 0.375, 0.2217, 0.2534, 0.5053, 0.3061, 0.6833, 0.2355, 0.3618, 0.6108, 0.3331, 0.2434, 0.1695]\n",
    "hb_td_ = [0.8014, 0.3062, 0.4703, 0.7162, 0.7656, 0.7261, 0.7504, 0.5603, 0.3039, 0.9123, 0.7489, 0.6913, 0.5969, 0.671, 0.345, 0.5644, 0.25, 0.2479, 0.3234, 0.8075, 0.3342, 0.8016, 0.2988, 0.6273, 0.643, 0.3449, 0.2848, 0.2297]\n",
    "hb_dcr_ = [0.7971, 0.3045, 0.477, 0.7365, 0.7781, 0.7348, 0.754, 0.5669, 0.3167, 0.9248, 0.7682, 0.7087, 0.6226, 0.6452, 0.3179, 0.5762, 0.5, 0.2542, 0.3115, 0.803, 0.3417, 0.8028, 0.3161, 0.6655, 0.6596, 0.348, 0.2949, 0.234]\n",
    "hb_dc_ = [0.7971, 0.3071, 0.4763, 0.7162, 0.7814, 0.7348, 0.7548, 0.5629, 0.3226, 0.9248, 0.7732, 0.7036, 0.6205, 0.6484, 0.3146, 0.58, 0.5, 0.2606, 0.3149, 0.8084, 0.3478, 0.8014, 0.3193, 0.6636, 0.6584, 0.3554, 0.3011, 0.2346]\n",
    "\n",
    "x = np.arange(28)\n",
    "width = 0.15\n",
    "\n",
    "fig, ax = plt.subplots()\n",
    "rects1 = ax.bar(x - width * 2, transe_, width, label='TransE')\n",
    "rects2 = ax.bar(x - width, dist_, width, label='DistMult')\n",
    "rects3 = ax.bar(x, cplx_, width, label='ComplEx')\n",
    "rects4 = ax.bar(x + width, hb_td_, width, label='T+D')\n",
    "# rects5 = ax.bar(x + width * 2, hb_dcr_, width, label='D+C+r')\n",
    "rects5 = ax.bar(x + width * 2, hb_dc_, width, label='D+C')\n",
    "\n",
    "ax.set_xlabel(\"Relations\")\n",
    "ax.set_ylabel(\"HITS@10\")\n",
    "# ax.set_title(\"HITS@10 \")\n",
    "ax.set_xticks(x, x_label)\n",
    "ax.legend()\n",
    "\n",
    "fig.tight_layout()\n",
    "plt.show()\n"
   ]
  },
  {
   "cell_type": "code",
   "execution_count": 193,
   "metadata": {},
   "outputs": [
    {
     "name": "stdout",
     "output_type": "stream",
     "text": [
      "[0.7971, 0.3071, 0.4763, 0.7162, 0.7814, 0.7348, 0.7548, 0.5629, 0.3226, 0.9248, 0.7732, 0.7036, 0.6205, 0.6484, 0.3146, 0.58, 0.5, 0.2606, 0.3149, 0.8084, 0.3478, 0.8014, 0.3193, 0.6636, 0.6584, 0.3554, 0.3011, 0.2346]\n",
      "time: 109 ms (started: 2021-12-09 15:53:37 +00:00)\n"
     ]
    }
   ],
   "source": [
    "# this cell is used to convert clipboard to list\n",
    "\n",
    "copy = pd.read_clipboard(header=None)\n",
    "print(copy[0].tolist())"
   ]
  },
  {
   "cell_type": "code",
   "execution_count": null,
   "metadata": {},
   "outputs": [],
   "source": []
  }
 ],
 "metadata": {
  "kernelspec": {
   "display_name": "Python 3.8.11 ('base')",
   "language": "python",
   "name": "python3"
  },
  "language_info": {
   "codemirror_mode": {
    "name": "ipython",
    "version": 3
   },
   "file_extension": ".py",
   "mimetype": "text/x-python",
   "name": "python",
   "nbconvert_exporter": "python",
   "pygments_lexer": "ipython3",
   "version": "3.8.11"
  },
  "vscode": {
   "interpreter": {
    "hash": "770510e7088ace3c32cce6818dde9ebd6e058745eeb50e52cbe80c6047931d25"
   }
  }
 },
 "nbformat": 4,
 "nbformat_minor": 4
}
